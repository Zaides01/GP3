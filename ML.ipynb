{
  "nbformat": 4,
  "nbformat_minor": 0,
  "metadata": {
    "colab": {
      "provenance": [],
      "include_colab_link": true
    },
    "kernelspec": {
      "name": "python3",
      "display_name": "Python 3"
    },
    "language_info": {
      "name": "python"
    }
  },
  "cells": [
    {
      "cell_type": "markdown",
      "metadata": {
        "id": "view-in-github",
        "colab_type": "text"
      },
      "source": [
        "<a href=\"https://colab.research.google.com/github/Zaides01/GP3/blob/main/ML.ipynb\" target=\"_parent\"><img src=\"https://colab.research.google.com/assets/colab-badge.svg\" alt=\"Open In Colab\"/></a>"
      ]
    },
    {
      "cell_type": "code",
      "source": [
        "import numpy as np\n",
        "import pandas as pd\n",
        "from sklearn.model_selection import train_test_split\n",
        "from sklearn.pipeline import Pipeline\n",
        "from sklearn.compose import ColumnTransformer\n",
        "from sklearn.feature_extraction.text import TfidfVectorizer\n",
        "from sklearn.decomposition import TruncatedSVD\n",
        "from sklearn.preprocessing import StandardScaler\n",
        "from sklearn.linear_model  import Ridge\n",
        "from sklearn.tree import DecisionTreeRegressor\n",
        "from sklearn.ensemble import ExtraTreesRegressor\n",
        "from sklearn.neighbors  import KNeighborsRegressor\n",
        "from sklearn.neural_network import MLPRegressor\n",
        "from sklearn.metrics import mean_absolute_error\n",
        "from sklearn.metrics import mean_squared_error\n",
        "from sklearn.metrics import r2_score\n",
        "from sklearn.metrics import accuracy_score"
      ],
      "metadata": {
        "id": "DGQuk7EgUrS4"
      },
      "execution_count": null,
      "outputs": []
    },
    {
      "cell_type": "markdown",
      "source": [
        "### Чтение файла"
      ],
      "metadata": {
        "id": "QOm7Qvzink6c"
      }
    },
    {
      "cell_type": "code",
      "source": [
        "df = (pd.read_csv('df_maps.csv').dropna(subset=['text_lemmas', 'rating']))"
      ],
      "metadata": {
        "id": "X9kIpBHgUs6u"
      },
      "execution_count": null,
      "outputs": []
    },
    {
      "cell_type": "markdown",
      "source": [
        "### Разметка данных"
      ],
      "metadata": {
        "id": "nUxiPhOwns33"
      }
    },
    {
      "cell_type": "code",
      "source": [
        "X_train, X_test, y_train, y_test = train_test_split(df['text_lemmas'],df['rating'].astype(float),test_size=.2, random_state=42, stratify=df['rating'])"
      ],
      "metadata": {
        "id": "LT70yAJ4njKg"
      },
      "execution_count": null,
      "outputs": []
    },
    {
      "cell_type": "markdown",
      "source": [
        "### Пайплайн"
      ],
      "metadata": {
        "id": "lqsU34hSnxAq"
      }
    },
    {
      "cell_type": "code",
      "source": [
        "text_pipe = Pipeline([('tfidf', TfidfVectorizer(max_features=6000,ngram_range=(1,2),token_pattern=r'\\b[а-яё]+\\b')),('svd',   TruncatedSVD(n_components=200, random_state=42)),('sc',    StandardScaler(with_mean=False))])\n",
        "text_pipe.fit(X_train)\n",
        "X_train_vec = text_pipe.transform(X_train)\n",
        "X_test_vec  = text_pipe.transform(X_test)"
      ],
      "metadata": {
        "id": "2C60givxUvDx"
      },
      "execution_count": null,
      "outputs": []
    },
    {
      "cell_type": "markdown",
      "source": [
        "### Сравниваем 5 моделей МО\n",
        "\n"
      ],
      "metadata": {
        "id": "1etA-H0An1JR"
      }
    },
    {
      "cell_type": "code",
      "source": [
        "ridge = Ridge(alpha=1.0, random_state=42)\n",
        "ridge.fit(X_train_vec, y_train)\n",
        "y_pred_ridge  = ridge.predict(X_test_vec)\n",
        "y_round_ridge = np.clip(np.rint(y_pred_ridge), 1, 5)\n",
        "print(\"mae\", mean_absolute_error(y_test, y_pred_ridge))\n",
        "print(\"rmse\", mean_squared_error(y_test, y_pred_ridge))\n",
        "print(\"R^2\", r2_score(y_test, y_pred_ridge))\n",
        "print(\"accuracy\", accuracy_score(y_test, y_round_ridge))"
      ],
      "metadata": {
        "colab": {
          "base_uri": "https://localhost:8080/"
        },
        "id": "0S26-YeZVDAT",
        "outputId": "41db4e6e-0cd5-4286-d078-17320bd4fd47"
      },
      "execution_count": null,
      "outputs": [
        {
          "output_type": "stream",
          "name": "stdout",
          "text": [
            "mae 0.5244307923034988\n",
            "rmse 0.5555303398046914\n",
            "R^2 0.5400346385945249\n",
            "accuracy 0.6599268511489891\n"
          ]
        }
      ]
    },
    {
      "cell_type": "code",
      "source": [
        "tree = DecisionTreeRegressor(max_depth=20,min_samples_leaf=5,random_state=42)\n",
        "tree.fit(X_train_vec, y_train)\n",
        "y_pred_tree  = tree.predict(X_test_vec)\n",
        "y_round_tree = np.clip(np.rint(y_pred_tree), 1, 5)\n",
        "print(\"mae\", mean_absolute_error(y_test, y_pred_tree))\n",
        "print(\"rmse\", mean_squared_error(y_test, y_pred_tree))\n",
        "print(\"R^2\", r2_score(y_test, y_pred_tree))\n",
        "print(\"accuracy\", accuracy_score(y_test, y_round_tree))"
      ],
      "metadata": {
        "colab": {
          "base_uri": "https://localhost:8080/"
        },
        "id": "RhARJBNoVHX4",
        "outputId": "128369f3-ccc8-4822-f752-8833a09a99a9"
      },
      "execution_count": null,
      "outputs": [
        {
          "output_type": "stream",
          "name": "stdout",
          "text": [
            "mae 0.4560659642476801\n",
            "rmse 0.913062683168444\n",
            "R^2 0.24400671402199547\n",
            "accuracy 0.7336967773100546\n"
          ]
        }
      ]
    },
    {
      "cell_type": "code",
      "source": [
        "extra = ExtraTreesRegressor(n_estimators=50,n_jobs=-1,random_state=42)\n",
        "extra.fit(X_train_vec, y_train)\n",
        "y_pred_extra  = extra.predict(X_test_vec)\n",
        "y_round_extra = np.clip(np.rint(y_pred_extra), 1, 5)\n",
        "print(\"mae\", mean_absolute_error(y_test, y_pred_extra))\n",
        "print(\"rmse\", mean_squared_error(y_test, y_pred_extra))\n",
        "print(\"R^2\", r2_score(y_test, y_pred_extra))\n",
        "print(\"accuracy\", accuracy_score(y_test, y_round_extra))"
      ],
      "metadata": {
        "colab": {
          "base_uri": "https://localhost:8080/"
        },
        "id": "jwtMbj6bVT3W",
        "outputId": "5e7bdf5b-71b0-4e60-dda1-f3cabb148094"
      },
      "execution_count": null,
      "outputs": [
        {
          "output_type": "stream",
          "name": "stdout",
          "text": [
            "mae 0.4033436845858348\n",
            "rmse 0.5049247398768585\n",
            "R^2 0.5819348218826781\n",
            "accuracy 0.7292112345593816\n"
          ]
        }
      ]
    },
    {
      "cell_type": "code",
      "source": [
        "knn = KNeighborsRegressor(n_neighbors=10,weights='distance',n_jobs=-1)\n",
        "knn.fit(X_train_vec, y_train)\n",
        "y_pred_knn  = knn.predict(X_test_vec)\n",
        "y_round_knn = np.clip(np.rint(y_pred_knn), 1, 5)\n",
        "print(\"mae\", mean_absolute_error(y_test, y_pred_knn))\n",
        "print(\"rmse\", mean_squared_error(y_test, y_pred_knn))\n",
        "print(\"R^2\", r2_score(y_test, y_pred_knn))\n",
        "print(\"accuracy\", accuracy_score(y_test, y_round_knn))"
      ],
      "metadata": {
        "colab": {
          "base_uri": "https://localhost:8080/"
        },
        "id": "rMsMFf3qWLj2",
        "outputId": "a6afc10e-666c-4ff7-98c7-59f7b04d0159"
      },
      "execution_count": null,
      "outputs": [
        {
          "output_type": "stream",
          "name": "stdout",
          "text": [
            "mae 0.6690819886752539\n",
            "rmse 0.8956923458145231\n",
            "R^2 0.2583889231044737\n",
            "accuracy 0.5140431992271065\n"
          ]
        }
      ]
    },
    {
      "cell_type": "code",
      "source": [
        "mlp = MLPRegressor(hidden_layer_sizes=(64,32),learning_rate_init=3e-3,max_iter=200,random_state=42,verbose=False)\n",
        "mlp.fit(X_train_vec, y_train)\n",
        "y_pred_mlp  = mlp.predict(X_test_vec)\n",
        "y_round_mlp = np.clip(np.rint(y_pred_mlp), 1, 5)\n",
        "print(\"mae\", mean_absolute_error(y_test, y_pred_mlp))\n",
        "print(\"rmse\", mean_squared_error(y_test, y_pred_mlp))\n",
        "print(\"R^2\", r2_score(y_test, y_pred_mlp))\n",
        "print(\"accuracy\", accuracy_score(y_test, y_round_mlp))"
      ],
      "metadata": {
        "colab": {
          "base_uri": "https://localhost:8080/"
        },
        "id": "3t0iLvnZWYm0",
        "outputId": "9abc7153-1b10-44c8-fe85-d5da9440c9f3"
      },
      "execution_count": null,
      "outputs": [
        {
          "output_type": "stream",
          "name": "stdout",
          "text": [
            "mae 0.39198678869426506\n",
            "rmse 0.6293491961557744\n",
            "R^2 0.47891445395798093\n",
            "accuracy 0.7773790628666069\n"
          ]
        }
      ]
    }
  ]
}