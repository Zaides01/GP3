{
 "cells": [
  {
   "cell_type": "markdown",
   "id": "66d23235",
   "metadata": {},
   "source": [
    "# Чтение данных"
   ]
  },
  {
   "cell_type": "code",
   "execution_count": 73,
   "id": "f760982d",
   "metadata": {},
   "outputs": [],
   "source": [
    "import pandas as pd\n",
    "import numpy as np\n",
    "import matplotlib.pyplot as plt\n",
    "import seaborn as sns\n",
    "#from wordcloud import WordCloud\n",
    "#import nltk\n",
    "#from nltk.corpus import stopwords"
   ]
  },
  {
   "cell_type": "code",
   "execution_count": 9,
   "id": "eaf5771e",
   "metadata": {},
   "outputs": [
    {
     "data": {
      "text/html": [
       "<div>\n",
       "<style scoped>\n",
       "    .dataframe tbody tr th:only-of-type {\n",
       "        vertical-align: middle;\n",
       "    }\n",
       "\n",
       "    .dataframe tbody tr th {\n",
       "        vertical-align: top;\n",
       "    }\n",
       "\n",
       "    .dataframe thead th {\n",
       "        text-align: right;\n",
       "    }\n",
       "</style>\n",
       "<table border=\"1\" class=\"dataframe\">\n",
       "  <thead>\n",
       "    <tr style=\"text-align: right;\">\n",
       "      <th></th>\n",
       "      <th>address</th>\n",
       "      <th>name_ru</th>\n",
       "      <th>rating</th>\n",
       "      <th>rubrics</th>\n",
       "      <th>text</th>\n",
       "    </tr>\n",
       "  </thead>\n",
       "  <tbody>\n",
       "    <tr>\n",
       "      <th>0</th>\n",
       "      <td>Екатеринбург, ул. Московская / ул. Волгоградск...</td>\n",
       "      <td>Московский квартал</td>\n",
       "      <td>3.</td>\n",
       "      <td>Жилой комплекс</td>\n",
       "      <td>Московский квартал 2.\\nШумно : летом по ночам ...</td>\n",
       "    </tr>\n",
       "    <tr>\n",
       "      <th>1</th>\n",
       "      <td>Московская область, Электросталь, проспект Лен...</td>\n",
       "      <td>Продукты Ермолино</td>\n",
       "      <td>5.</td>\n",
       "      <td>Магазин продуктов;Продукты глубокой заморозки;...</td>\n",
       "      <td>Замечательная сеть магазинов в общем, хороший ...</td>\n",
       "    </tr>\n",
       "    <tr>\n",
       "      <th>2</th>\n",
       "      <td>Краснодар, Прикубанский внутригородской округ,...</td>\n",
       "      <td>LimeFit</td>\n",
       "      <td>1.</td>\n",
       "      <td>Фитнес-клуб</td>\n",
       "      <td>Не знаю смутят ли кого-то данные правила, но я...</td>\n",
       "    </tr>\n",
       "    <tr>\n",
       "      <th>3</th>\n",
       "      <td>Санкт-Петербург, проспект Энгельса, 111, корп. 1</td>\n",
       "      <td>Snow-Express</td>\n",
       "      <td>4.</td>\n",
       "      <td>Пункт проката;Прокат велосипедов;Сапсёрфинг</td>\n",
       "      <td>Хорошие условия аренды. \\nДружелюбный персонал...</td>\n",
       "    </tr>\n",
       "    <tr>\n",
       "      <th>4</th>\n",
       "      <td>Тверь, Волоколамский проспект, 39</td>\n",
       "      <td>Студия Beauty Brow</td>\n",
       "      <td>5.</td>\n",
       "      <td>Салон красоты;Визажисты, стилисты;Салон бровей...</td>\n",
       "      <td>Топ мастер Ангелина топ во всех смыслах ) Немн...</td>\n",
       "    </tr>\n",
       "  </tbody>\n",
       "</table>\n",
       "</div>"
      ],
      "text/plain": [
       "                                             address             name_ru  \\\n",
       "0  Екатеринбург, ул. Московская / ул. Волгоградск...  Московский квартал   \n",
       "1  Московская область, Электросталь, проспект Лен...   Продукты Ермолино   \n",
       "2  Краснодар, Прикубанский внутригородской округ,...             LimeFit   \n",
       "3   Санкт-Петербург, проспект Энгельса, 111, корп. 1        Snow-Express   \n",
       "4                  Тверь, Волоколамский проспект, 39  Студия Beauty Brow   \n",
       "\n",
       "  rating                                            rubrics  \\\n",
       "0     3.                                     Жилой комплекс   \n",
       "1     5.  Магазин продуктов;Продукты глубокой заморозки;...   \n",
       "2     1.                                        Фитнес-клуб   \n",
       "3     4.        Пункт проката;Прокат велосипедов;Сапсёрфинг   \n",
       "4     5.  Салон красоты;Визажисты, стилисты;Салон бровей...   \n",
       "\n",
       "                                                text  \n",
       "0  Московский квартал 2.\\nШумно : летом по ночам ...  \n",
       "1  Замечательная сеть магазинов в общем, хороший ...  \n",
       "2  Не знаю смутят ли кого-то данные правила, но я...  \n",
       "3  Хорошие условия аренды. \\nДружелюбный персонал...  \n",
       "4  Топ мастер Ангелина топ во всех смыслах ) Немн...  "
      ]
     },
     "execution_count": 9,
     "metadata": {},
     "output_type": "execute_result"
    }
   ],
   "source": [
    "filename = 'geo-reviews-dataset-2023.tskv'\n",
    "\n",
    "all_records = []\n",
    "\n",
    "with open(filename, 'r', encoding='utf-8') as f:\n",
    "    for line in f:\n",
    "        if not line.strip():\n",
    "            continue\n",
    "            \n",
    "        record_dict = {}\n",
    "        \n",
    "        pairs = line.strip().split('\\t')\n",
    "        \n",
    "        for pair in pairs:\n",
    "            try:\n",
    "                key, value = pair.split('=', 1)\n",
    "                record_dict[key] = value\n",
    "            except ValueError:\n",
    "                pass\n",
    "                \n",
    "        all_records.append(record_dict)\n",
    "\n",
    "df = pd.DataFrame(all_records)\n",
    "\n",
    "df.head()\n"
   ]
  },
  {
   "cell_type": "markdown",
   "id": "6ae0ba8b",
   "metadata": {},
   "source": [
    "# EDA"
   ]
  },
  {
   "cell_type": "markdown",
   "id": "4c77c99d",
   "metadata": {},
   "source": [
    "Посмотрим на состав данных"
   ]
  },
  {
   "cell_type": "code",
   "execution_count": 16,
   "id": "1d4e585c",
   "metadata": {},
   "outputs": [
    {
     "name": "stdout",
     "output_type": "stream",
     "text": [
      "<class 'pandas.core.frame.DataFrame'>\n",
      "RangeIndex: 500000 entries, 0 to 499999\n",
      "Data columns (total 5 columns):\n",
      " #   Column   Non-Null Count   Dtype \n",
      "---  ------   --------------   ----- \n",
      " 0   address  500000 non-null  object\n",
      " 1   name_ru  499030 non-null  object\n",
      " 2   rating   500000 non-null  object\n",
      " 3   rubrics  500000 non-null  object\n",
      " 4   text     500000 non-null  object\n",
      "dtypes: object(5)\n",
      "memory usage: 19.1+ MB\n"
     ]
    }
   ],
   "source": [
    "df.info()"
   ]
  },
  {
   "cell_type": "markdown",
   "id": "811f319f",
   "metadata": {},
   "source": [
    "## Преобразование типов"
   ]
  },
  {
   "cell_type": "code",
   "execution_count": 25,
   "id": "4abfc169",
   "metadata": {},
   "outputs": [
    {
     "data": {
      "text/plain": [
       "rating\n",
       "5.0    390515\n",
       "4.0     41160\n",
       "1.0     34351\n",
       "3.0     21686\n",
       "2.0     12088\n",
       "0.0       200\n",
       "Name: count, dtype: int64"
      ]
     },
     "execution_count": 25,
     "metadata": {},
     "output_type": "execute_result"
    }
   ],
   "source": [
    "df['rating'] = pd.to_numeric(df['rating'])\n",
    "df['rating'].value_counts(dropna=False)"
   ]
  },
  {
   "cell_type": "markdown",
   "id": "f2494332",
   "metadata": {},
   "source": [
    "## Заполнение пропусков"
   ]
  },
  {
   "cell_type": "markdown",
   "id": "6023f458",
   "metadata": {},
   "source": [
    "Видим, что у 970 отзывов нет названия организаций, посмотрим на эти данные"
   ]
  },
  {
   "cell_type": "code",
   "execution_count": null,
   "id": "7617a176",
   "metadata": {},
   "outputs": [
    {
     "data": {
      "text/html": [
       "<div>\n",
       "<style scoped>\n",
       "    .dataframe tbody tr th:only-of-type {\n",
       "        vertical-align: middle;\n",
       "    }\n",
       "\n",
       "    .dataframe tbody tr th {\n",
       "        vertical-align: top;\n",
       "    }\n",
       "\n",
       "    .dataframe thead th {\n",
       "        text-align: right;\n",
       "    }\n",
       "</style>\n",
       "<table border=\"1\" class=\"dataframe\">\n",
       "  <thead>\n",
       "    <tr style=\"text-align: right;\">\n",
       "      <th></th>\n",
       "      <th>address</th>\n",
       "      <th>name_ru</th>\n",
       "      <th>rating</th>\n",
       "      <th>rubrics</th>\n",
       "      <th>text</th>\n",
       "    </tr>\n",
       "  </thead>\n",
       "  <tbody>\n",
       "    <tr>\n",
       "      <th>322</th>\n",
       "      <td>Москва, 8-я улица Соколиной Горы, 15А, стр. 23</td>\n",
       "      <td>NaN</td>\n",
       "      <td>5.</td>\n",
       "      <td>Офис организации</td>\n",
       "      <td>Ребята профи!\\n\\nОтлично подобрали модель, съе...</td>\n",
       "    </tr>\n",
       "    <tr>\n",
       "      <th>5716</th>\n",
       "      <td>Челябинская область, Златоуст, Таганайская ули...</td>\n",
       "      <td>NaN</td>\n",
       "      <td>5.</td>\n",
       "      <td>Гостиница</td>\n",
       "      <td>Гостиница действительно хорошая, удобно распол...</td>\n",
       "    </tr>\n",
       "    <tr>\n",
       "      <th>5717</th>\n",
       "      <td>Челябинская область, Златоуст, Таганайская ули...</td>\n",
       "      <td>NaN</td>\n",
       "      <td>5.</td>\n",
       "      <td>Гостиница</td>\n",
       "      <td>Был здесь на кулинарном мастер-классе. Место а...</td>\n",
       "    </tr>\n",
       "    <tr>\n",
       "      <th>5718</th>\n",
       "      <td>Челябинская область, Златоуст, Таганайская ули...</td>\n",
       "      <td>NaN</td>\n",
       "      <td>5.</td>\n",
       "      <td>Гостиница</td>\n",
       "      <td>Тихое место, в выходные возможно и шумно так к...</td>\n",
       "    </tr>\n",
       "    <tr>\n",
       "      <th>5719</th>\n",
       "      <td>Челябинская область, Златоуст, Таганайская ули...</td>\n",
       "      <td>NaN</td>\n",
       "      <td>5.</td>\n",
       "      <td>Гостиница</td>\n",
       "      <td>Воспитанные и отзывчивые официанты , вкусная к...</td>\n",
       "    </tr>\n",
       "    <tr>\n",
       "      <th>...</th>\n",
       "      <td>...</td>\n",
       "      <td>...</td>\n",
       "      <td>...</td>\n",
       "      <td>...</td>\n",
       "      <td>...</td>\n",
       "    </tr>\n",
       "    <tr>\n",
       "      <th>498536</th>\n",
       "      <td>Республика Башкортостан, Уфа, улица Менделеева...</td>\n",
       "      <td>NaN</td>\n",
       "      <td>5.</td>\n",
       "      <td>Скалодром;Спортивный клуб, секция</td>\n",
       "      <td>Были с детьми на 8 марта. Приехали специально ...</td>\n",
       "    </tr>\n",
       "    <tr>\n",
       "      <th>498688</th>\n",
       "      <td>Москва, Юго-Восточный административный округ, ...</td>\n",
       "      <td>NaN</td>\n",
       "      <td>5.</td>\n",
       "      <td>Изготовление памятников и надгробий;Изделия из...</td>\n",
       "      <td>Отличное качество материала, прекрасное исполн...</td>\n",
       "    </tr>\n",
       "    <tr>\n",
       "      <th>498913</th>\n",
       "      <td>Самарская область, Волжский район, жилой район...</td>\n",
       "      <td>NaN</td>\n",
       "      <td>1.</td>\n",
       "      <td>Магазин цветов;Копировальный центр;Товары для ...</td>\n",
       "      <td>Цен на цветы которые находятся на витрине нет,...</td>\n",
       "    </tr>\n",
       "    <tr>\n",
       "      <th>499006</th>\n",
       "      <td>Волгоград, улица Гроссмана, 6</td>\n",
       "      <td>NaN</td>\n",
       "      <td>5.</td>\n",
       "      <td>Салон красоты</td>\n",
       "      <td>Квалифицированные мастера. Работу выполняют с ...</td>\n",
       "    </tr>\n",
       "    <tr>\n",
       "      <th>499997</th>\n",
       "      <td>Новосибирск, Коммунистическая улица, 48А</td>\n",
       "      <td>NaN</td>\n",
       "      <td>5.</td>\n",
       "      <td>Бар, паб</td>\n",
       "      <td>Приятная атмосфера, прекрасное вино, волшебная...</td>\n",
       "    </tr>\n",
       "  </tbody>\n",
       "</table>\n",
       "<p>970 rows × 5 columns</p>\n",
       "</div>"
      ],
      "text/plain": [
       "                                                  address name_ru rating  \\\n",
       "322        Москва, 8-я улица Соколиной Горы, 15А, стр. 23     NaN     5.   \n",
       "5716    Челябинская область, Златоуст, Таганайская ули...     NaN     5.   \n",
       "5717    Челябинская область, Златоуст, Таганайская ули...     NaN     5.   \n",
       "5718    Челябинская область, Златоуст, Таганайская ули...     NaN     5.   \n",
       "5719    Челябинская область, Златоуст, Таганайская ули...     NaN     5.   \n",
       "...                                                   ...     ...    ...   \n",
       "498536  Республика Башкортостан, Уфа, улица Менделеева...     NaN     5.   \n",
       "498688  Москва, Юго-Восточный административный округ, ...     NaN     5.   \n",
       "498913  Самарская область, Волжский район, жилой район...     NaN     1.   \n",
       "499006                      Волгоград, улица Гроссмана, 6     NaN     5.   \n",
       "499997           Новосибирск, Коммунистическая улица, 48А     NaN     5.   \n",
       "\n",
       "                                                  rubrics  \\\n",
       "322                                      Офис организации   \n",
       "5716                                            Гостиница   \n",
       "5717                                            Гостиница   \n",
       "5718                                            Гостиница   \n",
       "5719                                            Гостиница   \n",
       "...                                                   ...   \n",
       "498536                  Скалодром;Спортивный клуб, секция   \n",
       "498688  Изготовление памятников и надгробий;Изделия из...   \n",
       "498913  Магазин цветов;Копировальный центр;Товары для ...   \n",
       "499006                                      Салон красоты   \n",
       "499997                                           Бар, паб   \n",
       "\n",
       "                                                     text  \n",
       "322     Ребята профи!\\n\\nОтлично подобрали модель, съе...  \n",
       "5716    Гостиница действительно хорошая, удобно распол...  \n",
       "5717    Был здесь на кулинарном мастер-классе. Место а...  \n",
       "5718    Тихое место, в выходные возможно и шумно так к...  \n",
       "5719    Воспитанные и отзывчивые официанты , вкусная к...  \n",
       "...                                                   ...  \n",
       "498536  Были с детьми на 8 марта. Приехали специально ...  \n",
       "498688  Отличное качество материала, прекрасное исполн...  \n",
       "498913  Цен на цветы которые находятся на витрине нет,...  \n",
       "499006  Квалифицированные мастера. Работу выполняют с ...  \n",
       "499997  Приятная атмосфера, прекрасное вино, волшебная...  \n",
       "\n",
       "[970 rows x 5 columns]"
      ]
     },
     "execution_count": 17,
     "metadata": {},
     "output_type": "execute_result"
    }
   ],
   "source": [
    "df[df['name_ru'].isna()]"
   ]
  },
  {
   "cell_type": "markdown",
   "id": "418266e1",
   "metadata": {},
   "source": [
    "Судя по адресам таких организаций 576 - вручную найти и проставить названия будет сложно"
   ]
  },
  {
   "cell_type": "code",
   "execution_count": 18,
   "id": "3297a2af",
   "metadata": {},
   "outputs": [
    {
     "data": {
      "text/plain": [
       "address\n",
       "Новгородская область, 49Н-1234                                                                16\n",
       "Санкт-Петербург, улица Рентгена, 19                                                           16\n",
       "Республика Карелия, Петрозаводск, улица Федосовой, 30                                         13\n",
       "Краснодарский край, Сочи, микрорайон Центральный, Навагинская улица, 11, корп. 5              12\n",
       "Новгородская область, Окуловский район, Турбинное сельское поселение, М-11, 423-й километр    11\n",
       "                                                                                              ..\n",
       "Москва, Дубининская улица, 67к2                                                                1\n",
       "Республика Коми, Сыктывкар, Сысольское шоссе, 7/1                                              1\n",
       "Хабаровск, Морская улица, 7                                                                    1\n",
       "Ханты-Мансийский автономный округ, Урай, микрорайон Западный, 12Б                              1\n",
       "Новосибирск, Коммунистическая улица, 48А                                                       1\n",
       "Name: count, Length: 576, dtype: int64"
      ]
     },
     "execution_count": 18,
     "metadata": {},
     "output_type": "execute_result"
    }
   ],
   "source": [
    "df[df['name_ru'].isna()]['address'].value_counts()"
   ]
  },
  {
   "cell_type": "markdown",
   "id": "2ef7062f",
   "metadata": {},
   "source": [
    "Но мы можем проверить, вдруг есть строки, где адрес проставлен, совпадает рубрика и есть название"
   ]
  },
  {
   "cell_type": "code",
   "execution_count": 26,
   "id": "6f9ddafe",
   "metadata": {},
   "outputs": [],
   "source": [
    "df_with_names = df.dropna(subset=['name_ru'])"
   ]
  },
  {
   "cell_type": "code",
   "execution_count": 35,
   "id": "1d51000c",
   "metadata": {},
   "outputs": [],
   "source": [
    "address_to_name_map = df_with_names.drop_duplicates(subset=['address', 'rubrics']).set_index(['address', 'rubrics'])['name_ru']"
   ]
  },
  {
   "cell_type": "code",
   "execution_count": 37,
   "id": "9fd29751",
   "metadata": {},
   "outputs": [
    {
     "data": {
      "text/plain": [
       "address                                                                                                           rubrics                                                           \n",
       "Екатеринбург, ул. Московская / ул. Волгоградская / ул. Печатников                                                 Жилой комплекс                                                        Московский квартал\n",
       "Московская область, Электросталь, проспект Ленина, 29                                                             Магазин продуктов;Продукты глубокой заморозки;Магазин мяса, колбас     Продукты Ермолино\n",
       "Краснодар, Прикубанский внутригородской округ, микрорайон имени Петра Метальникова, улица Петра Метальникова, 26  Фитнес-клуб                                                                      LimeFit\n",
       "Санкт-Петербург, проспект Энгельса, 111, корп. 1                                                                  Пункт проката;Прокат велосипедов;Сапсёрфинг                                 Snow-Express\n",
       "Тверь, Волоколамский проспект, 39                                                                                 Салон красоты;Визажисты, стилисты;Салон бровей и ресниц               Студия Beauty Brow\n",
       "Name: name_ru, dtype: object"
      ]
     },
     "execution_count": 37,
     "metadata": {},
     "output_type": "execute_result"
    }
   ],
   "source": [
    "address_to_name_map.head()"
   ]
  },
  {
   "cell_type": "code",
   "execution_count": 39,
   "id": "803a02e8",
   "metadata": {},
   "outputs": [
    {
     "data": {
      "text/plain": [
       "(272722,)"
      ]
     },
     "execution_count": 39,
     "metadata": {},
     "output_type": "execute_result"
    }
   ],
   "source": [
    "address_to_name_map.shape"
   ]
  },
  {
   "cell_type": "markdown",
   "id": "c0a94636",
   "metadata": {},
   "source": [
    "272 722 известные организации"
   ]
  },
  {
   "cell_type": "code",
   "execution_count": null,
   "id": "859f289d",
   "metadata": {},
   "outputs": [
    {
     "data": {
      "text/plain": [
       "0         False\n",
       "1         False\n",
       "2         False\n",
       "3         False\n",
       "4         False\n",
       "          ...  \n",
       "499995    False\n",
       "499996    False\n",
       "499997     True\n",
       "499998    False\n",
       "499999    False\n",
       "Name: name_ru, Length: 500000, dtype: bool"
      ]
     },
     "execution_count": 49,
     "metadata": {},
     "output_type": "execute_result"
    }
   ],
   "source": [
    "rows_to_fill = df['name_ru'].isnull()"
   ]
  },
  {
   "cell_type": "code",
   "execution_count": 45,
   "id": "65502dd5",
   "metadata": {},
   "outputs": [
    {
     "data": {
      "text/plain": [
       "Series([], Name: address, dtype: object)"
      ]
     },
     "execution_count": 45,
     "metadata": {},
     "output_type": "execute_result"
    }
   ],
   "source": [
    "df.loc[rows_to_fill, 'address'].map(address_to_name_map).dropna()"
   ]
  },
  {
   "cell_type": "markdown",
   "id": "70087aa3",
   "metadata": {},
   "source": [
    "Понимаем, что адреса пустых организаций нигде не повторяются, где названия есть. Так как нам не особо важно название организации, а все остальные данные по ним есть, давайте сгруппируем их по адресу и рубрике (с большой вероятностью это одна и та же организация) и дадим название \"Неизвестная организация N\" - где N просто номер "
   ]
  },
  {
   "cell_type": "markdown",
   "id": "17bb5bc7",
   "metadata": {},
   "source": [
    "На всякий проверим, что нет организаций с похожими названиями"
   ]
  },
  {
   "cell_type": "code",
   "execution_count": 48,
   "id": "b113120b",
   "metadata": {},
   "outputs": [
    {
     "data": {
      "text/html": [
       "<div>\n",
       "<style scoped>\n",
       "    .dataframe tbody tr th:only-of-type {\n",
       "        vertical-align: middle;\n",
       "    }\n",
       "\n",
       "    .dataframe tbody tr th {\n",
       "        vertical-align: top;\n",
       "    }\n",
       "\n",
       "    .dataframe thead th {\n",
       "        text-align: right;\n",
       "    }\n",
       "</style>\n",
       "<table border=\"1\" class=\"dataframe\">\n",
       "  <thead>\n",
       "    <tr style=\"text-align: right;\">\n",
       "      <th></th>\n",
       "      <th>address</th>\n",
       "      <th>name_ru</th>\n",
       "      <th>rating</th>\n",
       "      <th>rubrics</th>\n",
       "      <th>text</th>\n",
       "    </tr>\n",
       "  </thead>\n",
       "  <tbody>\n",
       "  </tbody>\n",
       "</table>\n",
       "</div>"
      ],
      "text/plain": [
       "Empty DataFrame\n",
       "Columns: [address, name_ru, rating, rubrics, text]\n",
       "Index: []"
      ]
     },
     "execution_count": 48,
     "metadata": {},
     "output_type": "execute_result"
    }
   ],
   "source": [
    "df[df['name_ru'].str.contains(\"Неизвестная\") == True]"
   ]
  },
  {
   "cell_type": "code",
   "execution_count": 52,
   "id": "09650fe4",
   "metadata": {},
   "outputs": [
    {
     "name": "stderr",
     "output_type": "stream",
     "text": [
      "/var/folders/wj/jzwd6lfn7xx02ns8v_wr29bm0000gn/T/ipykernel_25010/3864129646.py:2: SettingWithCopyWarning: \n",
      "A value is trying to be set on a copy of a slice from a DataFrame.\n",
      "Try using .loc[row_indexer,col_indexer] = value instead\n",
      "\n",
      "See the caveats in the documentation: https://pandas.pydata.org/pandas-docs/stable/user_guide/indexing.html#returning-a-view-versus-a-copy\n",
      "  df_without_names['key'] = df['address'] + df['rubrics']\n"
     ]
    },
    {
     "data": {
      "text/html": [
       "<div>\n",
       "<style scoped>\n",
       "    .dataframe tbody tr th:only-of-type {\n",
       "        vertical-align: middle;\n",
       "    }\n",
       "\n",
       "    .dataframe tbody tr th {\n",
       "        vertical-align: top;\n",
       "    }\n",
       "\n",
       "    .dataframe thead th {\n",
       "        text-align: right;\n",
       "    }\n",
       "</style>\n",
       "<table border=\"1\" class=\"dataframe\">\n",
       "  <thead>\n",
       "    <tr style=\"text-align: right;\">\n",
       "      <th></th>\n",
       "      <th>address</th>\n",
       "      <th>name_ru</th>\n",
       "      <th>rating</th>\n",
       "      <th>rubrics</th>\n",
       "      <th>text</th>\n",
       "      <th>key</th>\n",
       "    </tr>\n",
       "  </thead>\n",
       "  <tbody>\n",
       "    <tr>\n",
       "      <th>322</th>\n",
       "      <td>Москва, 8-я улица Соколиной Горы, 15А, стр. 23</td>\n",
       "      <td>NaN</td>\n",
       "      <td>5.0</td>\n",
       "      <td>Офис организации</td>\n",
       "      <td>Ребята профи!\\n\\nОтлично подобрали модель, съе...</td>\n",
       "      <td>Москва, 8-я улица Соколиной Горы, 15А, стр. 23...</td>\n",
       "    </tr>\n",
       "    <tr>\n",
       "      <th>5716</th>\n",
       "      <td>Челябинская область, Златоуст, Таганайская ули...</td>\n",
       "      <td>NaN</td>\n",
       "      <td>5.0</td>\n",
       "      <td>Гостиница</td>\n",
       "      <td>Гостиница действительно хорошая, удобно распол...</td>\n",
       "      <td>Челябинская область, Златоуст, Таганайская ули...</td>\n",
       "    </tr>\n",
       "    <tr>\n",
       "      <th>5717</th>\n",
       "      <td>Челябинская область, Златоуст, Таганайская ули...</td>\n",
       "      <td>NaN</td>\n",
       "      <td>5.0</td>\n",
       "      <td>Гостиница</td>\n",
       "      <td>Был здесь на кулинарном мастер-классе. Место а...</td>\n",
       "      <td>Челябинская область, Златоуст, Таганайская ули...</td>\n",
       "    </tr>\n",
       "    <tr>\n",
       "      <th>5718</th>\n",
       "      <td>Челябинская область, Златоуст, Таганайская ули...</td>\n",
       "      <td>NaN</td>\n",
       "      <td>5.0</td>\n",
       "      <td>Гостиница</td>\n",
       "      <td>Тихое место, в выходные возможно и шумно так к...</td>\n",
       "      <td>Челябинская область, Златоуст, Таганайская ули...</td>\n",
       "    </tr>\n",
       "    <tr>\n",
       "      <th>5719</th>\n",
       "      <td>Челябинская область, Златоуст, Таганайская ули...</td>\n",
       "      <td>NaN</td>\n",
       "      <td>5.0</td>\n",
       "      <td>Гостиница</td>\n",
       "      <td>Воспитанные и отзывчивые официанты , вкусная к...</td>\n",
       "      <td>Челябинская область, Златоуст, Таганайская ули...</td>\n",
       "    </tr>\n",
       "  </tbody>\n",
       "</table>\n",
       "</div>"
      ],
      "text/plain": [
       "                                                address name_ru  rating  \\\n",
       "322      Москва, 8-я улица Соколиной Горы, 15А, стр. 23     NaN     5.0   \n",
       "5716  Челябинская область, Златоуст, Таганайская ули...     NaN     5.0   \n",
       "5717  Челябинская область, Златоуст, Таганайская ули...     NaN     5.0   \n",
       "5718  Челябинская область, Златоуст, Таганайская ули...     NaN     5.0   \n",
       "5719  Челябинская область, Златоуст, Таганайская ули...     NaN     5.0   \n",
       "\n",
       "               rubrics                                               text  \\\n",
       "322   Офис организации  Ребята профи!\\n\\nОтлично подобрали модель, съе...   \n",
       "5716         Гостиница  Гостиница действительно хорошая, удобно распол...   \n",
       "5717         Гостиница  Был здесь на кулинарном мастер-классе. Место а...   \n",
       "5718         Гостиница  Тихое место, в выходные возможно и шумно так к...   \n",
       "5719         Гостиница  Воспитанные и отзывчивые официанты , вкусная к...   \n",
       "\n",
       "                                                    key  \n",
       "322   Москва, 8-я улица Соколиной Горы, 15А, стр. 23...  \n",
       "5716  Челябинская область, Златоуст, Таганайская ули...  \n",
       "5717  Челябинская область, Златоуст, Таганайская ули...  \n",
       "5718  Челябинская область, Златоуст, Таганайская ули...  \n",
       "5719  Челябинская область, Златоуст, Таганайская ули...  "
      ]
     },
     "execution_count": 52,
     "metadata": {},
     "output_type": "execute_result"
    }
   ],
   "source": [
    "df_without_names = df[df['name_ru'].isna()]\n",
    "df_without_names['key'] = df['address'] + df['rubrics']\n",
    "df_without_names.head()"
   ]
  },
  {
   "cell_type": "code",
   "execution_count": 56,
   "id": "b2874e8a",
   "metadata": {},
   "outputs": [],
   "source": [
    "unique_missing_keys = df_without_names['key'].unique()\n",
    "key_to_generated_name_map = {key: f\"Неизвестная организация №{i}\" for i, key in enumerate(unique_missing_keys, 1)}"
   ]
  },
  {
   "cell_type": "code",
   "execution_count": 58,
   "id": "d7a0f6d2",
   "metadata": {},
   "outputs": [
    {
     "data": {
      "text/html": [
       "<div>\n",
       "<style scoped>\n",
       "    .dataframe tbody tr th:only-of-type {\n",
       "        vertical-align: middle;\n",
       "    }\n",
       "\n",
       "    .dataframe tbody tr th {\n",
       "        vertical-align: top;\n",
       "    }\n",
       "\n",
       "    .dataframe thead th {\n",
       "        text-align: right;\n",
       "    }\n",
       "</style>\n",
       "<table border=\"1\" class=\"dataframe\">\n",
       "  <thead>\n",
       "    <tr style=\"text-align: right;\">\n",
       "      <th></th>\n",
       "      <th>address</th>\n",
       "      <th>name_ru</th>\n",
       "      <th>rating</th>\n",
       "      <th>rubrics</th>\n",
       "      <th>text</th>\n",
       "      <th>key</th>\n",
       "    </tr>\n",
       "  </thead>\n",
       "  <tbody>\n",
       "    <tr>\n",
       "      <th>0</th>\n",
       "      <td>Екатеринбург, ул. Московская / ул. Волгоградск...</td>\n",
       "      <td>Московский квартал</td>\n",
       "      <td>3.0</td>\n",
       "      <td>Жилой комплекс</td>\n",
       "      <td>Московский квартал 2.\\nШумно : летом по ночам ...</td>\n",
       "      <td>Екатеринбург, ул. Московская / ул. Волгоградск...</td>\n",
       "    </tr>\n",
       "    <tr>\n",
       "      <th>1</th>\n",
       "      <td>Московская область, Электросталь, проспект Лен...</td>\n",
       "      <td>Продукты Ермолино</td>\n",
       "      <td>5.0</td>\n",
       "      <td>Магазин продуктов;Продукты глубокой заморозки;...</td>\n",
       "      <td>Замечательная сеть магазинов в общем, хороший ...</td>\n",
       "      <td>Московская область, Электросталь, проспект Лен...</td>\n",
       "    </tr>\n",
       "    <tr>\n",
       "      <th>2</th>\n",
       "      <td>Краснодар, Прикубанский внутригородской округ,...</td>\n",
       "      <td>LimeFit</td>\n",
       "      <td>1.0</td>\n",
       "      <td>Фитнес-клуб</td>\n",
       "      <td>Не знаю смутят ли кого-то данные правила, но я...</td>\n",
       "      <td>Краснодар, Прикубанский внутригородской округ,...</td>\n",
       "    </tr>\n",
       "    <tr>\n",
       "      <th>3</th>\n",
       "      <td>Санкт-Петербург, проспект Энгельса, 111, корп. 1</td>\n",
       "      <td>Snow-Express</td>\n",
       "      <td>4.0</td>\n",
       "      <td>Пункт проката;Прокат велосипедов;Сапсёрфинг</td>\n",
       "      <td>Хорошие условия аренды. \\nДружелюбный персонал...</td>\n",
       "      <td>Санкт-Петербург, проспект Энгельса, 111, корп....</td>\n",
       "    </tr>\n",
       "    <tr>\n",
       "      <th>4</th>\n",
       "      <td>Тверь, Волоколамский проспект, 39</td>\n",
       "      <td>Студия Beauty Brow</td>\n",
       "      <td>5.0</td>\n",
       "      <td>Салон красоты;Визажисты, стилисты;Салон бровей...</td>\n",
       "      <td>Топ мастер Ангелина топ во всех смыслах ) Немн...</td>\n",
       "      <td>Тверь, Волоколамский проспект, 39Салон красоты...</td>\n",
       "    </tr>\n",
       "  </tbody>\n",
       "</table>\n",
       "</div>"
      ],
      "text/plain": [
       "                                             address             name_ru  \\\n",
       "0  Екатеринбург, ул. Московская / ул. Волгоградск...  Московский квартал   \n",
       "1  Московская область, Электросталь, проспект Лен...   Продукты Ермолино   \n",
       "2  Краснодар, Прикубанский внутригородской округ,...             LimeFit   \n",
       "3   Санкт-Петербург, проспект Энгельса, 111, корп. 1        Snow-Express   \n",
       "4                  Тверь, Волоколамский проспект, 39  Студия Beauty Brow   \n",
       "\n",
       "   rating                                            rubrics  \\\n",
       "0     3.0                                     Жилой комплекс   \n",
       "1     5.0  Магазин продуктов;Продукты глубокой заморозки;...   \n",
       "2     1.0                                        Фитнес-клуб   \n",
       "3     4.0        Пункт проката;Прокат велосипедов;Сапсёрфинг   \n",
       "4     5.0  Салон красоты;Визажисты, стилисты;Салон бровей...   \n",
       "\n",
       "                                                text  \\\n",
       "0  Московский квартал 2.\\nШумно : летом по ночам ...   \n",
       "1  Замечательная сеть магазинов в общем, хороший ...   \n",
       "2  Не знаю смутят ли кого-то данные правила, но я...   \n",
       "3  Хорошие условия аренды. \\nДружелюбный персонал...   \n",
       "4  Топ мастер Ангелина топ во всех смыслах ) Немн...   \n",
       "\n",
       "                                                 key  \n",
       "0  Екатеринбург, ул. Московская / ул. Волгоградск...  \n",
       "1  Московская область, Электросталь, проспект Лен...  \n",
       "2  Краснодар, Прикубанский внутригородской округ,...  \n",
       "3  Санкт-Петербург, проспект Энгельса, 111, корп....  \n",
       "4  Тверь, Волоколамский проспект, 39Салон красоты...  "
      ]
     },
     "execution_count": 58,
     "metadata": {},
     "output_type": "execute_result"
    }
   ],
   "source": [
    "df['key'] = df['address'] + df['rubrics']\n",
    "df.loc[rows_to_fill, 'name_ru'] = df.loc[rows_to_fill, 'key'].map(key_to_generated_name_map)\n",
    "df.head()"
   ]
  },
  {
   "cell_type": "code",
   "execution_count": 61,
   "id": "824f4c93",
   "metadata": {},
   "outputs": [],
   "source": [
    "df = df.drop(columns=['key'])"
   ]
  },
  {
   "cell_type": "code",
   "execution_count": 62,
   "id": "094a27af",
   "metadata": {},
   "outputs": [
    {
     "name": "stdout",
     "output_type": "stream",
     "text": [
      "<class 'pandas.core.frame.DataFrame'>\n",
      "RangeIndex: 500000 entries, 0 to 499999\n",
      "Data columns (total 5 columns):\n",
      " #   Column   Non-Null Count   Dtype  \n",
      "---  ------   --------------   -----  \n",
      " 0   address  500000 non-null  object \n",
      " 1   name_ru  500000 non-null  object \n",
      " 2   rating   500000 non-null  float64\n",
      " 3   rubrics  500000 non-null  object \n",
      " 4   text     500000 non-null  object \n",
      "dtypes: float64(1), object(4)\n",
      "memory usage: 19.1+ MB\n"
     ]
    }
   ],
   "source": [
    "df.info()"
   ]
  },
  {
   "cell_type": "markdown",
   "id": "29833265",
   "metadata": {},
   "source": [
    "Теперь все данные не пустые"
   ]
  },
  {
   "cell_type": "markdown",
   "id": "adbb7251",
   "metadata": {},
   "source": [
    "# Аналитика"
   ]
  },
  {
   "cell_type": "markdown",
   "id": "8674e45b",
   "metadata": {},
   "source": [
    "## Рубрики"
   ]
  },
  {
   "cell_type": "code",
   "execution_count": 66,
   "id": "fcb6e2ba",
   "metadata": {},
   "outputs": [],
   "source": [
    "df_rubrics = df.copy()\n",
    "df_rubrics['rubrics_list'] = df_rubrics['rubrics'].str.split(';')\n",
    "\n",
    "exploded_rubrics = df_rubrics.explode('rubrics_list')"
   ]
  },
  {
   "cell_type": "markdown",
   "id": "5ef380f4",
   "metadata": {},
   "source": [
    "Посмотрим, каких рубрик больше всего"
   ]
  },
  {
   "cell_type": "code",
   "execution_count": 87,
   "id": "7936e8c9",
   "metadata": {},
   "outputs": [
    {
     "data": {
      "image/png": "[encoded data removed]",
      "text/plain": [
       "<Figure size 1200x800 with 1 Axes>"
      ]
     },
     "metadata": {},
     "output_type": "display_data"
    }
   ],
   "source": [
    "top_rubrics = exploded_rubrics['rubrics_list'].value_counts().nlargest(20)\n",
    "plt.figure(figsize=(12, 8))\n",
    "sns.barplot(y=top_rubrics.index, x=top_rubrics.values, palette='mako',  hue=top_rubrics.index)\n",
    "plt.title('Топ-20 самых частых рубрик организаций')\n",
    "plt.xlabel('Количество упоминаний в организациях')\n",
    "plt.ylabel('Рубрика')\n",
    "plt.show()"
   ]
  },
  {
   "cell_type": "markdown",
   "id": "a346caa9",
   "metadata": {},
   "source": [
    "И сколько их вообще может быть"
   ]
  },
  {
   "cell_type": "code",
   "execution_count": 70,
   "id": "56403e6b",
   "metadata": {},
   "outputs": [
    {
     "data": {
      "text/plain": [
       "1370"
      ]
     },
     "execution_count": 70,
     "metadata": {},
     "output_type": "execute_result"
    }
   ],
   "source": [
    "len(exploded_rubrics['rubrics_list'].unique())"
   ]
  },
  {
   "cell_type": "code",
   "execution_count": 72,
   "id": "e5d99b15",
   "metadata": {},
   "outputs": [
    {
     "data": {
      "text/html": [
       "<div>\n",
       "<style scoped>\n",
       "    .dataframe tbody tr th:only-of-type {\n",
       "        vertical-align: middle;\n",
       "    }\n",
       "\n",
       "    .dataframe tbody tr th {\n",
       "        vertical-align: top;\n",
       "    }\n",
       "\n",
       "    .dataframe thead th {\n",
       "        text-align: right;\n",
       "    }\n",
       "</style>\n",
       "<table border=\"1\" class=\"dataframe\">\n",
       "  <thead>\n",
       "    <tr style=\"text-align: right;\">\n",
       "      <th></th>\n",
       "      <th>address</th>\n",
       "      <th>name_ru</th>\n",
       "      <th>rating</th>\n",
       "      <th>rubrics</th>\n",
       "      <th>text</th>\n",
       "    </tr>\n",
       "  </thead>\n",
       "  <tbody>\n",
       "    <tr>\n",
       "      <th>136788</th>\n",
       "      <td>Ивановская область, Приволжск, улица Куйбышева, 2</td>\n",
       "      <td>Сон &amp; Лён</td>\n",
       "      <td>5.0</td>\n",
       "      <td>Гостиница</td>\n",
       "      <td>Чисто, аккуратно, уютно, доброжелательный перс...</td>\n",
       "    </tr>\n",
       "    <tr>\n",
       "      <th>251448</th>\n",
       "      <td>Москва, проезд Серебрякова, 14Б, стр. 4</td>\n",
       "      <td>Стартекс</td>\n",
       "      <td>5.0</td>\n",
       "      <td>Производство и продажа тканей;Текстильная комп...</td>\n",
       "      <td>Шикарный магазин!!! Пользуюсь услугами интерне...</td>\n",
       "    </tr>\n",
       "    <tr>\n",
       "      <th>43635</th>\n",
       "      <td>Псков, Октябрьский проспект, 38</td>\n",
       "      <td>Кофе с Кикоиным</td>\n",
       "      <td>5.0</td>\n",
       "      <td>Кофейня;Кафе;Кондитерская</td>\n",
       "      <td>Приятное место, вкусный кофе, заходили на завт...</td>\n",
       "    </tr>\n",
       "    <tr>\n",
       "      <th>423324</th>\n",
       "      <td>Московская область, городской округ Домодедово...</td>\n",
       "      <td>парк Взлёт</td>\n",
       "      <td>1.0</td>\n",
       "      <td>Парк культуры и отдыха;Лесопарк</td>\n",
       "      <td>Раньше был хороший настоящий лес, теперь в лес...</td>\n",
       "    </tr>\n",
       "    <tr>\n",
       "      <th>194388</th>\n",
       "      <td>Краснодарский край, станица Ленинградская, Кре...</td>\n",
       "      <td>Imperium</td>\n",
       "      <td>5.0</td>\n",
       "      <td>Компьютерный клуб;Игровой клуб;Киберспорт</td>\n",
       "      <td>Отличный компьютерный клуб! 👍🏻\\nПерсонал очень...</td>\n",
       "    </tr>\n",
       "    <tr>\n",
       "      <th>282586</th>\n",
       "      <td>Московская область, Балашиха, микрорайон Ольги...</td>\n",
       "      <td>Мокко</td>\n",
       "      <td>5.0</td>\n",
       "      <td>Ногтевая студия;Салон бровей и ресниц;Студия п...</td>\n",
       "      <td>Салон отличный, посещаю не в первый раз. Делал...</td>\n",
       "    </tr>\n",
       "    <tr>\n",
       "      <th>389518</th>\n",
       "      <td>Москва, Ленинградский проспект, 63</td>\n",
       "      <td>Laser Love</td>\n",
       "      <td>5.0</td>\n",
       "      <td>Эпиляция</td>\n",
       "      <td>Один из лучших салонов в нашем районе. Приятна...</td>\n",
       "    </tr>\n",
       "    <tr>\n",
       "      <th>470579</th>\n",
       "      <td>Свердловская область, Екатеринбург, улица Мета...</td>\n",
       "      <td>Nori</td>\n",
       "      <td>5.0</td>\n",
       "      <td>Кафе;Ресторан;Суши-бар</td>\n",
       "      <td>Рамен, роллы, чай - очень хорошо. Посещали с д...</td>\n",
       "    </tr>\n",
       "    <tr>\n",
       "      <th>91331</th>\n",
       "      <td>Санкт-Петербург, набережная Адмиралтейского ка...</td>\n",
       "      <td>Остров Новая Голландия</td>\n",
       "      <td>5.0</td>\n",
       "      <td>Парк культуры и отдыха</td>\n",
       "      <td>Рекомендую \\nЛовишь настроение и атмосферу. \\n...</td>\n",
       "    </tr>\n",
       "    <tr>\n",
       "      <th>74783</th>\n",
       "      <td>Республика Татарстан, Набережные Челны, проспе...</td>\n",
       "      <td>Бинхартс</td>\n",
       "      <td>5.0</td>\n",
       "      <td>Ресторан;Кафе;Кофейня</td>\n",
       "      <td>Всё быстро и веусно!</td>\n",
       "    </tr>\n",
       "    <tr>\n",
       "      <th>271433</th>\n",
       "      <td>Республика Башкортостан, Уфа, улица 50-летия О...</td>\n",
       "      <td>Мегастрижка</td>\n",
       "      <td>1.0</td>\n",
       "      <td>Парикмахерская;Ногтевая студия</td>\n",
       "      <td>Ужасная парикмахерская 😩. Пришла на тонировани...</td>\n",
       "    </tr>\n",
       "    <tr>\n",
       "      <th>260008</th>\n",
       "      <td>Чувашская Республика, Чебоксары, улица Ленинск...</td>\n",
       "      <td>М.Видео</td>\n",
       "      <td>5.0</td>\n",
       "      <td>Магазин электроники;Ноутбуки и планшеты;Компью...</td>\n",
       "      <td>Персонал приветливый,выбор товара большой,всег...</td>\n",
       "    </tr>\n",
       "    <tr>\n",
       "      <th>320770</th>\n",
       "      <td>Ростов-на-Дону, Будённовский проспект, 59</td>\n",
       "      <td>Marins Park Hotel Ростов</td>\n",
       "      <td>5.0</td>\n",
       "      <td>Гостиница</td>\n",
       "      <td>Большой, но внезапно недорогой и удобный отель...</td>\n",
       "    </tr>\n",
       "    <tr>\n",
       "      <th>489235</th>\n",
       "      <td>Московская область, Ленинский городской округ,...</td>\n",
       "      <td>Иль Камино</td>\n",
       "      <td>5.0</td>\n",
       "      <td>Ресторан;Кафе</td>\n",
       "      <td>Красивое и атмосферное место, интерьер завораж...</td>\n",
       "    </tr>\n",
       "    <tr>\n",
       "      <th>74935</th>\n",
       "      <td>Тюмень, улица 50 лет Октября, 14</td>\n",
       "      <td>Mercure</td>\n",
       "      <td>5.0</td>\n",
       "      <td>Гостиница</td>\n",
       "      <td>Номер просторный.Есть телевизор,мини-холодильн...</td>\n",
       "    </tr>\n",
       "    <tr>\n",
       "      <th>162116</th>\n",
       "      <td>Республика Татарстан, Казань, Осиновская улица...</td>\n",
       "      <td>Сход развал</td>\n",
       "      <td>3.0</td>\n",
       "      <td>Автосервис, автотехцентр</td>\n",
       "      <td>Сделал развал выехал машину все равно ведет вл...</td>\n",
       "    </tr>\n",
       "    <tr>\n",
       "      <th>258505</th>\n",
       "      <td>Севастополь, Балаклавский район, Орлиновский м...</td>\n",
       "      <td>Бухта Мечты</td>\n",
       "      <td>5.0</td>\n",
       "      <td>Гостиница</td>\n",
       "      <td>Отличный отель. \\nОчень хорошие комфортабельны...</td>\n",
       "    </tr>\n",
       "    <tr>\n",
       "      <th>244907</th>\n",
       "      <td>Свердловская область, Екатеринбург, улица Щорс...</td>\n",
       "      <td>Дом выпечки</td>\n",
       "      <td>5.0</td>\n",
       "      <td>Пекарня;Кондитерская;Доставка еды и обедов</td>\n",
       "      <td>Постоянно покупаю сдесь еду.\\nВсе свежее, вкус...</td>\n",
       "    </tr>\n",
       "    <tr>\n",
       "      <th>272612</th>\n",
       "      <td>Санкт-Петербург, Невский проспект, 88</td>\n",
       "      <td>Мама на Даче</td>\n",
       "      <td>5.0</td>\n",
       "      <td>Ресторан;Кафе</td>\n",
       "      <td>Очень вкусно. Обстановка приятная. Меню очень ...</td>\n",
       "    </tr>\n",
       "    <tr>\n",
       "      <th>171483</th>\n",
       "      <td>Москва, Ленинградский проспект, 48</td>\n",
       "      <td>Sea-тория</td>\n",
       "      <td>5.0</td>\n",
       "      <td>Ресторан</td>\n",
       "      <td>Один из любимых ресторанов в районе Аэропорт, ...</td>\n",
       "    </tr>\n",
       "  </tbody>\n",
       "</table>\n",
       "</div>"
      ],
      "text/plain": [
       "                                                  address  \\\n",
       "136788  Ивановская область, Приволжск, улица Куйбышева, 2   \n",
       "251448            Москва, проезд Серебрякова, 14Б, стр. 4   \n",
       "43635                     Псков, Октябрьский проспект, 38   \n",
       "423324  Московская область, городской округ Домодедово...   \n",
       "194388  Краснодарский край, станица Ленинградская, Кре...   \n",
       "282586  Московская область, Балашиха, микрорайон Ольги...   \n",
       "389518                 Москва, Ленинградский проспект, 63   \n",
       "470579  Свердловская область, Екатеринбург, улица Мета...   \n",
       "91331   Санкт-Петербург, набережная Адмиралтейского ка...   \n",
       "74783   Республика Татарстан, Набережные Челны, проспе...   \n",
       "271433  Республика Башкортостан, Уфа, улица 50-летия О...   \n",
       "260008  Чувашская Республика, Чебоксары, улица Ленинск...   \n",
       "320770          Ростов-на-Дону, Будённовский проспект, 59   \n",
       "489235  Московская область, Ленинский городской округ,...   \n",
       "74935                    Тюмень, улица 50 лет Октября, 14   \n",
       "162116  Республика Татарстан, Казань, Осиновская улица...   \n",
       "258505  Севастополь, Балаклавский район, Орлиновский м...   \n",
       "244907  Свердловская область, Екатеринбург, улица Щорс...   \n",
       "272612              Санкт-Петербург, Невский проспект, 88   \n",
       "171483                 Москва, Ленинградский проспект, 48   \n",
       "\n",
       "                         name_ru  rating  \\\n",
       "136788                 Сон & Лён     5.0   \n",
       "251448                  Стартекс     5.0   \n",
       "43635            Кофе с Кикоиным     5.0   \n",
       "423324                парк Взлёт     1.0   \n",
       "194388                  Imperium     5.0   \n",
       "282586                     Мокко     5.0   \n",
       "389518                Laser Love     5.0   \n",
       "470579                      Nori     5.0   \n",
       "91331     Остров Новая Голландия     5.0   \n",
       "74783                   Бинхартс     5.0   \n",
       "271433               Мегастрижка     1.0   \n",
       "260008                   М.Видео     5.0   \n",
       "320770  Marins Park Hotel Ростов     5.0   \n",
       "489235                Иль Камино     5.0   \n",
       "74935                    Mercure     5.0   \n",
       "162116               Сход развал     3.0   \n",
       "258505               Бухта Мечты     5.0   \n",
       "244907               Дом выпечки     5.0   \n",
       "272612              Мама на Даче     5.0   \n",
       "171483                 Sea-тория     5.0   \n",
       "\n",
       "                                                  rubrics  \\\n",
       "136788                                          Гостиница   \n",
       "251448  Производство и продажа тканей;Текстильная комп...   \n",
       "43635                           Кофейня;Кафе;Кондитерская   \n",
       "423324                    Парк культуры и отдыха;Лесопарк   \n",
       "194388          Компьютерный клуб;Игровой клуб;Киберспорт   \n",
       "282586  Ногтевая студия;Салон бровей и ресниц;Студия п...   \n",
       "389518                                           Эпиляция   \n",
       "470579                             Кафе;Ресторан;Суши-бар   \n",
       "91331                              Парк культуры и отдыха   \n",
       "74783                               Ресторан;Кафе;Кофейня   \n",
       "271433                     Парикмахерская;Ногтевая студия   \n",
       "260008  Магазин электроники;Ноутбуки и планшеты;Компью...   \n",
       "320770                                          Гостиница   \n",
       "489235                                      Ресторан;Кафе   \n",
       "74935                                           Гостиница   \n",
       "162116                           Автосервис, автотехцентр   \n",
       "258505                                          Гостиница   \n",
       "244907         Пекарня;Кондитерская;Доставка еды и обедов   \n",
       "272612                                      Ресторан;Кафе   \n",
       "171483                                           Ресторан   \n",
       "\n",
       "                                                     text  \n",
       "136788  Чисто, аккуратно, уютно, доброжелательный перс...  \n",
       "251448  Шикарный магазин!!! Пользуюсь услугами интерне...  \n",
       "43635   Приятное место, вкусный кофе, заходили на завт...  \n",
       "423324  Раньше был хороший настоящий лес, теперь в лес...  \n",
       "194388  Отличный компьютерный клуб! 👍🏻\\nПерсонал очень...  \n",
       "282586  Салон отличный, посещаю не в первый раз. Делал...  \n",
       "389518  Один из лучших салонов в нашем районе. Приятна...  \n",
       "470579  Рамен, роллы, чай - очень хорошо. Посещали с д...  \n",
       "91331   Рекомендую \\nЛовишь настроение и атмосферу. \\n...  \n",
       "74783                                Всё быстро и веусно!  \n",
       "271433  Ужасная парикмахерская 😩. Пришла на тонировани...  \n",
       "260008  Персонал приветливый,выбор товара большой,всег...  \n",
       "320770  Большой, но внезапно недорогой и удобный отель...  \n",
       "489235  Красивое и атмосферное место, интерьер завораж...  \n",
       "74935   Номер просторный.Есть телевизор,мини-холодильн...  \n",
       "162116  Сделал развал выехал машину все равно ведет вл...  \n",
       "258505  Отличный отель. \\nОчень хорошие комфортабельны...  \n",
       "244907  Постоянно покупаю сдесь еду.\\nВсе свежее, вкус...  \n",
       "272612  Очень вкусно. Обстановка приятная. Меню очень ...  \n",
       "171483  Один из любимых ресторанов в районе Аэропорт, ...  "
      ]
     },
     "execution_count": 72,
     "metadata": {},
     "output_type": "execute_result"
    }
   ],
   "source": [
    "df.sample(20)"
   ]
  },
  {
   "cell_type": "markdown",
   "id": "becdbd15",
   "metadata": {},
   "source": [
    "Очень много! Но на семпле видно, что первая рубрика скорее является главное и основной, так что отделим ее как main"
   ]
  },
  {
   "cell_type": "code",
   "execution_count": 78,
   "id": "c3f7670b",
   "metadata": {},
   "outputs": [
    {
     "data": {
      "text/html": [
       "<div>\n",
       "<style scoped>\n",
       "    .dataframe tbody tr th:only-of-type {\n",
       "        vertical-align: middle;\n",
       "    }\n",
       "\n",
       "    .dataframe tbody tr th {\n",
       "        vertical-align: top;\n",
       "    }\n",
       "\n",
       "    .dataframe thead th {\n",
       "        text-align: right;\n",
       "    }\n",
       "</style>\n",
       "<table border=\"1\" class=\"dataframe\">\n",
       "  <thead>\n",
       "    <tr style=\"text-align: right;\">\n",
       "      <th></th>\n",
       "      <th>address</th>\n",
       "      <th>name_ru</th>\n",
       "      <th>rating</th>\n",
       "      <th>rubrics</th>\n",
       "      <th>text</th>\n",
       "      <th>rubrics_list</th>\n",
       "      <th>main_rubric</th>\n",
       "    </tr>\n",
       "  </thead>\n",
       "  <tbody>\n",
       "    <tr>\n",
       "      <th>0</th>\n",
       "      <td>Екатеринбург, ул. Московская / ул. Волгоградск...</td>\n",
       "      <td>Московский квартал</td>\n",
       "      <td>3.0</td>\n",
       "      <td>Жилой комплекс</td>\n",
       "      <td>Московский квартал 2.\\nШумно : летом по ночам ...</td>\n",
       "      <td>[Жилой комплекс]</td>\n",
       "      <td>Жилой комплекс</td>\n",
       "    </tr>\n",
       "    <tr>\n",
       "      <th>1</th>\n",
       "      <td>Московская область, Электросталь, проспект Лен...</td>\n",
       "      <td>Продукты Ермолино</td>\n",
       "      <td>5.0</td>\n",
       "      <td>Магазин продуктов;Продукты глубокой заморозки;...</td>\n",
       "      <td>Замечательная сеть магазинов в общем, хороший ...</td>\n",
       "      <td>[Магазин продуктов, Продукты глубокой заморозк...</td>\n",
       "      <td>Магазин продуктов</td>\n",
       "    </tr>\n",
       "    <tr>\n",
       "      <th>2</th>\n",
       "      <td>Краснодар, Прикубанский внутригородской округ,...</td>\n",
       "      <td>LimeFit</td>\n",
       "      <td>1.0</td>\n",
       "      <td>Фитнес-клуб</td>\n",
       "      <td>Не знаю смутят ли кого-то данные правила, но я...</td>\n",
       "      <td>[Фитнес-клуб]</td>\n",
       "      <td>Фитнес-клуб</td>\n",
       "    </tr>\n",
       "    <tr>\n",
       "      <th>3</th>\n",
       "      <td>Санкт-Петербург, проспект Энгельса, 111, корп. 1</td>\n",
       "      <td>Snow-Express</td>\n",
       "      <td>4.0</td>\n",
       "      <td>Пункт проката;Прокат велосипедов;Сапсёрфинг</td>\n",
       "      <td>Хорошие условия аренды. \\nДружелюбный персонал...</td>\n",
       "      <td>[Пункт проката, Прокат велосипедов, Сапсёрфинг]</td>\n",
       "      <td>Пункт проката</td>\n",
       "    </tr>\n",
       "    <tr>\n",
       "      <th>4</th>\n",
       "      <td>Тверь, Волоколамский проспект, 39</td>\n",
       "      <td>Студия Beauty Brow</td>\n",
       "      <td>5.0</td>\n",
       "      <td>Салон красоты;Визажисты, стилисты;Салон бровей...</td>\n",
       "      <td>Топ мастер Ангелина топ во всех смыслах ) Немн...</td>\n",
       "      <td>[Салон красоты, Визажисты, стилисты, Салон бро...</td>\n",
       "      <td>Салон красоты</td>\n",
       "    </tr>\n",
       "  </tbody>\n",
       "</table>\n",
       "</div>"
      ],
      "text/plain": [
       "                                             address             name_ru  \\\n",
       "0  Екатеринбург, ул. Московская / ул. Волгоградск...  Московский квартал   \n",
       "1  Московская область, Электросталь, проспект Лен...   Продукты Ермолино   \n",
       "2  Краснодар, Прикубанский внутригородской округ,...             LimeFit   \n",
       "3   Санкт-Петербург, проспект Энгельса, 111, корп. 1        Snow-Express   \n",
       "4                  Тверь, Волоколамский проспект, 39  Студия Beauty Brow   \n",
       "\n",
       "   rating                                            rubrics  \\\n",
       "0     3.0                                     Жилой комплекс   \n",
       "1     5.0  Магазин продуктов;Продукты глубокой заморозки;...   \n",
       "2     1.0                                        Фитнес-клуб   \n",
       "3     4.0        Пункт проката;Прокат велосипедов;Сапсёрфинг   \n",
       "4     5.0  Салон красоты;Визажисты, стилисты;Салон бровей...   \n",
       "\n",
       "                                                text  \\\n",
       "0  Московский квартал 2.\\nШумно : летом по ночам ...   \n",
       "1  Замечательная сеть магазинов в общем, хороший ...   \n",
       "2  Не знаю смутят ли кого-то данные правила, но я...   \n",
       "3  Хорошие условия аренды. \\nДружелюбный персонал...   \n",
       "4  Топ мастер Ангелина топ во всех смыслах ) Немн...   \n",
       "\n",
       "                                        rubrics_list        main_rubric  \n",
       "0                                   [Жилой комплекс]     Жилой комплекс  \n",
       "1  [Магазин продуктов, Продукты глубокой заморозк...  Магазин продуктов  \n",
       "2                                      [Фитнес-клуб]        Фитнес-клуб  \n",
       "3    [Пункт проката, Прокат велосипедов, Сапсёрфинг]      Пункт проката  \n",
       "4  [Салон красоты, Визажисты, стилисты, Салон бро...      Салон красоты  "
      ]
     },
     "execution_count": 78,
     "metadata": {},
     "output_type": "execute_result"
    }
   ],
   "source": [
    "df_rubrics['main_rubric'] = df_rubrics['rubrics_list'].apply(lambda x: x[0])\n",
    "df_rubrics.head()"
   ]
  },
  {
   "cell_type": "code",
   "execution_count": 86,
   "id": "4033b538",
   "metadata": {},
   "outputs": [
    {
     "data": {
      "image/png": "[encoded data removed]",
      "text/plain": [
       "<Figure size 1200x800 with 1 Axes>"
      ]
     },
     "metadata": {},
     "output_type": "display_data"
    }
   ],
   "source": [
    "top_rubrics = df_rubrics['main_rubric'].value_counts().nlargest(20)\n",
    "plt.figure(figsize=(12, 8))\n",
    "sns.barplot(y=top_rubrics.index, x=top_rubrics.values, palette='mako', hue=top_rubrics.index)\n",
    "plt.title('Топ-20 самых частых рубрик организаций')\n",
    "plt.xlabel('Количество организаций')\n",
    "plt.ylabel('Рубрика')\n",
    "plt.show()"
   ]
  },
  {
   "cell_type": "markdown",
   "id": "2e69b399",
   "metadata": {},
   "source": [
    "Топ изменился. Оставим для основного датасета преобразованное поле, где будет лист рубрик и новое поле с главной рубрикой"
   ]
  },
  {
   "cell_type": "code",
   "execution_count": 88,
   "id": "2e3fcc71",
   "metadata": {},
   "outputs": [
    {
     "data": {
      "text/html": [
       "<div>\n",
       "<style scoped>\n",
       "    .dataframe tbody tr th:only-of-type {\n",
       "        vertical-align: middle;\n",
       "    }\n",
       "\n",
       "    .dataframe tbody tr th {\n",
       "        vertical-align: top;\n",
       "    }\n",
       "\n",
       "    .dataframe thead th {\n",
       "        text-align: right;\n",
       "    }\n",
       "</style>\n",
       "<table border=\"1\" class=\"dataframe\">\n",
       "  <thead>\n",
       "    <tr style=\"text-align: right;\">\n",
       "      <th></th>\n",
       "      <th>address</th>\n",
       "      <th>name_ru</th>\n",
       "      <th>rating</th>\n",
       "      <th>rubrics</th>\n",
       "      <th>text</th>\n",
       "      <th>main_rubric</th>\n",
       "    </tr>\n",
       "  </thead>\n",
       "  <tbody>\n",
       "    <tr>\n",
       "      <th>0</th>\n",
       "      <td>Екатеринбург, ул. Московская / ул. Волгоградск...</td>\n",
       "      <td>Московский квартал</td>\n",
       "      <td>3.0</td>\n",
       "      <td>[Жилой комплекс]</td>\n",
       "      <td>Московский квартал 2.\\nШумно : летом по ночам ...</td>\n",
       "      <td>Жилой комплекс</td>\n",
       "    </tr>\n",
       "    <tr>\n",
       "      <th>1</th>\n",
       "      <td>Московская область, Электросталь, проспект Лен...</td>\n",
       "      <td>Продукты Ермолино</td>\n",
       "      <td>5.0</td>\n",
       "      <td>[Магазин продуктов, Продукты глубокой заморозк...</td>\n",
       "      <td>Замечательная сеть магазинов в общем, хороший ...</td>\n",
       "      <td>Магазин продуктов</td>\n",
       "    </tr>\n",
       "    <tr>\n",
       "      <th>2</th>\n",
       "      <td>Краснодар, Прикубанский внутригородской округ,...</td>\n",
       "      <td>LimeFit</td>\n",
       "      <td>1.0</td>\n",
       "      <td>[Фитнес-клуб]</td>\n",
       "      <td>Не знаю смутят ли кого-то данные правила, но я...</td>\n",
       "      <td>Фитнес-клуб</td>\n",
       "    </tr>\n",
       "    <tr>\n",
       "      <th>3</th>\n",
       "      <td>Санкт-Петербург, проспект Энгельса, 111, корп. 1</td>\n",
       "      <td>Snow-Express</td>\n",
       "      <td>4.0</td>\n",
       "      <td>[Пункт проката, Прокат велосипедов, Сапсёрфинг]</td>\n",
       "      <td>Хорошие условия аренды. \\nДружелюбный персонал...</td>\n",
       "      <td>Пункт проката</td>\n",
       "    </tr>\n",
       "    <tr>\n",
       "      <th>4</th>\n",
       "      <td>Тверь, Волоколамский проспект, 39</td>\n",
       "      <td>Студия Beauty Brow</td>\n",
       "      <td>5.0</td>\n",
       "      <td>[Салон красоты, Визажисты, стилисты, Салон бро...</td>\n",
       "      <td>Топ мастер Ангелина топ во всех смыслах ) Немн...</td>\n",
       "      <td>Салон красоты</td>\n",
       "    </tr>\n",
       "  </tbody>\n",
       "</table>\n",
       "</div>"
      ],
      "text/plain": [
       "                                             address             name_ru  \\\n",
       "0  Екатеринбург, ул. Московская / ул. Волгоградск...  Московский квартал   \n",
       "1  Московская область, Электросталь, проспект Лен...   Продукты Ермолино   \n",
       "2  Краснодар, Прикубанский внутригородской округ,...             LimeFit   \n",
       "3   Санкт-Петербург, проспект Энгельса, 111, корп. 1        Snow-Express   \n",
       "4                  Тверь, Волоколамский проспект, 39  Студия Beauty Brow   \n",
       "\n",
       "   rating                                            rubrics  \\\n",
       "0     3.0                                   [Жилой комплекс]   \n",
       "1     5.0  [Магазин продуктов, Продукты глубокой заморозк...   \n",
       "2     1.0                                      [Фитнес-клуб]   \n",
       "3     4.0    [Пункт проката, Прокат велосипедов, Сапсёрфинг]   \n",
       "4     5.0  [Салон красоты, Визажисты, стилисты, Салон бро...   \n",
       "\n",
       "                                                text        main_rubric  \n",
       "0  Московский квартал 2.\\nШумно : летом по ночам ...     Жилой комплекс  \n",
       "1  Замечательная сеть магазинов в общем, хороший ...  Магазин продуктов  \n",
       "2  Не знаю смутят ли кого-то данные правила, но я...        Фитнес-клуб  \n",
       "3  Хорошие условия аренды. \\nДружелюбный персонал...      Пункт проката  \n",
       "4  Топ мастер Ангелина топ во всех смыслах ) Немн...      Салон красоты  "
      ]
     },
     "execution_count": 88,
     "metadata": {},
     "output_type": "execute_result"
    }
   ],
   "source": [
    "df['rubrics'] = df['rubrics'].str.split(';')\n",
    "df['main_rubric'] = df['rubrics'].apply(lambda x: x[0])\n",
    "df.head()"
   ]
  },
  {
   "cell_type": "markdown",
   "id": "0026596a",
   "metadata": {},
   "source": [
    "## Рейтинг"
   ]
  },
  {
   "cell_type": "code",
   "execution_count": 89,
   "id": "8ee139e2",
   "metadata": {},
   "outputs": [
    {
     "data": {
      "text/plain": [
       "count    500000.00000\n",
       "mean          4.48160\n",
       "std           1.14625\n",
       "min           0.00000\n",
       "25%           5.00000\n",
       "50%           5.00000\n",
       "75%           5.00000\n",
       "max           5.00000\n",
       "Name: rating, dtype: float64"
      ]
     },
     "execution_count": 89,
     "metadata": {},
     "output_type": "execute_result"
    }
   ],
   "source": [
    "df['rating'].describe()"
   ]
  },
  {
   "cell_type": "markdown",
   "id": "c80e5af8",
   "metadata": {},
   "source": [
    "Видим, что большинство оценок положительного характера и при обучении стоит учесть дисбаланс классов"
   ]
  },
  {
   "cell_type": "code",
   "execution_count": 92,
   "id": "b506d27b",
   "metadata": {},
   "outputs": [
    {
     "data": {
      "image/png": "[encoded data removed]",
      "text/plain": [
       "<Figure size 1000x600 with 1 Axes>"
      ]
     },
     "metadata": {},
     "output_type": "display_data"
    }
   ],
   "source": [
    "plt.figure(figsize=(10, 6))\n",
    "sns.countplot(x='rating', data=df, palette='viridis', hue='rating', legend=False)\n",
    "plt.title('Распределение оценок пользователей')\n",
    "plt.xlabel('Оценка')\n",
    "plt.ylabel('Количество отзывов')\n",
    "plt.show()"
   ]
  },
  {
   "cell_type": "markdown",
   "id": "7396fed6",
   "metadata": {},
   "source": [
    "## Отзывы"
   ]
  },
  {
   "cell_type": "markdown",
   "id": "56f44de7",
   "metadata": {},
   "source": [
    "Сначала посмотрим, как вообще распределено количество отзывов по организациям, потому что нам будет сложно что-то сделать с организацией, где 1 отзыв\n",
    "\n",
    "Сначала посмотрим группировку по названиям, так как организации могут иметь много филиалов (например Пятерочка) и некоторые отзывы могут быть в целом про органиазцию, а не на данные филиал"
   ]
  },
  {
   "cell_type": "markdown",
   "id": "d2ea3333",
   "metadata": {},
   "source": []
  }
 ],
 "metadata": {
  "kernelspec": {
   "display_name": "Python 3",
   "language": "python",
   "name": "python3"
  },
  "language_info": {
   "codemirror_mode": {
    "name": "ipython",
    "version": 3
   },
   "file_extension": ".py",
   "mimetype": "text/x-python",
   "name": "python",
   "nbconvert_exporter": "python",
   "pygments_lexer": "ipython3",
   "version": "3.13.1"
  }
 },
 "nbformat": 4,
 "nbformat_minor": 5
}
