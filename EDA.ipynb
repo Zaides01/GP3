{
 "cells": [
  {
   "cell_type": "markdown",
   "id": "66d23235",
   "metadata": {},
   "source": [
    "# Чтение данных"
   ]
  },
  {
   "cell_type": "code",
   "execution_count": 386,
   "id": "f760982d",
   "metadata": {},
   "outputs": [],
   "source": [
    "import pandas as pd\n",
    "import numpy as np\n",
    "import matplotlib.pyplot as plt\n",
    "import seaborn as sns\n",
    "import re\n",
    "import pymorphy3\n",
    "from transliterate import translit, get_available_language_codes\n",
    "from wordcloud import WordCloud\n",
    "import nltk\n",
    "from nltk.corpus import stopwords\n",
    "import re\n",
    "from collections import Counter\n",
    "from sklearn.feature_extraction.text import CountVectorizer"
   ]
  },
  {
   "cell_type": "code",
   "execution_count": 387,
   "id": "eaf5771e",
   "metadata": {},
   "outputs": [
    {
     "data": {
      "text/html": [
       "<div>\n",
       "<style scoped>\n",
       "    .dataframe tbody tr th:only-of-type {\n",
       "        vertical-align: middle;\n",
       "    }\n",
       "\n",
       "    .dataframe tbody tr th {\n",
       "        vertical-align: top;\n",
       "    }\n",
       "\n",
       "    .dataframe thead th {\n",
       "        text-align: right;\n",
       "    }\n",
       "</style>\n",
       "<table border=\"1\" class=\"dataframe\">\n",
       "  <thead>\n",
       "    <tr style=\"text-align: right;\">\n",
       "      <th></th>\n",
       "      <th>address</th>\n",
       "      <th>name_ru</th>\n",
       "      <th>rating</th>\n",
       "      <th>rubrics</th>\n",
       "      <th>text</th>\n",
       "    </tr>\n",
       "  </thead>\n",
       "  <tbody>\n",
       "    <tr>\n",
       "      <th>0</th>\n",
       "      <td>Екатеринбург, ул. Московская / ул. Волгоградск...</td>\n",
       "      <td>Московский квартал</td>\n",
       "      <td>3.</td>\n",
       "      <td>Жилой комплекс</td>\n",
       "      <td>Московский квартал 2.\\nШумно : летом по ночам ...</td>\n",
       "    </tr>\n",
       "    <tr>\n",
       "      <th>1</th>\n",
       "      <td>Московская область, Электросталь, проспект Лен...</td>\n",
       "      <td>Продукты Ермолино</td>\n",
       "      <td>5.</td>\n",
       "      <td>Магазин продуктов;Продукты глубокой заморозки;...</td>\n",
       "      <td>Замечательная сеть магазинов в общем, хороший ...</td>\n",
       "    </tr>\n",
       "    <tr>\n",
       "      <th>2</th>\n",
       "      <td>Краснодар, Прикубанский внутригородской округ,...</td>\n",
       "      <td>LimeFit</td>\n",
       "      <td>1.</td>\n",
       "      <td>Фитнес-клуб</td>\n",
       "      <td>Не знаю смутят ли кого-то данные правила, но я...</td>\n",
       "    </tr>\n",
       "    <tr>\n",
       "      <th>3</th>\n",
       "      <td>Санкт-Петербург, проспект Энгельса, 111, корп. 1</td>\n",
       "      <td>Snow-Express</td>\n",
       "      <td>4.</td>\n",
       "      <td>Пункт проката;Прокат велосипедов;Сапсёрфинг</td>\n",
       "      <td>Хорошие условия аренды. \\nДружелюбный персонал...</td>\n",
       "    </tr>\n",
       "    <tr>\n",
       "      <th>4</th>\n",
       "      <td>Тверь, Волоколамский проспект, 39</td>\n",
       "      <td>Студия Beauty Brow</td>\n",
       "      <td>5.</td>\n",
       "      <td>Салон красоты;Визажисты, стилисты;Салон бровей...</td>\n",
       "      <td>Топ мастер Ангелина топ во всех смыслах ) Немн...</td>\n",
       "    </tr>\n",
       "  </tbody>\n",
       "</table>\n",
       "</div>"
      ],
      "text/plain": [
       "                                             address             name_ru  \\\n",
       "0  Екатеринбург, ул. Московская / ул. Волгоградск...  Московский квартал   \n",
       "1  Московская область, Электросталь, проспект Лен...   Продукты Ермолино   \n",
       "2  Краснодар, Прикубанский внутригородской округ,...             LimeFit   \n",
       "3   Санкт-Петербург, проспект Энгельса, 111, корп. 1        Snow-Express   \n",
       "4                  Тверь, Волоколамский проспект, 39  Студия Beauty Brow   \n",
       "\n",
       "  rating                                            rubrics  \\\n",
       "0     3.                                     Жилой комплекс   \n",
       "1     5.  Магазин продуктов;Продукты глубокой заморозки;...   \n",
       "2     1.                                        Фитнес-клуб   \n",
       "3     4.        Пункт проката;Прокат велосипедов;Сапсёрфинг   \n",
       "4     5.  Салон красоты;Визажисты, стилисты;Салон бровей...   \n",
       "\n",
       "                                                text  \n",
       "0  Московский квартал 2.\\nШумно : летом по ночам ...  \n",
       "1  Замечательная сеть магазинов в общем, хороший ...  \n",
       "2  Не знаю смутят ли кого-то данные правила, но я...  \n",
       "3  Хорошие условия аренды. \\nДружелюбный персонал...  \n",
       "4  Топ мастер Ангелина топ во всех смыслах ) Немн...  "
      ]
     },
     "execution_count": 387,
     "metadata": {},
     "output_type": "execute_result"
    }
   ],
   "source": [
    "filename = 'geo-reviews-dataset-2023.tskv'\n",
    "\n",
    "all_records = []\n",
    "\n",
    "with open(filename, 'r', encoding='utf-8') as f:\n",
    "    for line in f:\n",
    "        if not line.strip():\n",
    "            continue\n",
    "            \n",
    "        record_dict = {}\n",
    "        \n",
    "        pairs = line.strip().split('\\t')\n",
    "        \n",
    "        for pair in pairs:\n",
    "            try:\n",
    "                key, value = pair.split('=', 1)\n",
    "                record_dict[key] = value\n",
    "            except ValueError:\n",
    "                pass\n",
    "                \n",
    "        all_records.append(record_dict)\n",
    "\n",
    "df = pd.DataFrame(all_records)\n",
    "\n",
    "df.head()\n"
   ]
  },
  {
   "cell_type": "markdown",
   "id": "6ae0ba8b",
   "metadata": {},
   "source": [
    "# EDA"
   ]
  },
  {
   "cell_type": "markdown",
   "id": "4c77c99d",
   "metadata": {},
   "source": [
    "Посмотрим на состав данных"
   ]
  },
  {
   "cell_type": "code",
   "execution_count": 388,
   "id": "1d4e585c",
   "metadata": {},
   "outputs": [
    {
     "name": "stdout",
     "output_type": "stream",
     "text": [
      "<class 'pandas.core.frame.DataFrame'>\n",
      "RangeIndex: 500000 entries, 0 to 499999\n",
      "Data columns (total 5 columns):\n",
      " #   Column   Non-Null Count   Dtype \n",
      "---  ------   --------------   ----- \n",
      " 0   address  500000 non-null  object\n",
      " 1   name_ru  499030 non-null  object\n",
      " 2   rating   500000 non-null  object\n",
      " 3   rubrics  500000 non-null  object\n",
      " 4   text     500000 non-null  object\n",
      "dtypes: object(5)\n",
      "memory usage: 19.1+ MB\n"
     ]
    }
   ],
   "source": [
    "df.info()"
   ]
  },
  {
   "cell_type": "markdown",
   "id": "811f319f",
   "metadata": {},
   "source": [
    "## Преобразование типов"
   ]
  },
  {
   "cell_type": "code",
   "execution_count": 389,
   "id": "4abfc169",
   "metadata": {},
   "outputs": [
    {
     "data": {
      "text/plain": [
       "rating\n",
       "5.0    390515\n",
       "4.0     41160\n",
       "1.0     34351\n",
       "3.0     21686\n",
       "2.0     12088\n",
       "0.0       200\n",
       "Name: count, dtype: int64"
      ]
     },
     "execution_count": 389,
     "metadata": {},
     "output_type": "execute_result"
    }
   ],
   "source": [
    "df['rating'] = pd.to_numeric(df['rating'])\n",
    "df['rating'].value_counts(dropna=False)"
   ]
  },
  {
   "cell_type": "code",
   "execution_count": 390,
   "id": "3a48df28",
   "metadata": {},
   "outputs": [
    {
     "data": {
      "text/html": [
       "<div>\n",
       "<style scoped>\n",
       "    .dataframe tbody tr th:only-of-type {\n",
       "        vertical-align: middle;\n",
       "    }\n",
       "\n",
       "    .dataframe tbody tr th {\n",
       "        vertical-align: top;\n",
       "    }\n",
       "\n",
       "    .dataframe thead th {\n",
       "        text-align: right;\n",
       "    }\n",
       "</style>\n",
       "<table border=\"1\" class=\"dataframe\">\n",
       "  <thead>\n",
       "    <tr style=\"text-align: right;\">\n",
       "      <th></th>\n",
       "      <th>address</th>\n",
       "      <th>name_ru</th>\n",
       "      <th>rating</th>\n",
       "      <th>rubrics</th>\n",
       "      <th>text</th>\n",
       "      <th>rubrics_list</th>\n",
       "    </tr>\n",
       "  </thead>\n",
       "  <tbody>\n",
       "    <tr>\n",
       "      <th>0</th>\n",
       "      <td>Екатеринбург, ул. Московская / ул. Волгоградск...</td>\n",
       "      <td>Московский квартал</td>\n",
       "      <td>3.0</td>\n",
       "      <td>Жилой комплекс</td>\n",
       "      <td>Московский квартал 2.\\nШумно : летом по ночам ...</td>\n",
       "      <td>[Жилой комплекс]</td>\n",
       "    </tr>\n",
       "    <tr>\n",
       "      <th>1</th>\n",
       "      <td>Московская область, Электросталь, проспект Лен...</td>\n",
       "      <td>Продукты Ермолино</td>\n",
       "      <td>5.0</td>\n",
       "      <td>Магазин продуктов;Продукты глубокой заморозки;...</td>\n",
       "      <td>Замечательная сеть магазинов в общем, хороший ...</td>\n",
       "      <td>[Магазин продуктов, Продукты глубокой заморозк...</td>\n",
       "    </tr>\n",
       "    <tr>\n",
       "      <th>2</th>\n",
       "      <td>Краснодар, Прикубанский внутригородской округ,...</td>\n",
       "      <td>LimeFit</td>\n",
       "      <td>1.0</td>\n",
       "      <td>Фитнес-клуб</td>\n",
       "      <td>Не знаю смутят ли кого-то данные правила, но я...</td>\n",
       "      <td>[Фитнес-клуб]</td>\n",
       "    </tr>\n",
       "    <tr>\n",
       "      <th>3</th>\n",
       "      <td>Санкт-Петербург, проспект Энгельса, 111, корп. 1</td>\n",
       "      <td>Snow-Express</td>\n",
       "      <td>4.0</td>\n",
       "      <td>Пункт проката;Прокат велосипедов;Сапсёрфинг</td>\n",
       "      <td>Хорошие условия аренды. \\nДружелюбный персонал...</td>\n",
       "      <td>[Пункт проката, Прокат велосипедов, Сапсёрфинг]</td>\n",
       "    </tr>\n",
       "    <tr>\n",
       "      <th>4</th>\n",
       "      <td>Тверь, Волоколамский проспект, 39</td>\n",
       "      <td>Студия Beauty Brow</td>\n",
       "      <td>5.0</td>\n",
       "      <td>Салон красоты;Визажисты, стилисты;Салон бровей...</td>\n",
       "      <td>Топ мастер Ангелина топ во всех смыслах ) Немн...</td>\n",
       "      <td>[Салон красоты, Визажисты, стилисты, Салон бро...</td>\n",
       "    </tr>\n",
       "  </tbody>\n",
       "</table>\n",
       "</div>"
      ],
      "text/plain": [
       "                                             address             name_ru  \\\n",
       "0  Екатеринбург, ул. Московская / ул. Волгоградск...  Московский квартал   \n",
       "1  Московская область, Электросталь, проспект Лен...   Продукты Ермолино   \n",
       "2  Краснодар, Прикубанский внутригородской округ,...             LimeFit   \n",
       "3   Санкт-Петербург, проспект Энгельса, 111, корп. 1        Snow-Express   \n",
       "4                  Тверь, Волоколамский проспект, 39  Студия Beauty Brow   \n",
       "\n",
       "   rating                                            rubrics  \\\n",
       "0     3.0                                     Жилой комплекс   \n",
       "1     5.0  Магазин продуктов;Продукты глубокой заморозки;...   \n",
       "2     1.0                                        Фитнес-клуб   \n",
       "3     4.0        Пункт проката;Прокат велосипедов;Сапсёрфинг   \n",
       "4     5.0  Салон красоты;Визажисты, стилисты;Салон бровей...   \n",
       "\n",
       "                                                text  \\\n",
       "0  Московский квартал 2.\\nШумно : летом по ночам ...   \n",
       "1  Замечательная сеть магазинов в общем, хороший ...   \n",
       "2  Не знаю смутят ли кого-то данные правила, но я...   \n",
       "3  Хорошие условия аренды. \\nДружелюбный персонал...   \n",
       "4  Топ мастер Ангелина топ во всех смыслах ) Немн...   \n",
       "\n",
       "                                        rubrics_list  \n",
       "0                                   [Жилой комплекс]  \n",
       "1  [Магазин продуктов, Продукты глубокой заморозк...  \n",
       "2                                      [Фитнес-клуб]  \n",
       "3    [Пункт проката, Прокат велосипедов, Сапсёрфинг]  \n",
       "4  [Салон красоты, Визажисты, стилисты, Салон бро...  "
      ]
     },
     "execution_count": 390,
     "metadata": {},
     "output_type": "execute_result"
    }
   ],
   "source": [
    "df['rubrics_list'] = df['rubrics'].str.split(';')\n",
    "df.head()"
   ]
  },
  {
   "cell_type": "markdown",
   "id": "f2494332",
   "metadata": {},
   "source": [
    "## Заполнение пропусков"
   ]
  },
  {
   "cell_type": "markdown",
   "id": "6023f458",
   "metadata": {},
   "source": [
    "Видим, что у 970 отзывов нет названия организаций, посмотрим на эти данные"
   ]
  },
  {
   "cell_type": "code",
   "execution_count": 391,
   "id": "7617a176",
   "metadata": {},
   "outputs": [
    {
     "data": {
      "text/html": [
       "<div>\n",
       "<style scoped>\n",
       "    .dataframe tbody tr th:only-of-type {\n",
       "        vertical-align: middle;\n",
       "    }\n",
       "\n",
       "    .dataframe tbody tr th {\n",
       "        vertical-align: top;\n",
       "    }\n",
       "\n",
       "    .dataframe thead th {\n",
       "        text-align: right;\n",
       "    }\n",
       "</style>\n",
       "<table border=\"1\" class=\"dataframe\">\n",
       "  <thead>\n",
       "    <tr style=\"text-align: right;\">\n",
       "      <th></th>\n",
       "      <th>address</th>\n",
       "      <th>name_ru</th>\n",
       "      <th>rating</th>\n",
       "      <th>rubrics</th>\n",
       "      <th>text</th>\n",
       "      <th>rubrics_list</th>\n",
       "    </tr>\n",
       "  </thead>\n",
       "  <tbody>\n",
       "    <tr>\n",
       "      <th>322</th>\n",
       "      <td>Москва, 8-я улица Соколиной Горы, 15А, стр. 23</td>\n",
       "      <td>NaN</td>\n",
       "      <td>5.0</td>\n",
       "      <td>Офис организации</td>\n",
       "      <td>Ребята профи!\\n\\nОтлично подобрали модель, съе...</td>\n",
       "      <td>[Офис организации]</td>\n",
       "    </tr>\n",
       "    <tr>\n",
       "      <th>5716</th>\n",
       "      <td>Челябинская область, Златоуст, Таганайская ули...</td>\n",
       "      <td>NaN</td>\n",
       "      <td>5.0</td>\n",
       "      <td>Гостиница</td>\n",
       "      <td>Гостиница действительно хорошая, удобно распол...</td>\n",
       "      <td>[Гостиница]</td>\n",
       "    </tr>\n",
       "    <tr>\n",
       "      <th>5717</th>\n",
       "      <td>Челябинская область, Златоуст, Таганайская ули...</td>\n",
       "      <td>NaN</td>\n",
       "      <td>5.0</td>\n",
       "      <td>Гостиница</td>\n",
       "      <td>Был здесь на кулинарном мастер-классе. Место а...</td>\n",
       "      <td>[Гостиница]</td>\n",
       "    </tr>\n",
       "    <tr>\n",
       "      <th>5718</th>\n",
       "      <td>Челябинская область, Златоуст, Таганайская ули...</td>\n",
       "      <td>NaN</td>\n",
       "      <td>5.0</td>\n",
       "      <td>Гостиница</td>\n",
       "      <td>Тихое место, в выходные возможно и шумно так к...</td>\n",
       "      <td>[Гостиница]</td>\n",
       "    </tr>\n",
       "    <tr>\n",
       "      <th>5719</th>\n",
       "      <td>Челябинская область, Златоуст, Таганайская ули...</td>\n",
       "      <td>NaN</td>\n",
       "      <td>5.0</td>\n",
       "      <td>Гостиница</td>\n",
       "      <td>Воспитанные и отзывчивые официанты , вкусная к...</td>\n",
       "      <td>[Гостиница]</td>\n",
       "    </tr>\n",
       "  </tbody>\n",
       "</table>\n",
       "</div>"
      ],
      "text/plain": [
       "                                                address name_ru  rating  \\\n",
       "322      Москва, 8-я улица Соколиной Горы, 15А, стр. 23     NaN     5.0   \n",
       "5716  Челябинская область, Златоуст, Таганайская ули...     NaN     5.0   \n",
       "5717  Челябинская область, Златоуст, Таганайская ули...     NaN     5.0   \n",
       "5718  Челябинская область, Златоуст, Таганайская ули...     NaN     5.0   \n",
       "5719  Челябинская область, Златоуст, Таганайская ули...     NaN     5.0   \n",
       "\n",
       "               rubrics                                               text  \\\n",
       "322   Офис организации  Ребята профи!\\n\\nОтлично подобрали модель, съе...   \n",
       "5716         Гостиница  Гостиница действительно хорошая, удобно распол...   \n",
       "5717         Гостиница  Был здесь на кулинарном мастер-классе. Место а...   \n",
       "5718         Гостиница  Тихое место, в выходные возможно и шумно так к...   \n",
       "5719         Гостиница  Воспитанные и отзывчивые официанты , вкусная к...   \n",
       "\n",
       "            rubrics_list  \n",
       "322   [Офис организации]  \n",
       "5716         [Гостиница]  \n",
       "5717         [Гостиница]  \n",
       "5718         [Гостиница]  \n",
       "5719         [Гостиница]  "
      ]
     },
     "execution_count": 391,
     "metadata": {},
     "output_type": "execute_result"
    }
   ],
   "source": [
    "df[df['name_ru'].isna()].head()"
   ]
  },
  {
   "cell_type": "markdown",
   "id": "418266e1",
   "metadata": {},
   "source": [
    "Судя по адресам таких организаций 576 - вручную найти и проставить названия будет сложно"
   ]
  },
  {
   "cell_type": "code",
   "execution_count": 392,
   "id": "3297a2af",
   "metadata": {},
   "outputs": [
    {
     "data": {
      "text/plain": [
       "address\n",
       "Новгородская область, 49Н-1234                                                                16\n",
       "Санкт-Петербург, улица Рентгена, 19                                                           16\n",
       "Республика Карелия, Петрозаводск, улица Федосовой, 30                                         13\n",
       "Краснодарский край, Сочи, микрорайон Центральный, Навагинская улица, 11, корп. 5              12\n",
       "Новгородская область, Окуловский район, Турбинное сельское поселение, М-11, 423-й километр    11\n",
       "                                                                                              ..\n",
       "Москва, Дубининская улица, 67к2                                                                1\n",
       "Республика Коми, Сыктывкар, Сысольское шоссе, 7/1                                              1\n",
       "Хабаровск, Морская улица, 7                                                                    1\n",
       "Ханты-Мансийский автономный округ, Урай, микрорайон Западный, 12Б                              1\n",
       "Новосибирск, Коммунистическая улица, 48А                                                       1\n",
       "Name: count, Length: 576, dtype: int64"
      ]
     },
     "execution_count": 392,
     "metadata": {},
     "output_type": "execute_result"
    }
   ],
   "source": [
    "df[df['name_ru'].isna()]['address'].value_counts()"
   ]
  },
  {
   "cell_type": "markdown",
   "id": "2ef7062f",
   "metadata": {},
   "source": [
    "Но мы можем проверить, вдруг есть строки, где адрес проставлен, совпадает рубрика и есть название"
   ]
  },
  {
   "cell_type": "code",
   "execution_count": 393,
   "id": "6f9ddafe",
   "metadata": {},
   "outputs": [],
   "source": [
    "df_with_names = df.dropna(subset=['name_ru'])"
   ]
  },
  {
   "cell_type": "code",
   "execution_count": 394,
   "id": "1d51000c",
   "metadata": {},
   "outputs": [],
   "source": [
    "address_to_name_map = df_with_names.drop_duplicates(subset=['address', 'rubrics']).set_index(['address', 'rubrics'])['name_ru']"
   ]
  },
  {
   "cell_type": "code",
   "execution_count": 395,
   "id": "9fd29751",
   "metadata": {},
   "outputs": [
    {
     "data": {
      "text/plain": [
       "address                                                                                                           rubrics                                                           \n",
       "Екатеринбург, ул. Московская / ул. Волгоградская / ул. Печатников                                                 Жилой комплекс                                                        Московский квартал\n",
       "Московская область, Электросталь, проспект Ленина, 29                                                             Магазин продуктов;Продукты глубокой заморозки;Магазин мяса, колбас     Продукты Ермолино\n",
       "Краснодар, Прикубанский внутригородской округ, микрорайон имени Петра Метальникова, улица Петра Метальникова, 26  Фитнес-клуб                                                                      LimeFit\n",
       "Санкт-Петербург, проспект Энгельса, 111, корп. 1                                                                  Пункт проката;Прокат велосипедов;Сапсёрфинг                                 Snow-Express\n",
       "Тверь, Волоколамский проспект, 39                                                                                 Салон красоты;Визажисты, стилисты;Салон бровей и ресниц               Студия Beauty Brow\n",
       "Name: name_ru, dtype: object"
      ]
     },
     "execution_count": 395,
     "metadata": {},
     "output_type": "execute_result"
    }
   ],
   "source": [
    "address_to_name_map.head()"
   ]
  },
  {
   "cell_type": "code",
   "execution_count": 396,
   "id": "803a02e8",
   "metadata": {},
   "outputs": [
    {
     "data": {
      "text/plain": [
       "(272722,)"
      ]
     },
     "execution_count": 396,
     "metadata": {},
     "output_type": "execute_result"
    }
   ],
   "source": [
    "address_to_name_map.shape"
   ]
  },
  {
   "cell_type": "markdown",
   "id": "c0a94636",
   "metadata": {},
   "source": [
    "272 722 организации (филиалы) с известным именем"
   ]
  },
  {
   "cell_type": "code",
   "execution_count": 397,
   "id": "859f289d",
   "metadata": {},
   "outputs": [],
   "source": [
    "rows_to_fill = df['name_ru'].isnull()"
   ]
  },
  {
   "cell_type": "code",
   "execution_count": 398,
   "id": "65502dd5",
   "metadata": {},
   "outputs": [
    {
     "data": {
      "text/plain": [
       "Series([], Name: address, dtype: object)"
      ]
     },
     "execution_count": 398,
     "metadata": {},
     "output_type": "execute_result"
    }
   ],
   "source": [
    "df.loc[rows_to_fill, 'address'].map(address_to_name_map).dropna()"
   ]
  },
  {
   "cell_type": "markdown",
   "id": "70087aa3",
   "metadata": {},
   "source": [
    "Понимаем, что адреса пустых организаций нигде не повторяются, где названия есть. Так как нам не особо важно название организации, а все остальные данные по ним есть, давайте сгруппируем их по адресу и рубрике (с большой вероятностью это одна и та же организация) и дадим название \"Неизвестная организация N\" - где N просто номер "
   ]
  },
  {
   "cell_type": "markdown",
   "id": "17bb5bc7",
   "metadata": {},
   "source": [
    "На всякий проверим, что нет организаций с похожими названиями"
   ]
  },
  {
   "cell_type": "code",
   "execution_count": 399,
   "id": "b113120b",
   "metadata": {},
   "outputs": [
    {
     "data": {
      "text/html": [
       "<div>\n",
       "<style scoped>\n",
       "    .dataframe tbody tr th:only-of-type {\n",
       "        vertical-align: middle;\n",
       "    }\n",
       "\n",
       "    .dataframe tbody tr th {\n",
       "        vertical-align: top;\n",
       "    }\n",
       "\n",
       "    .dataframe thead th {\n",
       "        text-align: right;\n",
       "    }\n",
       "</style>\n",
       "<table border=\"1\" class=\"dataframe\">\n",
       "  <thead>\n",
       "    <tr style=\"text-align: right;\">\n",
       "      <th></th>\n",
       "      <th>address</th>\n",
       "      <th>name_ru</th>\n",
       "      <th>rating</th>\n",
       "      <th>rubrics</th>\n",
       "      <th>text</th>\n",
       "      <th>rubrics_list</th>\n",
       "    </tr>\n",
       "  </thead>\n",
       "  <tbody>\n",
       "  </tbody>\n",
       "</table>\n",
       "</div>"
      ],
      "text/plain": [
       "Empty DataFrame\n",
       "Columns: [address, name_ru, rating, rubrics, text, rubrics_list]\n",
       "Index: []"
      ]
     },
     "execution_count": 399,
     "metadata": {},
     "output_type": "execute_result"
    }
   ],
   "source": [
    "df[df['name_ru'].str.contains(\"Неизвестная\") == True]"
   ]
  },
  {
   "cell_type": "code",
   "execution_count": 400,
   "id": "09650fe4",
   "metadata": {},
   "outputs": [
    {
     "data": {
      "text/html": [
       "<div>\n",
       "<style scoped>\n",
       "    .dataframe tbody tr th:only-of-type {\n",
       "        vertical-align: middle;\n",
       "    }\n",
       "\n",
       "    .dataframe tbody tr th {\n",
       "        vertical-align: top;\n",
       "    }\n",
       "\n",
       "    .dataframe thead th {\n",
       "        text-align: right;\n",
       "    }\n",
       "</style>\n",
       "<table border=\"1\" class=\"dataframe\">\n",
       "  <thead>\n",
       "    <tr style=\"text-align: right;\">\n",
       "      <th></th>\n",
       "      <th>address</th>\n",
       "      <th>name_ru</th>\n",
       "      <th>rating</th>\n",
       "      <th>rubrics</th>\n",
       "      <th>text</th>\n",
       "      <th>rubrics_list</th>\n",
       "      <th>key</th>\n",
       "    </tr>\n",
       "  </thead>\n",
       "  <tbody>\n",
       "    <tr>\n",
       "      <th>322</th>\n",
       "      <td>Москва, 8-я улица Соколиной Горы, 15А, стр. 23</td>\n",
       "      <td>NaN</td>\n",
       "      <td>5.0</td>\n",
       "      <td>Офис организации</td>\n",
       "      <td>Ребята профи!\\n\\nОтлично подобрали модель, съе...</td>\n",
       "      <td>[Офис организации]</td>\n",
       "      <td>Москва, 8-я улица Соколиной Горы, 15А, стр. 23...</td>\n",
       "    </tr>\n",
       "    <tr>\n",
       "      <th>5716</th>\n",
       "      <td>Челябинская область, Златоуст, Таганайская ули...</td>\n",
       "      <td>NaN</td>\n",
       "      <td>5.0</td>\n",
       "      <td>Гостиница</td>\n",
       "      <td>Гостиница действительно хорошая, удобно распол...</td>\n",
       "      <td>[Гостиница]</td>\n",
       "      <td>Челябинская область, Златоуст, Таганайская ули...</td>\n",
       "    </tr>\n",
       "    <tr>\n",
       "      <th>5717</th>\n",
       "      <td>Челябинская область, Златоуст, Таганайская ули...</td>\n",
       "      <td>NaN</td>\n",
       "      <td>5.0</td>\n",
       "      <td>Гостиница</td>\n",
       "      <td>Был здесь на кулинарном мастер-классе. Место а...</td>\n",
       "      <td>[Гостиница]</td>\n",
       "      <td>Челябинская область, Златоуст, Таганайская ули...</td>\n",
       "    </tr>\n",
       "    <tr>\n",
       "      <th>5718</th>\n",
       "      <td>Челябинская область, Златоуст, Таганайская ули...</td>\n",
       "      <td>NaN</td>\n",
       "      <td>5.0</td>\n",
       "      <td>Гостиница</td>\n",
       "      <td>Тихое место, в выходные возможно и шумно так к...</td>\n",
       "      <td>[Гостиница]</td>\n",
       "      <td>Челябинская область, Златоуст, Таганайская ули...</td>\n",
       "    </tr>\n",
       "    <tr>\n",
       "      <th>5719</th>\n",
       "      <td>Челябинская область, Златоуст, Таганайская ули...</td>\n",
       "      <td>NaN</td>\n",
       "      <td>5.0</td>\n",
       "      <td>Гостиница</td>\n",
       "      <td>Воспитанные и отзывчивые официанты , вкусная к...</td>\n",
       "      <td>[Гостиница]</td>\n",
       "      <td>Челябинская область, Златоуст, Таганайская ули...</td>\n",
       "    </tr>\n",
       "  </tbody>\n",
       "</table>\n",
       "</div>"
      ],
      "text/plain": [
       "                                                address name_ru  rating  \\\n",
       "322      Москва, 8-я улица Соколиной Горы, 15А, стр. 23     NaN     5.0   \n",
       "5716  Челябинская область, Златоуст, Таганайская ули...     NaN     5.0   \n",
       "5717  Челябинская область, Златоуст, Таганайская ули...     NaN     5.0   \n",
       "5718  Челябинская область, Златоуст, Таганайская ули...     NaN     5.0   \n",
       "5719  Челябинская область, Златоуст, Таганайская ули...     NaN     5.0   \n",
       "\n",
       "               rubrics                                               text  \\\n",
       "322   Офис организации  Ребята профи!\\n\\nОтлично подобрали модель, съе...   \n",
       "5716         Гостиница  Гостиница действительно хорошая, удобно распол...   \n",
       "5717         Гостиница  Был здесь на кулинарном мастер-классе. Место а...   \n",
       "5718         Гостиница  Тихое место, в выходные возможно и шумно так к...   \n",
       "5719         Гостиница  Воспитанные и отзывчивые официанты , вкусная к...   \n",
       "\n",
       "            rubrics_list                                                key  \n",
       "322   [Офис организации]  Москва, 8-я улица Соколиной Горы, 15А, стр. 23...  \n",
       "5716         [Гостиница]  Челябинская область, Златоуст, Таганайская ули...  \n",
       "5717         [Гостиница]  Челябинская область, Златоуст, Таганайская ули...  \n",
       "5718         [Гостиница]  Челябинская область, Златоуст, Таганайская ули...  \n",
       "5719         [Гостиница]  Челябинская область, Златоуст, Таганайская ули...  "
      ]
     },
     "execution_count": 400,
     "metadata": {},
     "output_type": "execute_result"
    }
   ],
   "source": [
    "df_without_names = df[df['name_ru'].isna()].copy()\n",
    "df_without_names['key'] = df['address'] + df['rubrics']\n",
    "df_without_names.head()"
   ]
  },
  {
   "cell_type": "code",
   "execution_count": 401,
   "id": "b2874e8a",
   "metadata": {},
   "outputs": [],
   "source": [
    "unique_missing_keys = df_without_names['key'].unique()\n",
    "key_to_generated_name_map = {key: f\"Неизвестная организация №{i}\" for i, key in enumerate(unique_missing_keys, 1)}"
   ]
  },
  {
   "cell_type": "code",
   "execution_count": 402,
   "id": "d7a0f6d2",
   "metadata": {},
   "outputs": [
    {
     "data": {
      "text/html": [
       "<div>\n",
       "<style scoped>\n",
       "    .dataframe tbody tr th:only-of-type {\n",
       "        vertical-align: middle;\n",
       "    }\n",
       "\n",
       "    .dataframe tbody tr th {\n",
       "        vertical-align: top;\n",
       "    }\n",
       "\n",
       "    .dataframe thead th {\n",
       "        text-align: right;\n",
       "    }\n",
       "</style>\n",
       "<table border=\"1\" class=\"dataframe\">\n",
       "  <thead>\n",
       "    <tr style=\"text-align: right;\">\n",
       "      <th></th>\n",
       "      <th>address</th>\n",
       "      <th>name_ru</th>\n",
       "      <th>rating</th>\n",
       "      <th>rubrics</th>\n",
       "      <th>text</th>\n",
       "      <th>rubrics_list</th>\n",
       "      <th>key</th>\n",
       "    </tr>\n",
       "  </thead>\n",
       "  <tbody>\n",
       "    <tr>\n",
       "      <th>0</th>\n",
       "      <td>Екатеринбург, ул. Московская / ул. Волгоградск...</td>\n",
       "      <td>Московский квартал</td>\n",
       "      <td>3.0</td>\n",
       "      <td>Жилой комплекс</td>\n",
       "      <td>Московский квартал 2.\\nШумно : летом по ночам ...</td>\n",
       "      <td>[Жилой комплекс]</td>\n",
       "      <td>Екатеринбург, ул. Московская / ул. Волгоградск...</td>\n",
       "    </tr>\n",
       "    <tr>\n",
       "      <th>1</th>\n",
       "      <td>Московская область, Электросталь, проспект Лен...</td>\n",
       "      <td>Продукты Ермолино</td>\n",
       "      <td>5.0</td>\n",
       "      <td>Магазин продуктов;Продукты глубокой заморозки;...</td>\n",
       "      <td>Замечательная сеть магазинов в общем, хороший ...</td>\n",
       "      <td>[Магазин продуктов, Продукты глубокой заморозк...</td>\n",
       "      <td>Московская область, Электросталь, проспект Лен...</td>\n",
       "    </tr>\n",
       "    <tr>\n",
       "      <th>2</th>\n",
       "      <td>Краснодар, Прикубанский внутригородской округ,...</td>\n",
       "      <td>LimeFit</td>\n",
       "      <td>1.0</td>\n",
       "      <td>Фитнес-клуб</td>\n",
       "      <td>Не знаю смутят ли кого-то данные правила, но я...</td>\n",
       "      <td>[Фитнес-клуб]</td>\n",
       "      <td>Краснодар, Прикубанский внутригородской округ,...</td>\n",
       "    </tr>\n",
       "    <tr>\n",
       "      <th>3</th>\n",
       "      <td>Санкт-Петербург, проспект Энгельса, 111, корп. 1</td>\n",
       "      <td>Snow-Express</td>\n",
       "      <td>4.0</td>\n",
       "      <td>Пункт проката;Прокат велосипедов;Сапсёрфинг</td>\n",
       "      <td>Хорошие условия аренды. \\nДружелюбный персонал...</td>\n",
       "      <td>[Пункт проката, Прокат велосипедов, Сапсёрфинг]</td>\n",
       "      <td>Санкт-Петербург, проспект Энгельса, 111, корп....</td>\n",
       "    </tr>\n",
       "    <tr>\n",
       "      <th>4</th>\n",
       "      <td>Тверь, Волоколамский проспект, 39</td>\n",
       "      <td>Студия Beauty Brow</td>\n",
       "      <td>5.0</td>\n",
       "      <td>Салон красоты;Визажисты, стилисты;Салон бровей...</td>\n",
       "      <td>Топ мастер Ангелина топ во всех смыслах ) Немн...</td>\n",
       "      <td>[Салон красоты, Визажисты, стилисты, Салон бро...</td>\n",
       "      <td>Тверь, Волоколамский проспект, 39Салон красоты...</td>\n",
       "    </tr>\n",
       "  </tbody>\n",
       "</table>\n",
       "</div>"
      ],
      "text/plain": [
       "                                             address             name_ru  \\\n",
       "0  Екатеринбург, ул. Московская / ул. Волгоградск...  Московский квартал   \n",
       "1  Московская область, Электросталь, проспект Лен...   Продукты Ермолино   \n",
       "2  Краснодар, Прикубанский внутригородской округ,...             LimeFit   \n",
       "3   Санкт-Петербург, проспект Энгельса, 111, корп. 1        Snow-Express   \n",
       "4                  Тверь, Волоколамский проспект, 39  Студия Beauty Brow   \n",
       "\n",
       "   rating                                            rubrics  \\\n",
       "0     3.0                                     Жилой комплекс   \n",
       "1     5.0  Магазин продуктов;Продукты глубокой заморозки;...   \n",
       "2     1.0                                        Фитнес-клуб   \n",
       "3     4.0        Пункт проката;Прокат велосипедов;Сапсёрфинг   \n",
       "4     5.0  Салон красоты;Визажисты, стилисты;Салон бровей...   \n",
       "\n",
       "                                                text  \\\n",
       "0  Московский квартал 2.\\nШумно : летом по ночам ...   \n",
       "1  Замечательная сеть магазинов в общем, хороший ...   \n",
       "2  Не знаю смутят ли кого-то данные правила, но я...   \n",
       "3  Хорошие условия аренды. \\nДружелюбный персонал...   \n",
       "4  Топ мастер Ангелина топ во всех смыслах ) Немн...   \n",
       "\n",
       "                                        rubrics_list  \\\n",
       "0                                   [Жилой комплекс]   \n",
       "1  [Магазин продуктов, Продукты глубокой заморозк...   \n",
       "2                                      [Фитнес-клуб]   \n",
       "3    [Пункт проката, Прокат велосипедов, Сапсёрфинг]   \n",
       "4  [Салон красоты, Визажисты, стилисты, Салон бро...   \n",
       "\n",
       "                                                 key  \n",
       "0  Екатеринбург, ул. Московская / ул. Волгоградск...  \n",
       "1  Московская область, Электросталь, проспект Лен...  \n",
       "2  Краснодар, Прикубанский внутригородской округ,...  \n",
       "3  Санкт-Петербург, проспект Энгельса, 111, корп....  \n",
       "4  Тверь, Волоколамский проспект, 39Салон красоты...  "
      ]
     },
     "execution_count": 402,
     "metadata": {},
     "output_type": "execute_result"
    }
   ],
   "source": [
    "df['key'] = df['address'] + df['rubrics']\n",
    "df.loc[rows_to_fill, 'name_ru'] = df.loc[rows_to_fill, 'key'].map(key_to_generated_name_map)\n",
    "df.head()"
   ]
  },
  {
   "cell_type": "code",
   "execution_count": 403,
   "id": "824f4c93",
   "metadata": {},
   "outputs": [],
   "source": [
    "df = df.drop(columns=['key'])"
   ]
  },
  {
   "cell_type": "code",
   "execution_count": 404,
   "id": "094a27af",
   "metadata": {},
   "outputs": [
    {
     "name": "stdout",
     "output_type": "stream",
     "text": [
      "<class 'pandas.core.frame.DataFrame'>\n",
      "RangeIndex: 500000 entries, 0 to 499999\n",
      "Data columns (total 6 columns):\n",
      " #   Column        Non-Null Count   Dtype  \n",
      "---  ------        --------------   -----  \n",
      " 0   address       500000 non-null  object \n",
      " 1   name_ru       500000 non-null  object \n",
      " 2   rating        500000 non-null  float64\n",
      " 3   rubrics       500000 non-null  object \n",
      " 4   text          500000 non-null  object \n",
      " 5   rubrics_list  500000 non-null  object \n",
      "dtypes: float64(1), object(5)\n",
      "memory usage: 22.9+ MB\n"
     ]
    }
   ],
   "source": [
    "df.info()"
   ]
  },
  {
   "cell_type": "markdown",
   "id": "29833265",
   "metadata": {},
   "source": [
    "Теперь все данные не пустые"
   ]
  },
  {
   "cell_type": "markdown",
   "id": "51ee561a",
   "metadata": {},
   "source": [
    "## Аналитика"
   ]
  },
  {
   "cell_type": "markdown",
   "id": "ff081d93",
   "metadata": {},
   "source": [
    "### Организации"
   ]
  },
  {
   "cell_type": "code",
   "execution_count": 405,
   "id": "db510c29",
   "metadata": {},
   "outputs": [
    {
     "name": "stdout",
     "output_type": "stream",
     "text": [
      "Количество уникальных геоточек 191925\n",
      "Количество уникальных геоточек + рубрика 273293\n",
      "Количество уникальных филиалов организаций 276871\n",
      "Количество уникальных организаций 149035\n",
      "Количество уникальных организаций с рубрикой 196591\n"
     ]
    }
   ],
   "source": [
    "print(f'Количество уникальных геоточек {len(df.groupby('address'))}')\n",
    "print(f'Количество уникальных геоточек + рубрика {len(df.groupby(['address', 'rubrics']))}')\n",
    "print(f'Количество уникальных филиалов организаций {len(df.groupby(['address', 'rubrics', 'name_ru']))}')\n",
    "print(f'Количество уникальных организаций {len(df.groupby(['name_ru']))}')\n",
    "print(f'Количество уникальных организаций с рубрикой {len(df.groupby(['name_ru', 'rubrics']))}')"
   ]
  },
  {
   "cell_type": "markdown",
   "id": "29f54c65",
   "metadata": {},
   "source": [
    "1. Количество уникальных геоточек: 191 925\n",
    "Это количество уникальных физических адресов в нашем датасете. Можно думать об этом как о количестве уникальных зданий или конкретных мест на карте, где есть хотя бы одна организация.\n",
    "\n",
    "2. Количество уникальных геоточек + рубрика: 273 293\n",
    "Это количество уникальных пар (здание, тип деятельности).\n",
    "Почему больше, чем п.1? (273 293 > 191 925). Потому что в одном и том же здании (один address) может быть несколько организаций с разными видами деятельности (разные rubrics). Например, в ТЦ по адресу \"ул. Ленина, 1\" есть \"Продуктовый магазин\", \"Кинотеатр\" и \"Кафе\". Это будет три разные записи для одного адреса.\n",
    "\n",
    "3. Количество уникальных филиалов организаций: 276 871\n",
    "Это самое точное представление уникального физического филиала компании. Уникальная тройка (здание, тип деятельности, название). В идеальном мире это число должно быть равно предыдущему.\n",
    "Почему больше, чем п.2? (276 871 > 273 293). Это указывает на \"грязные\" данные. Для одной и той же пары (адрес, рубрики) существует несколько вариантов name_ru. Например, \"Пятёрочка\" и \"Пятерочка\". Разница в 3 578 (276 871 - 273 293) — это количество таких \"аномальных\" случаев, которые нужно чистить.\n",
    "\n",
    "4. Количество уникальных организаций: 149 035\n",
    "Это количество уникальных названий организаций в датасете. Это число показывает, сколько всего существует уникальных \"брендов\" или \"имен\".\n",
    "Почему это число меньше всех предыдущих? Потому что у одного и того же бренда (одно name_ru, например, \"Сбербанк\") есть множество филиалов по разным адресам. groupby('name_ru') \"схлопывает\" все филиалы \"Сбербанка\" в одну группу.\n",
    "\n",
    "5. Количество уникальных организаций с рубрикой: 196 591\n",
    "Это количество уникальных пар (название_бренда, тип_деятельности).\n",
    "Почему больше, чем п.4? (196 591 > 149 035). Потому что один и тот же бренд может заниматься разными видами деятельности.\n",
    "Классический пример: \"Яндекс\". У него могут быть рубрики \"IT-компания\", \"Такси\", \"Доставка еды\", \"Пункт выдачи заказов\". Каждая такая пара (\"Яндекс\", \"Такси\"), (\"Яндекс\", \"Доставка еды\") будет считаться уникальной.\n",
    "Другой пример: \"Магнит\". Могут быть рубрики \"Магазин продуктов\" или \"Супермаркет\" - в зависимости от размерка магазина.\n"
   ]
  },
  {
   "cell_type": "markdown",
   "id": "4cbda84a",
   "metadata": {},
   "source": [
    "#### Примеры из датасета"
   ]
  },
  {
   "cell_type": "code",
   "execution_count": 406,
   "id": "628f5017",
   "metadata": {},
   "outputs": [
    {
     "name": "stdout",
     "output_type": "stream",
     "text": [
      "Найдено 2906 пар (адрес, рубрики) с несколькими уникальными названиями\n",
      "\n",
      "--- Примеры неконсистентных данных ---\n",
      "\n",
      "Пример #1\n",
      "Адрес: Алтайский край, Смоленский район\n",
      "Рубрики: Горная вершина\n",
      "Обнаружены разные названия: ['Гора Церковка', 'Глухариные скалы']\n",
      "--------------------\n",
      "\n",
      "Пример #2\n",
      "Адрес: Алтайский район, игорная зона Сибирская Монета, 66\n",
      "Рубрики: Гостиница\n",
      "Обнаружены разные названия: ['Altai Palace', 'Алтай Пэлас']\n",
      "--------------------\n",
      "\n",
      "Пример #3\n",
      "Адрес: Амурская область, Благовещенск\n",
      "Рубрики: Жанровая скульптура\n",
      "Обнаружены разные названия: ['Железный бык', 'Памятник казакам-первопоселенцам Приамурья']\n",
      "--------------------\n",
      "\n",
      "Пример #4\n",
      "Адрес: Архангельск, Воскресенская улица, 8\n",
      "Рубрики: Гостиница\n",
      "Обнаружены разные названия: ['В центре', 'Отель на Воскресенской']\n",
      "--------------------\n",
      "\n",
      "Пример #5\n",
      "Адрес: Архангельск, набережная Северной Двины, 32\n",
      "Рубрики: Гостиница\n",
      "Обнаружены разные названия: ['Адмирал', 'Северница']\n",
      "--------------------\n",
      "\n"
     ]
    }
   ],
   "source": [
    "grouped = df.groupby(['address', 'rubrics'])['name_ru'].nunique()\n",
    "\n",
    "inconsistent_groups = grouped[grouped > 1]\n",
    "\n",
    "print(f\"Найдено {len(inconsistent_groups)} пар (адрес, рубрики) с несколькими уникальными названиями\")\n",
    "\n",
    "print(\"\\n--- Примеры неконсистентных данных ---\\n\")\n",
    "\n",
    "inconsistent_indices = inconsistent_groups.index\n",
    "for i, (address, rubrics) in enumerate(inconsistent_indices[5:10]):\n",
    "    example_df = df[\n",
    "        (df['address'] == address) & \n",
    "        (df['rubrics'] == rubrics)\n",
    "    ]\n",
    "    unique_names = example_df['name_ru'].unique()\n",
    "    \n",
    "    print(f\"Пример #{i+1}\")\n",
    "    print(f\"Адрес: {address}\")\n",
    "    print(f\"Рубрики: {rubrics}\")\n",
    "    print(f\"Обнаружены разные названия: {list(unique_names)}\")\n",
    "    print(\"-\" * 20 + \"\\n\")\n",
    "\n"
   ]
  },
  {
   "cell_type": "markdown",
   "id": "d5c15263",
   "metadata": {},
   "source": [
    "#### ИТОГО"
   ]
  },
  {
   "cell_type": "markdown",
   "id": "abc72c44",
   "metadata": {},
   "source": [
    "у нас следующие проблемы:\n",
    "* идентификатор организации - это адрес + рубрики + название\n",
    "* при этом название может быть записано по разному - буквы е и ё, английский или транскрипт, большие/маленькие буквы\n",
    "* chain - сеть - будем считать одну организацию без привязки к адресу, но будем привязываться к рубрикам, чтобы избежать абсолютно разные направления организаций просто с одинаковыми названиями"
   ]
  },
  {
   "cell_type": "markdown",
   "id": "656f06c1",
   "metadata": {},
   "source": [
    "#### Решаем проблемы"
   ]
  },
  {
   "cell_type": "markdown",
   "id": "26ba121b",
   "metadata": {},
   "source": [
    "План действий:\n",
    "1. Приведение к нижнему регистру: Убирает проблемы с заглавными буквами.\n",
    "2. Замена ё на е: Стандартизирует наиболее частую вариацию в русских словах.\n",
    "3. Удаление знаков препинания и спецсимволов: Избавляет от разницы вроде \"Вкусно - и точка\" vs \"Вкусно и точка\".\n",
    "4. Удаление лишних пробелов: Убирает случайные двойные пробелы или пробелы в начале/конце строки.\n",
    "5. Лемматизация: Приводит слова к их начальной форме (словарной). Это решает проблему единственного и множественного числа (\"цветок\" vs \"цветы\"). Для этого мы будем использовать библиотеку pymorphy3.\n",
    "6. Транслитерация: Попытаемся привести английские названия и транслит к единому виду. Это сложная задача, но мы можем реализовать базовую версию."
   ]
  },
  {
   "cell_type": "code",
   "execution_count": 407,
   "id": "188f2b04",
   "metadata": {},
   "outputs": [],
   "source": [
    "morph = pymorphy3.MorphAnalyzer()"
   ]
  },
  {
   "cell_type": "code",
   "execution_count": 408,
   "id": "72d89367",
   "metadata": {},
   "outputs": [
    {
     "data": {
      "text/html": [
       "<div>\n",
       "<style scoped>\n",
       "    .dataframe tbody tr th:only-of-type {\n",
       "        vertical-align: middle;\n",
       "    }\n",
       "\n",
       "    .dataframe tbody tr th {\n",
       "        vertical-align: top;\n",
       "    }\n",
       "\n",
       "    .dataframe thead th {\n",
       "        text-align: right;\n",
       "    }\n",
       "</style>\n",
       "<table border=\"1\" class=\"dataframe\">\n",
       "  <thead>\n",
       "    <tr style=\"text-align: right;\">\n",
       "      <th></th>\n",
       "      <th>name_ru</th>\n",
       "      <th>name_ru_normalized</th>\n",
       "    </tr>\n",
       "  </thead>\n",
       "  <tbody>\n",
       "    <tr>\n",
       "      <th>0</th>\n",
       "      <td>Московский квартал</td>\n",
       "      <td>московский квартал</td>\n",
       "    </tr>\n",
       "    <tr>\n",
       "      <th>1</th>\n",
       "      <td>Продукты Ермолино</td>\n",
       "      <td>продукт ермолин</td>\n",
       "    </tr>\n",
       "    <tr>\n",
       "      <th>2</th>\n",
       "      <td>LimeFit</td>\n",
       "      <td>лимефита</td>\n",
       "    </tr>\n",
       "    <tr>\n",
       "      <th>3</th>\n",
       "      <td>Snow-Express</td>\n",
       "      <td>сноw-еxпресс</td>\n",
       "    </tr>\n",
       "    <tr>\n",
       "      <th>4</th>\n",
       "      <td>Студия Beauty Brow</td>\n",
       "      <td>студия беаут броw</td>\n",
       "    </tr>\n",
       "    <tr>\n",
       "      <th>5</th>\n",
       "      <td>Tele2</td>\n",
       "      <td>теле2</td>\n",
       "    </tr>\n",
       "    <tr>\n",
       "      <th>6</th>\n",
       "      <td>У тещи</td>\n",
       "      <td>у теща</td>\n",
       "    </tr>\n",
       "    <tr>\n",
       "      <th>7</th>\n",
       "      <td>Smoking Park</td>\n",
       "      <td>смокинг парк</td>\n",
       "    </tr>\n",
       "    <tr>\n",
       "      <th>8</th>\n",
       "      <td>Jinju</td>\n",
       "      <td>йиня</td>\n",
       "    </tr>\n",
       "    <tr>\n",
       "      <th>9</th>\n",
       "      <td>Jinju</td>\n",
       "      <td>йиня</td>\n",
       "    </tr>\n",
       "  </tbody>\n",
       "</table>\n",
       "</div>"
      ],
      "text/plain": [
       "              name_ru  name_ru_normalized\n",
       "0  Московский квартал  московский квартал\n",
       "1   Продукты Ермолино     продукт ермолин\n",
       "2             LimeFit            лимефита\n",
       "3        Snow-Express        сноw-еxпресс\n",
       "4  Студия Beauty Brow   студия беаут броw\n",
       "5               Tele2               теле2\n",
       "6              У тещи              у теща\n",
       "7        Smoking Park        смокинг парк\n",
       "8               Jinju                йиня\n",
       "9               Jinju                йиня"
      ]
     },
     "execution_count": 408,
     "metadata": {},
     "output_type": "execute_result"
    }
   ],
   "source": [
    "def normalize_name(name):\n",
    "    name = name.lower()\n",
    "    \n",
    "    try:\n",
    "        name_ru = translit(name, 'ru')\n",
    "        if name_ru and re.search('[а-я]', name_ru):\n",
    "            name = name_ru\n",
    "    except Exception:\n",
    "        pass\n",
    "\n",
    "    name = re.sub(r'[^а-яa-z0-9\\s-]', '', name)\n",
    "    \n",
    "    words = name.split()\n",
    "    lemmatized_words = [morph.parse(word)[0].normal_form for word in words]\n",
    "    name = ' '.join(lemmatized_words)\n",
    "    \n",
    "    name = re.sub(r'\\s+', ' ', name).strip()\n",
    "    name = name.replace('ё', 'е')\n",
    "    \n",
    "    return name\n",
    "\n",
    "df['name_ru_normalized'] = df['name_ru'].apply(normalize_name)\n",
    "\n",
    "df[df['name_ru'] != df['name_ru_normalized']][['name_ru', 'name_ru_normalized']].head(10)\n"
   ]
  },
  {
   "cell_type": "markdown",
   "id": "ea66776d",
   "metadata": {},
   "source": [
    "Посмотрим на найденный пример"
   ]
  },
  {
   "cell_type": "code",
   "execution_count": 409,
   "id": "f737a9a3",
   "metadata": {},
   "outputs": [
    {
     "data": {
      "text/html": [
       "<div>\n",
       "<style scoped>\n",
       "    .dataframe tbody tr th:only-of-type {\n",
       "        vertical-align: middle;\n",
       "    }\n",
       "\n",
       "    .dataframe tbody tr th {\n",
       "        vertical-align: top;\n",
       "    }\n",
       "\n",
       "    .dataframe thead th {\n",
       "        text-align: right;\n",
       "    }\n",
       "</style>\n",
       "<table border=\"1\" class=\"dataframe\">\n",
       "  <thead>\n",
       "    <tr style=\"text-align: right;\">\n",
       "      <th></th>\n",
       "      <th>address</th>\n",
       "      <th>name_ru</th>\n",
       "      <th>rating</th>\n",
       "      <th>rubrics</th>\n",
       "      <th>text</th>\n",
       "      <th>rubrics_list</th>\n",
       "      <th>name_ru_normalized</th>\n",
       "    </tr>\n",
       "  </thead>\n",
       "  <tbody>\n",
       "    <tr>\n",
       "      <th>413471</th>\n",
       "      <td>Алтайский район, игорная зона Сибирская Монета...</td>\n",
       "      <td>Алтай Пэлас</td>\n",
       "      <td>4.0</td>\n",
       "      <td>Гостиница</td>\n",
       "      <td>Достаточно хорошее место для отдыха. Горный во...</td>\n",
       "      <td>[Гостиница]</td>\n",
       "      <td>алтай пэласа</td>\n",
       "    </tr>\n",
       "    <tr>\n",
       "      <th>413472</th>\n",
       "      <td>Алтайский район, игорная зона Сибирская Монета...</td>\n",
       "      <td>Алтай Пэлас</td>\n",
       "      <td>5.0</td>\n",
       "      <td>Гостиница</td>\n",
       "      <td>Отличное обслуживание, умный с юморм персонал....</td>\n",
       "      <td>[Гостиница]</td>\n",
       "      <td>алтай пэласа</td>\n",
       "    </tr>\n",
       "    <tr>\n",
       "      <th>413473</th>\n",
       "      <td>Алтайский район, игорная зона Сибирская Монета...</td>\n",
       "      <td>Алтай Пэлас</td>\n",
       "      <td>5.0</td>\n",
       "      <td>Гостиница</td>\n",
       "      <td>Рекомендую! Летом или зимой, весной или тем бо...</td>\n",
       "      <td>[Гостиница]</td>\n",
       "      <td>алтай пэласа</td>\n",
       "    </tr>\n",
       "  </tbody>\n",
       "</table>\n",
       "</div>"
      ],
      "text/plain": [
       "                                                  address      name_ru  \\\n",
       "413471  Алтайский район, игорная зона Сибирская Монета...  Алтай Пэлас   \n",
       "413472  Алтайский район, игорная зона Сибирская Монета...  Алтай Пэлас   \n",
       "413473  Алтайский район, игорная зона Сибирская Монета...  Алтай Пэлас   \n",
       "\n",
       "        rating    rubrics                                               text  \\\n",
       "413471     4.0  Гостиница  Достаточно хорошее место для отдыха. Горный во...   \n",
       "413472     5.0  Гостиница  Отличное обслуживание, умный с юморм персонал....   \n",
       "413473     5.0  Гостиница  Рекомендую! Летом или зимой, весной или тем бо...   \n",
       "\n",
       "       rubrics_list name_ru_normalized  \n",
       "413471  [Гостиница]       алтай пэласа  \n",
       "413472  [Гостиница]       алтай пэласа  \n",
       "413473  [Гостиница]       алтай пэласа  "
      ]
     },
     "execution_count": 409,
     "metadata": {},
     "output_type": "execute_result"
    }
   ],
   "source": [
    "df[df['name_ru'] == \"Алтай Пэлас\"]"
   ]
  },
  {
   "cell_type": "code",
   "execution_count": 410,
   "id": "ff63bffd",
   "metadata": {},
   "outputs": [
    {
     "data": {
      "text/html": [
       "<div>\n",
       "<style scoped>\n",
       "    .dataframe tbody tr th:only-of-type {\n",
       "        vertical-align: middle;\n",
       "    }\n",
       "\n",
       "    .dataframe tbody tr th {\n",
       "        vertical-align: top;\n",
       "    }\n",
       "\n",
       "    .dataframe thead th {\n",
       "        text-align: right;\n",
       "    }\n",
       "</style>\n",
       "<table border=\"1\" class=\"dataframe\">\n",
       "  <thead>\n",
       "    <tr style=\"text-align: right;\">\n",
       "      <th></th>\n",
       "      <th>address</th>\n",
       "      <th>name_ru</th>\n",
       "      <th>rating</th>\n",
       "      <th>rubrics</th>\n",
       "      <th>text</th>\n",
       "      <th>rubrics_list</th>\n",
       "      <th>name_ru_normalized</th>\n",
       "    </tr>\n",
       "  </thead>\n",
       "  <tbody>\n",
       "    <tr>\n",
       "      <th>48525</th>\n",
       "      <td>Алтайский район, игорная зона Сибирская Монета...</td>\n",
       "      <td>Altai Palace</td>\n",
       "      <td>5.0</td>\n",
       "      <td>Гостиница</td>\n",
       "      <td>Самое лучшее место на Алтае. Всегда чисто, уют...</td>\n",
       "      <td>[Гостиница]</td>\n",
       "      <td>алтая палац</td>\n",
       "    </tr>\n",
       "    <tr>\n",
       "      <th>48526</th>\n",
       "      <td>Алтайский район, игорная зона Сибирская Монета...</td>\n",
       "      <td>Altai Palace</td>\n",
       "      <td>3.0</td>\n",
       "      <td>Гостиница</td>\n",
       "      <td>Плюсы отеля:\\n1. Хорошая детская комната. Сыну...</td>\n",
       "      <td>[Гостиница]</td>\n",
       "      <td>алтая палац</td>\n",
       "    </tr>\n",
       "    <tr>\n",
       "      <th>48527</th>\n",
       "      <td>Алтайский район, игорная зона Сибирская Монета...</td>\n",
       "      <td>Altai Palace</td>\n",
       "      <td>5.0</td>\n",
       "      <td>Гостиница</td>\n",
       "      <td>Оочень красивое место для отдыха с семьей и бе...</td>\n",
       "      <td>[Гостиница]</td>\n",
       "      <td>алтая палац</td>\n",
       "    </tr>\n",
       "  </tbody>\n",
       "</table>\n",
       "</div>"
      ],
      "text/plain": [
       "                                                 address       name_ru  \\\n",
       "48525  Алтайский район, игорная зона Сибирская Монета...  Altai Palace   \n",
       "48526  Алтайский район, игорная зона Сибирская Монета...  Altai Palace   \n",
       "48527  Алтайский район, игорная зона Сибирская Монета...  Altai Palace   \n",
       "\n",
       "       rating    rubrics                                               text  \\\n",
       "48525     5.0  Гостиница  Самое лучшее место на Алтае. Всегда чисто, уют...   \n",
       "48526     3.0  Гостиница  Плюсы отеля:\\n1. Хорошая детская комната. Сыну...   \n",
       "48527     5.0  Гостиница  Оочень красивое место для отдыха с семьей и бе...   \n",
       "\n",
       "      rubrics_list name_ru_normalized  \n",
       "48525  [Гостиница]        алтая палац  \n",
       "48526  [Гостиница]        алтая палац  \n",
       "48527  [Гостиница]        алтая палац  "
      ]
     },
     "execution_count": 410,
     "metadata": {},
     "output_type": "execute_result"
    }
   ],
   "source": [
    "df[df['name_ru'] == \"Altai Palace\"]"
   ]
  },
  {
   "cell_type": "markdown",
   "id": "5a876736",
   "metadata": {},
   "source": [
    "Понимаем, что тут не сработала транскрипция, заменим это вручную. К сожалению, отсмотреть весь датасет невозможно так, но надеемся, что большиснтво похожих ситуаций мы решили"
   ]
  },
  {
   "cell_type": "code",
   "execution_count": 411,
   "id": "0fb4492c",
   "metadata": {},
   "outputs": [],
   "source": [
    "rows_to_change = df['name_ru'] == \"Altai Palace\"\n",
    "df.loc[rows_to_change,'name_ru_normalized'] = \"алтай пэласа\""
   ]
  },
  {
   "cell_type": "markdown",
   "id": "6862ceaa",
   "metadata": {},
   "source": [
    "Теперь давайте посмотрим, насколько \"схлопнулись\" наши группы после нормализации"
   ]
  },
  {
   "cell_type": "code",
   "execution_count": 412,
   "id": "0b81260f",
   "metadata": {},
   "outputs": [
    {
     "name": "stdout",
     "output_type": "stream",
     "text": [
      "ДО нормализации:\n",
      "Количество уникальных геоточек 191925\n",
      "Количество уникальных геоточек + рубрика 273293\n",
      "Количество уникальных филиалов организаций 276871\n",
      "Количество уникальных организаций 149035\n",
      "Количество уникальных организаций с рубрикой 196591\n",
      "\n",
      "ПОСЛЕ нормализации:\n",
      "Количество уникальных геоточек 191925\n",
      "Количество уникальных геоточек + рубрика 273293\n",
      "Количество уникальных филиалов организаций 276852\n",
      "Количество уникальных организаций 140191\n",
      "Количество уникальных организаций с рубрикой 193587\n"
     ]
    }
   ],
   "source": [
    "temp_df = df.copy()\n",
    "temp_df['name_ru'] = temp_df['name_ru_normalized'] \n",
    "\n",
    "print(\"ДО нормализации:\")\n",
    "print(f'Количество уникальных геоточек {len(df.groupby('address'))}')\n",
    "print(f'Количество уникальных геоточек + рубрика {len(df.groupby(['address', 'rubrics']))}')\n",
    "print(f'Количество уникальных филиалов организаций {len(df.groupby(['address', 'rubrics', 'name_ru']))}')\n",
    "print(f'Количество уникальных организаций {len(df.groupby(['name_ru']))}')\n",
    "print(f'Количество уникальных организаций с рубрикой {len(df.groupby(['name_ru', 'rubrics']))}')\n",
    "\n",
    "\n",
    "print(\"\\nПОСЛЕ нормализации:\")\n",
    "print(f'Количество уникальных геоточек {len(temp_df.groupby('address'))}')\n",
    "print(f'Количество уникальных геоточек + рубрика {len(temp_df.groupby(['address', 'rubrics']))}')\n",
    "print(f'Количество уникальных филиалов организаций {len(temp_df.groupby(['address', 'rubrics', 'name_ru']))}')\n",
    "print(f'Количество уникальных организаций {len(temp_df.groupby(['name_ru']))}')\n",
    "print(f'Количество уникальных организаций с рубрикой {len(temp_df.groupby(['name_ru', 'rubrics']))}')"
   ]
  },
  {
   "cell_type": "markdown",
   "id": "77a50b6a",
   "metadata": {},
   "source": [
    "Итого, мы поняли, что рассматривать отзывы можем по двум сценариям:\n",
    "1. По филиалу организации - то есть идентификатор адрес+рубрики+название\n",
    "3. По сети, разделяя тип деятельности - то есть по названию и рубрики, так как названия совершенно разных организаций может дублироваться"
   ]
  },
  {
   "cell_type": "markdown",
   "id": "8674e45b",
   "metadata": {},
   "source": [
    "### Рубрики"
   ]
  },
  {
   "cell_type": "code",
   "execution_count": 413,
   "id": "fcb6e2ba",
   "metadata": {},
   "outputs": [],
   "source": [
    "df_rubrics = df.copy()\n",
    "exploded_rubrics = df_rubrics.explode('rubrics_list')"
   ]
  },
  {
   "cell_type": "markdown",
   "id": "5ef380f4",
   "metadata": {},
   "source": [
    "Посмотрим, каких рубрик больше всего"
   ]
  },
  {
   "cell_type": "code",
   "execution_count": 414,
   "id": "7936e8c9",
   "metadata": {},
   "outputs": [
    {
     "data": {
      "image/png": "[encoded data removed]",
      "text/plain": [
       "<Figure size 1200x800 with 1 Axes>"
      ]
     },
     "metadata": {},
     "output_type": "display_data"
    }
   ],
   "source": [
    "top_rubrics = exploded_rubrics['rubrics_list'].value_counts().nlargest(40)\n",
    "plt.figure(figsize=(12, 8))\n",
    "sns.barplot(y=top_rubrics.index, x=top_rubrics.values, palette='mako',  hue=top_rubrics.index)\n",
    "plt.title('Топ-20 самых частых рубрик организаций')\n",
    "plt.xlabel('Количество упоминаний в организациях')\n",
    "plt.ylabel('Рубрика')\n",
    "plt.show()"
   ]
  },
  {
   "cell_type": "markdown",
   "id": "ec2432ce",
   "metadata": {},
   "source": [
    "Наша бизнес цель связана именно с едальными организациями, поэтому оставим только те, у которых в рубриках есть Кафе, Ресторан, Бар, паб, Быстрое питание, Доставка еды и обедов, Кофейня, Пиццерия, Банкетный зал, Суши-бар, Кондитерская, Пекарня, Столовая, Кальян-бар"
   ]
  },
  {
   "cell_type": "markdown",
   "id": "a346caa9",
   "metadata": {},
   "source": [
    "И сколько их вообще может быть"
   ]
  },
  {
   "cell_type": "code",
   "execution_count": 415,
   "id": "56403e6b",
   "metadata": {},
   "outputs": [
    {
     "data": {
      "text/plain": [
       "1370"
      ]
     },
     "execution_count": 415,
     "metadata": {},
     "output_type": "execute_result"
    }
   ],
   "source": [
    "exploded_rubrics['rubrics_list'].nunique()"
   ]
  },
  {
   "cell_type": "code",
   "execution_count": 416,
   "id": "e5d99b15",
   "metadata": {},
   "outputs": [
    {
     "data": {
      "text/html": [
       "<div>\n",
       "<style scoped>\n",
       "    .dataframe tbody tr th:only-of-type {\n",
       "        vertical-align: middle;\n",
       "    }\n",
       "\n",
       "    .dataframe tbody tr th {\n",
       "        vertical-align: top;\n",
       "    }\n",
       "\n",
       "    .dataframe thead th {\n",
       "        text-align: right;\n",
       "    }\n",
       "</style>\n",
       "<table border=\"1\" class=\"dataframe\">\n",
       "  <thead>\n",
       "    <tr style=\"text-align: right;\">\n",
       "      <th></th>\n",
       "      <th>address</th>\n",
       "      <th>name_ru</th>\n",
       "      <th>rating</th>\n",
       "      <th>rubrics</th>\n",
       "      <th>text</th>\n",
       "      <th>rubrics_list</th>\n",
       "      <th>name_ru_normalized</th>\n",
       "    </tr>\n",
       "  </thead>\n",
       "  <tbody>\n",
       "    <tr>\n",
       "      <th>379180</th>\n",
       "      <td>Санкт-Петербург, Авангардная улица, 31</td>\n",
       "      <td>Street Food</td>\n",
       "      <td>1.0</td>\n",
       "      <td>Быстрое питание</td>\n",
       "      <td>Во время открытия этого заведения работал отли...</td>\n",
       "      <td>[Быстрое питание]</td>\n",
       "      <td>стреять фоод</td>\n",
       "    </tr>\n",
       "    <tr>\n",
       "      <th>214271</th>\n",
       "      <td>Нижний Новгород, улица Глеба Успенского, 16А</td>\n",
       "      <td>АНО ЦСР Территория Спорта</td>\n",
       "      <td>5.0</td>\n",
       "      <td>Спортивный клуб, секция;Спортивное объединение...</td>\n",
       "      <td>Замечательный спортивный клуб, профессиональны...</td>\n",
       "      <td>[Спортивный клуб, секция, Спортивное объединен...</td>\n",
       "      <td>ано цср территория спорт</td>\n",
       "    </tr>\n",
       "    <tr>\n",
       "      <th>9013</th>\n",
       "      <td>Республика Крым, Судак, улица Савельева, 10</td>\n",
       "      <td>Зима Лето</td>\n",
       "      <td>5.0</td>\n",
       "      <td>Гостиница</td>\n",
       "      <td>Ездим всей семьёй и 4 человек отдыхать в Судак...</td>\n",
       "      <td>[Гостиница]</td>\n",
       "      <td>зима лето</td>\n",
       "    </tr>\n",
       "    <tr>\n",
       "      <th>372145</th>\n",
       "      <td>Ярославская область, Переславль-Залесский, Пле...</td>\n",
       "      <td>Флай Улей</td>\n",
       "      <td>5.0</td>\n",
       "      <td>Кафе;Развлекательный центр</td>\n",
       "      <td>Отличное место для семейного отдыха-детям есть...</td>\n",
       "      <td>[Кафе, Развлекательный центр]</td>\n",
       "      <td>флай уля</td>\n",
       "    </tr>\n",
       "    <tr>\n",
       "      <th>71382</th>\n",
       "      <td>Санкт-Петербург, проспект Александровской Ферм...</td>\n",
       "      <td>Фаркоп.ру</td>\n",
       "      <td>5.0</td>\n",
       "      <td>Автомобильные прицепы;Автоаксессуары;Магазин а...</td>\n",
       "      <td>Поставили фаркоп на инфинити ех35. Самый бюдже...</td>\n",
       "      <td>[Автомобильные прицепы, Автоаксессуары, Магази...</td>\n",
       "      <td>фаркопра</td>\n",
       "    </tr>\n",
       "    <tr>\n",
       "      <th>210943</th>\n",
       "      <td>Ставропольский край, Пятигорск, проспект 40 ле...</td>\n",
       "      <td>Chillout lounge bar</td>\n",
       "      <td>5.0</td>\n",
       "      <td>Кальян-бар;Кафе;Ресторан</td>\n",
       "      <td>Если бы можно было, я бы поставила 10. Редко в...</td>\n",
       "      <td>[Кальян-бар, Кафе, Ресторан]</td>\n",
       "      <td>чиллоут лоунг бар</td>\n",
       "    </tr>\n",
       "    <tr>\n",
       "      <th>305573</th>\n",
       "      <td>Мурманская область, Мончегорск, проспект Киров...</td>\n",
       "      <td>Пышка</td>\n",
       "      <td>5.0</td>\n",
       "      <td>Столовая</td>\n",
       "      <td>Бываю там почти каждый день. Вкусно, чисто, пр...</td>\n",
       "      <td>[Столовая]</td>\n",
       "      <td>пышка</td>\n",
       "    </tr>\n",
       "    <tr>\n",
       "      <th>35302</th>\n",
       "      <td>Московская область, Жуковский, улица Наркомвод, 3</td>\n",
       "      <td>Международный аэропорт Жуковский, терминал А</td>\n",
       "      <td>3.0</td>\n",
       "      <td>Терминал аэропорта</td>\n",
       "      <td>Небольшой терминал, с грязными туалетами. Дьюи...</td>\n",
       "      <td>[Терминал аэропорта]</td>\n",
       "      <td>международный аэропорт жуковский терминал а</td>\n",
       "    </tr>\n",
       "    <tr>\n",
       "      <th>235858</th>\n",
       "      <td>Москва, Каширское шоссе, 61Г</td>\n",
       "      <td>Замес</td>\n",
       "      <td>5.0</td>\n",
       "      <td>Ресторан</td>\n",
       "      <td>Вежливый персонал, чисто, интересный интерьер....</td>\n",
       "      <td>[Ресторан]</td>\n",
       "      <td>замес</td>\n",
       "    </tr>\n",
       "    <tr>\n",
       "      <th>425921</th>\n",
       "      <td>Санкт-Петербург, Народная улица, 42к2</td>\n",
       "      <td>Нотариус Вострецова В. Л.</td>\n",
       "      <td>5.0</td>\n",
       "      <td>Нотариусы</td>\n",
       "      <td>Очень хорошая компания, ни разу не пожалели, ч...</td>\n",
       "      <td>[Нотариусы]</td>\n",
       "      <td>нотариус вострецов в л</td>\n",
       "    </tr>\n",
       "    <tr>\n",
       "      <th>401406</th>\n",
       "      <td>Санкт-Петербург, улица Коли Томчака, 32Б</td>\n",
       "      <td>Мастерская Абсолют</td>\n",
       "      <td>5.0</td>\n",
       "      <td>Ремонт обуви;Металлоремонт;Реставрационная мас...</td>\n",
       "      <td>Мастерская от слова \"супер\"-сделают невозможно...</td>\n",
       "      <td>[Ремонт обуви, Металлоремонт, Реставрационная ...</td>\n",
       "      <td>мастерская абсолют</td>\n",
       "    </tr>\n",
       "    <tr>\n",
       "      <th>277849</th>\n",
       "      <td>Санкт-Петербург, Новочеркасский проспект, 32, ...</td>\n",
       "      <td>Ле'муррр</td>\n",
       "      <td>5.0</td>\n",
       "      <td>Зоомагазин;Ветеринарная аптека</td>\n",
       "      <td>Забирала здесь заказик. Магазинчик маленький, ...</td>\n",
       "      <td>[Зоомагазин, Ветеринарная аптека]</td>\n",
       "      <td>лемуррра</td>\n",
       "    </tr>\n",
       "    <tr>\n",
       "      <th>23159</th>\n",
       "      <td>Ростов-на-Дону, микрорайон Рабочий Городок, ул...</td>\n",
       "      <td>Теплоэнерго</td>\n",
       "      <td>5.0</td>\n",
       "      <td>Котлы и котельное оборудование;Отопительное об...</td>\n",
       "      <td>Хорошая организация, опытные специалисты. В об...</td>\n",
       "      <td>[Котлы и котельное оборудование, Отопительное ...</td>\n",
       "      <td>теплоэнерго</td>\n",
       "    </tr>\n",
       "    <tr>\n",
       "      <th>333195</th>\n",
       "      <td>Севастополь, Античный проспект, 8В</td>\n",
       "      <td>Атмосфера</td>\n",
       "      <td>5.0</td>\n",
       "      <td>Стоматологическая клиника;Стоматологическая по...</td>\n",
       "      <td>Спасибо большое стоматологии Атмосфера. Чуткий...</td>\n",
       "      <td>[Стоматологическая клиника, Стоматологическая ...</td>\n",
       "      <td>атмосфера</td>\n",
       "    </tr>\n",
       "    <tr>\n",
       "      <th>297185</th>\n",
       "      <td>Кемерово, Базовая улица, 22, корп. 1</td>\n",
       "      <td>Баррель</td>\n",
       "      <td>4.0</td>\n",
       "      <td>АЗС</td>\n",
       "      <td>Хорошая заправка, бензин 95  после наценки 47,...</td>\n",
       "      <td>[АЗС]</td>\n",
       "      <td>баррель</td>\n",
       "    </tr>\n",
       "    <tr>\n",
       "      <th>249050</th>\n",
       "      <td>Калужская область, Жуковский район, деревня Гр...</td>\n",
       "      <td>Яхонты Таруса</td>\n",
       "      <td>5.0</td>\n",
       "      <td>Гостиница</td>\n",
       "      <td>В номерах очень уютно, чисто, комфортно, есть ...</td>\n",
       "      <td>[Гостиница]</td>\n",
       "      <td>яхонт таруса</td>\n",
       "    </tr>\n",
       "    <tr>\n",
       "      <th>390888</th>\n",
       "      <td>Ярославская область, Переславль-Залесский, ули...</td>\n",
       "      <td>Сельдь царский посол</td>\n",
       "      <td>4.0</td>\n",
       "      <td>Ресторан</td>\n",
       "      <td>Любите селедку или скумбрию? - вам точно сюда!...</td>\n",
       "      <td>[Ресторан]</td>\n",
       "      <td>сельдь царский посол</td>\n",
       "    </tr>\n",
       "    <tr>\n",
       "      <th>123595</th>\n",
       "      <td>Московская область, Мытищи, улица Селезнёва, 33</td>\n",
       "      <td>Книжный Лабиринт</td>\n",
       "      <td>1.0</td>\n",
       "      <td>Книжный магазин;Магазин канцтоваров;Учебная ли...</td>\n",
       "      <td>Сначала что понравилось: красивая выкладка кни...</td>\n",
       "      <td>[Книжный магазин, Магазин канцтоваров, Учебная...</td>\n",
       "      <td>книжный лабиринт</td>\n",
       "    </tr>\n",
       "    <tr>\n",
       "      <th>296833</th>\n",
       "      <td>Республика Карелия, Медвежьегорское городское ...</td>\n",
       "      <td>Пулемётная долговременная огневая точка</td>\n",
       "      <td>5.0</td>\n",
       "      <td>Достопримечательность</td>\n",
       "      <td>Был не однократно )))) очень интересно )))) ве...</td>\n",
       "      <td>[Достопримечательность]</td>\n",
       "      <td>пулемтный долговременный огневой точка</td>\n",
       "    </tr>\n",
       "    <tr>\n",
       "      <th>171047</th>\n",
       "      <td>Москва, улица Строителей, 11, корп. 1</td>\n",
       "      <td>КуулКлевер МясновЪ Отдохни</td>\n",
       "      <td>3.0</td>\n",
       "      <td>Магазин продуктов;Супермаркет;Магазин алкоголь...</td>\n",
       "      <td>Выбор приличный,  а вот обслуживание хромает.....</td>\n",
       "      <td>[Магазин продуктов, Супермаркет, Магазин алког...</td>\n",
       "      <td>куулклевер мясновъ отдохнуть</td>\n",
       "    </tr>\n",
       "  </tbody>\n",
       "</table>\n",
       "</div>"
      ],
      "text/plain": [
       "                                                  address  \\\n",
       "379180             Санкт-Петербург, Авангардная улица, 31   \n",
       "214271       Нижний Новгород, улица Глеба Успенского, 16А   \n",
       "9013          Республика Крым, Судак, улица Савельева, 10   \n",
       "372145  Ярославская область, Переславль-Залесский, Пле...   \n",
       "71382   Санкт-Петербург, проспект Александровской Ферм...   \n",
       "210943  Ставропольский край, Пятигорск, проспект 40 ле...   \n",
       "305573  Мурманская область, Мончегорск, проспект Киров...   \n",
       "35302   Московская область, Жуковский, улица Наркомвод, 3   \n",
       "235858                       Москва, Каширское шоссе, 61Г   \n",
       "425921              Санкт-Петербург, Народная улица, 42к2   \n",
       "401406           Санкт-Петербург, улица Коли Томчака, 32Б   \n",
       "277849  Санкт-Петербург, Новочеркасский проспект, 32, ...   \n",
       "23159   Ростов-на-Дону, микрорайон Рабочий Городок, ул...   \n",
       "333195                 Севастополь, Античный проспект, 8В   \n",
       "297185               Кемерово, Базовая улица, 22, корп. 1   \n",
       "249050  Калужская область, Жуковский район, деревня Гр...   \n",
       "390888  Ярославская область, Переславль-Залесский, ули...   \n",
       "123595    Московская область, Мытищи, улица Селезнёва, 33   \n",
       "296833  Республика Карелия, Медвежьегорское городское ...   \n",
       "171047              Москва, улица Строителей, 11, корп. 1   \n",
       "\n",
       "                                             name_ru  rating  \\\n",
       "379180                                   Street Food     1.0   \n",
       "214271                     АНО ЦСР Территория Спорта     5.0   \n",
       "9013                                       Зима Лето     5.0   \n",
       "372145                                     Флай Улей     5.0   \n",
       "71382                                      Фаркоп.ру     5.0   \n",
       "210943                           Chillout lounge bar     5.0   \n",
       "305573                                         Пышка     5.0   \n",
       "35302   Международный аэропорт Жуковский, терминал А     3.0   \n",
       "235858                                         Замес     5.0   \n",
       "425921                     Нотариус Вострецова В. Л.     5.0   \n",
       "401406                            Мастерская Абсолют     5.0   \n",
       "277849                                      Ле'муррр     5.0   \n",
       "23159                                    Теплоэнерго     5.0   \n",
       "333195                                     Атмосфера     5.0   \n",
       "297185                                       Баррель     4.0   \n",
       "249050                                 Яхонты Таруса     5.0   \n",
       "390888                          Сельдь царский посол     4.0   \n",
       "123595                              Книжный Лабиринт     1.0   \n",
       "296833       Пулемётная долговременная огневая точка     5.0   \n",
       "171047                    КуулКлевер МясновЪ Отдохни     3.0   \n",
       "\n",
       "                                                  rubrics  \\\n",
       "379180                                    Быстрое питание   \n",
       "214271  Спортивный клуб, секция;Спортивное объединение...   \n",
       "9013                                            Гостиница   \n",
       "372145                         Кафе;Развлекательный центр   \n",
       "71382   Автомобильные прицепы;Автоаксессуары;Магазин а...   \n",
       "210943                           Кальян-бар;Кафе;Ресторан   \n",
       "305573                                           Столовая   \n",
       "35302                                  Терминал аэропорта   \n",
       "235858                                           Ресторан   \n",
       "425921                                          Нотариусы   \n",
       "401406  Ремонт обуви;Металлоремонт;Реставрационная мас...   \n",
       "277849                     Зоомагазин;Ветеринарная аптека   \n",
       "23159   Котлы и котельное оборудование;Отопительное об...   \n",
       "333195  Стоматологическая клиника;Стоматологическая по...   \n",
       "297185                                                АЗС   \n",
       "249050                                          Гостиница   \n",
       "390888                                           Ресторан   \n",
       "123595  Книжный магазин;Магазин канцтоваров;Учебная ли...   \n",
       "296833                              Достопримечательность   \n",
       "171047  Магазин продуктов;Супермаркет;Магазин алкоголь...   \n",
       "\n",
       "                                                     text  \\\n",
       "379180  Во время открытия этого заведения работал отли...   \n",
       "214271  Замечательный спортивный клуб, профессиональны...   \n",
       "9013    Ездим всей семьёй и 4 человек отдыхать в Судак...   \n",
       "372145  Отличное место для семейного отдыха-детям есть...   \n",
       "71382   Поставили фаркоп на инфинити ех35. Самый бюдже...   \n",
       "210943  Если бы можно было, я бы поставила 10. Редко в...   \n",
       "305573  Бываю там почти каждый день. Вкусно, чисто, пр...   \n",
       "35302   Небольшой терминал, с грязными туалетами. Дьюи...   \n",
       "235858  Вежливый персонал, чисто, интересный интерьер....   \n",
       "425921  Очень хорошая компания, ни разу не пожалели, ч...   \n",
       "401406  Мастерская от слова \"супер\"-сделают невозможно...   \n",
       "277849  Забирала здесь заказик. Магазинчик маленький, ...   \n",
       "23159   Хорошая организация, опытные специалисты. В об...   \n",
       "333195  Спасибо большое стоматологии Атмосфера. Чуткий...   \n",
       "297185  Хорошая заправка, бензин 95  после наценки 47,...   \n",
       "249050  В номерах очень уютно, чисто, комфортно, есть ...   \n",
       "390888  Любите селедку или скумбрию? - вам точно сюда!...   \n",
       "123595  Сначала что понравилось: красивая выкладка кни...   \n",
       "296833  Был не однократно )))) очень интересно )))) ве...   \n",
       "171047  Выбор приличный,  а вот обслуживание хромает.....   \n",
       "\n",
       "                                             rubrics_list  \\\n",
       "379180                                  [Быстрое питание]   \n",
       "214271  [Спортивный клуб, секция, Спортивное объединен...   \n",
       "9013                                          [Гостиница]   \n",
       "372145                      [Кафе, Развлекательный центр]   \n",
       "71382   [Автомобильные прицепы, Автоаксессуары, Магази...   \n",
       "210943                       [Кальян-бар, Кафе, Ресторан]   \n",
       "305573                                         [Столовая]   \n",
       "35302                                [Терминал аэропорта]   \n",
       "235858                                         [Ресторан]   \n",
       "425921                                        [Нотариусы]   \n",
       "401406  [Ремонт обуви, Металлоремонт, Реставрационная ...   \n",
       "277849                  [Зоомагазин, Ветеринарная аптека]   \n",
       "23159   [Котлы и котельное оборудование, Отопительное ...   \n",
       "333195  [Стоматологическая клиника, Стоматологическая ...   \n",
       "297185                                              [АЗС]   \n",
       "249050                                        [Гостиница]   \n",
       "390888                                         [Ресторан]   \n",
       "123595  [Книжный магазин, Магазин канцтоваров, Учебная...   \n",
       "296833                            [Достопримечательность]   \n",
       "171047  [Магазин продуктов, Супермаркет, Магазин алког...   \n",
       "\n",
       "                                 name_ru_normalized  \n",
       "379180                                 стреять фоод  \n",
       "214271                     ано цср территория спорт  \n",
       "9013                                      зима лето  \n",
       "372145                                     флай уля  \n",
       "71382                                      фаркопра  \n",
       "210943                            чиллоут лоунг бар  \n",
       "305573                                        пышка  \n",
       "35302   международный аэропорт жуковский терминал а  \n",
       "235858                                        замес  \n",
       "425921                       нотариус вострецов в л  \n",
       "401406                           мастерская абсолют  \n",
       "277849                                     лемуррра  \n",
       "23159                                   теплоэнерго  \n",
       "333195                                    атмосфера  \n",
       "297185                                      баррель  \n",
       "249050                                 яхонт таруса  \n",
       "390888                         сельдь царский посол  \n",
       "123595                             книжный лабиринт  \n",
       "296833       пулемтный долговременный огневой точка  \n",
       "171047                 куулклевер мясновъ отдохнуть  "
      ]
     },
     "execution_count": 416,
     "metadata": {},
     "output_type": "execute_result"
    }
   ],
   "source": [
    "df.sample(20)"
   ]
  },
  {
   "cell_type": "markdown",
   "id": "becdbd15",
   "metadata": {},
   "source": [
    "Очень много! Но на семпле видно, что первая рубрика скорее является главное и основной, так что отделим ее как main"
   ]
  },
  {
   "cell_type": "code",
   "execution_count": 417,
   "id": "c3f7670b",
   "metadata": {},
   "outputs": [
    {
     "data": {
      "text/html": [
       "<div>\n",
       "<style scoped>\n",
       "    .dataframe tbody tr th:only-of-type {\n",
       "        vertical-align: middle;\n",
       "    }\n",
       "\n",
       "    .dataframe tbody tr th {\n",
       "        vertical-align: top;\n",
       "    }\n",
       "\n",
       "    .dataframe thead th {\n",
       "        text-align: right;\n",
       "    }\n",
       "</style>\n",
       "<table border=\"1\" class=\"dataframe\">\n",
       "  <thead>\n",
       "    <tr style=\"text-align: right;\">\n",
       "      <th></th>\n",
       "      <th>address</th>\n",
       "      <th>name_ru</th>\n",
       "      <th>rating</th>\n",
       "      <th>rubrics</th>\n",
       "      <th>text</th>\n",
       "      <th>rubrics_list</th>\n",
       "      <th>name_ru_normalized</th>\n",
       "      <th>main_rubric</th>\n",
       "    </tr>\n",
       "  </thead>\n",
       "  <tbody>\n",
       "    <tr>\n",
       "      <th>0</th>\n",
       "      <td>Екатеринбург, ул. Московская / ул. Волгоградск...</td>\n",
       "      <td>Московский квартал</td>\n",
       "      <td>3.0</td>\n",
       "      <td>Жилой комплекс</td>\n",
       "      <td>Московский квартал 2.\\nШумно : летом по ночам ...</td>\n",
       "      <td>[Жилой комплекс]</td>\n",
       "      <td>московский квартал</td>\n",
       "      <td>Жилой комплекс</td>\n",
       "    </tr>\n",
       "    <tr>\n",
       "      <th>1</th>\n",
       "      <td>Московская область, Электросталь, проспект Лен...</td>\n",
       "      <td>Продукты Ермолино</td>\n",
       "      <td>5.0</td>\n",
       "      <td>Магазин продуктов;Продукты глубокой заморозки;...</td>\n",
       "      <td>Замечательная сеть магазинов в общем, хороший ...</td>\n",
       "      <td>[Магазин продуктов, Продукты глубокой заморозк...</td>\n",
       "      <td>продукт ермолин</td>\n",
       "      <td>Магазин продуктов</td>\n",
       "    </tr>\n",
       "    <tr>\n",
       "      <th>2</th>\n",
       "      <td>Краснодар, Прикубанский внутригородской округ,...</td>\n",
       "      <td>LimeFit</td>\n",
       "      <td>1.0</td>\n",
       "      <td>Фитнес-клуб</td>\n",
       "      <td>Не знаю смутят ли кого-то данные правила, но я...</td>\n",
       "      <td>[Фитнес-клуб]</td>\n",
       "      <td>лимефита</td>\n",
       "      <td>Фитнес-клуб</td>\n",
       "    </tr>\n",
       "    <tr>\n",
       "      <th>3</th>\n",
       "      <td>Санкт-Петербург, проспект Энгельса, 111, корп. 1</td>\n",
       "      <td>Snow-Express</td>\n",
       "      <td>4.0</td>\n",
       "      <td>Пункт проката;Прокат велосипедов;Сапсёрфинг</td>\n",
       "      <td>Хорошие условия аренды. \\nДружелюбный персонал...</td>\n",
       "      <td>[Пункт проката, Прокат велосипедов, Сапсёрфинг]</td>\n",
       "      <td>сноw-еxпресс</td>\n",
       "      <td>Пункт проката</td>\n",
       "    </tr>\n",
       "    <tr>\n",
       "      <th>4</th>\n",
       "      <td>Тверь, Волоколамский проспект, 39</td>\n",
       "      <td>Студия Beauty Brow</td>\n",
       "      <td>5.0</td>\n",
       "      <td>Салон красоты;Визажисты, стилисты;Салон бровей...</td>\n",
       "      <td>Топ мастер Ангелина топ во всех смыслах ) Немн...</td>\n",
       "      <td>[Салон красоты, Визажисты, стилисты, Салон бро...</td>\n",
       "      <td>студия беаут броw</td>\n",
       "      <td>Салон красоты</td>\n",
       "    </tr>\n",
       "  </tbody>\n",
       "</table>\n",
       "</div>"
      ],
      "text/plain": [
       "                                             address             name_ru  \\\n",
       "0  Екатеринбург, ул. Московская / ул. Волгоградск...  Московский квартал   \n",
       "1  Московская область, Электросталь, проспект Лен...   Продукты Ермолино   \n",
       "2  Краснодар, Прикубанский внутригородской округ,...             LimeFit   \n",
       "3   Санкт-Петербург, проспект Энгельса, 111, корп. 1        Snow-Express   \n",
       "4                  Тверь, Волоколамский проспект, 39  Студия Beauty Brow   \n",
       "\n",
       "   rating                                            rubrics  \\\n",
       "0     3.0                                     Жилой комплекс   \n",
       "1     5.0  Магазин продуктов;Продукты глубокой заморозки;...   \n",
       "2     1.0                                        Фитнес-клуб   \n",
       "3     4.0        Пункт проката;Прокат велосипедов;Сапсёрфинг   \n",
       "4     5.0  Салон красоты;Визажисты, стилисты;Салон бровей...   \n",
       "\n",
       "                                                text  \\\n",
       "0  Московский квартал 2.\\nШумно : летом по ночам ...   \n",
       "1  Замечательная сеть магазинов в общем, хороший ...   \n",
       "2  Не знаю смутят ли кого-то данные правила, но я...   \n",
       "3  Хорошие условия аренды. \\nДружелюбный персонал...   \n",
       "4  Топ мастер Ангелина топ во всех смыслах ) Немн...   \n",
       "\n",
       "                                        rubrics_list  name_ru_normalized  \\\n",
       "0                                   [Жилой комплекс]  московский квартал   \n",
       "1  [Магазин продуктов, Продукты глубокой заморозк...     продукт ермолин   \n",
       "2                                      [Фитнес-клуб]            лимефита   \n",
       "3    [Пункт проката, Прокат велосипедов, Сапсёрфинг]        сноw-еxпресс   \n",
       "4  [Салон красоты, Визажисты, стилисты, Салон бро...   студия беаут броw   \n",
       "\n",
       "         main_rubric  \n",
       "0     Жилой комплекс  \n",
       "1  Магазин продуктов  \n",
       "2        Фитнес-клуб  \n",
       "3      Пункт проката  \n",
       "4      Салон красоты  "
      ]
     },
     "execution_count": 417,
     "metadata": {},
     "output_type": "execute_result"
    }
   ],
   "source": [
    "df_rubrics['main_rubric'] = df_rubrics['rubrics_list'].apply(lambda x: x[0])\n",
    "df_rubrics.head()"
   ]
  },
  {
   "cell_type": "code",
   "execution_count": 418,
   "id": "4033b538",
   "metadata": {},
   "outputs": [
    {
     "data": {
      "image/png": "[encoded data removed]",
      "text/plain": [
       "<Figure size 1200x800 with 1 Axes>"
      ]
     },
     "metadata": {},
     "output_type": "display_data"
    }
   ],
   "source": [
    "top_rubrics = df_rubrics['main_rubric'].value_counts().nlargest(30)\n",
    "plt.figure(figsize=(12, 8))\n",
    "sns.barplot(y=top_rubrics.index, x=top_rubrics.values, palette='mako', hue=top_rubrics.index)\n",
    "plt.title('Топ-20 самых частых рубрик организаций')\n",
    "plt.xlabel('Количество организаций')\n",
    "plt.ylabel('Рубрика')\n",
    "plt.show()"
   ]
  },
  {
   "cell_type": "markdown",
   "id": "2e69b399",
   "metadata": {},
   "source": [
    "Топ изменился. Оставим для основного датасета преобразованное поле, где будет лист рубрик и новое поле с главной рубрикой"
   ]
  },
  {
   "cell_type": "code",
   "execution_count": 419,
   "id": "2e3fcc71",
   "metadata": {},
   "outputs": [
    {
     "data": {
      "text/html": [
       "<div>\n",
       "<style scoped>\n",
       "    .dataframe tbody tr th:only-of-type {\n",
       "        vertical-align: middle;\n",
       "    }\n",
       "\n",
       "    .dataframe tbody tr th {\n",
       "        vertical-align: top;\n",
       "    }\n",
       "\n",
       "    .dataframe thead th {\n",
       "        text-align: right;\n",
       "    }\n",
       "</style>\n",
       "<table border=\"1\" class=\"dataframe\">\n",
       "  <thead>\n",
       "    <tr style=\"text-align: right;\">\n",
       "      <th></th>\n",
       "      <th>address</th>\n",
       "      <th>name_ru</th>\n",
       "      <th>rating</th>\n",
       "      <th>rubrics</th>\n",
       "      <th>text</th>\n",
       "      <th>rubrics_list</th>\n",
       "      <th>name_ru_normalized</th>\n",
       "      <th>main_rubric</th>\n",
       "    </tr>\n",
       "  </thead>\n",
       "  <tbody>\n",
       "    <tr>\n",
       "      <th>0</th>\n",
       "      <td>Екатеринбург, ул. Московская / ул. Волгоградск...</td>\n",
       "      <td>Московский квартал</td>\n",
       "      <td>3.0</td>\n",
       "      <td>Жилой комплекс</td>\n",
       "      <td>Московский квартал 2.\\nШумно : летом по ночам ...</td>\n",
       "      <td>[Жилой комплекс]</td>\n",
       "      <td>московский квартал</td>\n",
       "      <td>Жилой комплекс</td>\n",
       "    </tr>\n",
       "    <tr>\n",
       "      <th>1</th>\n",
       "      <td>Московская область, Электросталь, проспект Лен...</td>\n",
       "      <td>Продукты Ермолино</td>\n",
       "      <td>5.0</td>\n",
       "      <td>Магазин продуктов;Продукты глубокой заморозки;...</td>\n",
       "      <td>Замечательная сеть магазинов в общем, хороший ...</td>\n",
       "      <td>[Магазин продуктов, Продукты глубокой заморозк...</td>\n",
       "      <td>продукт ермолин</td>\n",
       "      <td>Магазин продуктов</td>\n",
       "    </tr>\n",
       "    <tr>\n",
       "      <th>2</th>\n",
       "      <td>Краснодар, Прикубанский внутригородской округ,...</td>\n",
       "      <td>LimeFit</td>\n",
       "      <td>1.0</td>\n",
       "      <td>Фитнес-клуб</td>\n",
       "      <td>Не знаю смутят ли кого-то данные правила, но я...</td>\n",
       "      <td>[Фитнес-клуб]</td>\n",
       "      <td>лимефита</td>\n",
       "      <td>Фитнес-клуб</td>\n",
       "    </tr>\n",
       "    <tr>\n",
       "      <th>3</th>\n",
       "      <td>Санкт-Петербург, проспект Энгельса, 111, корп. 1</td>\n",
       "      <td>Snow-Express</td>\n",
       "      <td>4.0</td>\n",
       "      <td>Пункт проката;Прокат велосипедов;Сапсёрфинг</td>\n",
       "      <td>Хорошие условия аренды. \\nДружелюбный персонал...</td>\n",
       "      <td>[Пункт проката, Прокат велосипедов, Сапсёрфинг]</td>\n",
       "      <td>сноw-еxпресс</td>\n",
       "      <td>Пункт проката</td>\n",
       "    </tr>\n",
       "    <tr>\n",
       "      <th>4</th>\n",
       "      <td>Тверь, Волоколамский проспект, 39</td>\n",
       "      <td>Студия Beauty Brow</td>\n",
       "      <td>5.0</td>\n",
       "      <td>Салон красоты;Визажисты, стилисты;Салон бровей...</td>\n",
       "      <td>Топ мастер Ангелина топ во всех смыслах ) Немн...</td>\n",
       "      <td>[Салон красоты, Визажисты, стилисты, Салон бро...</td>\n",
       "      <td>студия беаут броw</td>\n",
       "      <td>Салон красоты</td>\n",
       "    </tr>\n",
       "  </tbody>\n",
       "</table>\n",
       "</div>"
      ],
      "text/plain": [
       "                                             address             name_ru  \\\n",
       "0  Екатеринбург, ул. Московская / ул. Волгоградск...  Московский квартал   \n",
       "1  Московская область, Электросталь, проспект Лен...   Продукты Ермолино   \n",
       "2  Краснодар, Прикубанский внутригородской округ,...             LimeFit   \n",
       "3   Санкт-Петербург, проспект Энгельса, 111, корп. 1        Snow-Express   \n",
       "4                  Тверь, Волоколамский проспект, 39  Студия Beauty Brow   \n",
       "\n",
       "   rating                                            rubrics  \\\n",
       "0     3.0                                     Жилой комплекс   \n",
       "1     5.0  Магазин продуктов;Продукты глубокой заморозки;...   \n",
       "2     1.0                                        Фитнес-клуб   \n",
       "3     4.0        Пункт проката;Прокат велосипедов;Сапсёрфинг   \n",
       "4     5.0  Салон красоты;Визажисты, стилисты;Салон бровей...   \n",
       "\n",
       "                                                text  \\\n",
       "0  Московский квартал 2.\\nШумно : летом по ночам ...   \n",
       "1  Замечательная сеть магазинов в общем, хороший ...   \n",
       "2  Не знаю смутят ли кого-то данные правила, но я...   \n",
       "3  Хорошие условия аренды. \\nДружелюбный персонал...   \n",
       "4  Топ мастер Ангелина топ во всех смыслах ) Немн...   \n",
       "\n",
       "                                        rubrics_list  name_ru_normalized  \\\n",
       "0                                   [Жилой комплекс]  московский квартал   \n",
       "1  [Магазин продуктов, Продукты глубокой заморозк...     продукт ермолин   \n",
       "2                                      [Фитнес-клуб]            лимефита   \n",
       "3    [Пункт проката, Прокат велосипедов, Сапсёрфинг]        сноw-еxпресс   \n",
       "4  [Салон красоты, Визажисты, стилисты, Салон бро...   студия беаут броw   \n",
       "\n",
       "         main_rubric  \n",
       "0     Жилой комплекс  \n",
       "1  Магазин продуктов  \n",
       "2        Фитнес-клуб  \n",
       "3      Пункт проката  \n",
       "4      Салон красоты  "
      ]
     },
     "execution_count": 419,
     "metadata": {},
     "output_type": "execute_result"
    }
   ],
   "source": [
    "df['main_rubric'] = df['rubrics_list'].apply(lambda x: x[0])\n",
    "df.head()"
   ]
  },
  {
   "cell_type": "markdown",
   "id": "03f41944",
   "metadata": {},
   "source": [
    "А также оставим только те организации, кооторые считаются едальными"
   ]
  },
  {
   "cell_type": "code",
   "execution_count": 420,
   "id": "4ffd32f0",
   "metadata": {},
   "outputs": [],
   "source": [
    "eda_orgs = [\"Кафе\", \"Ресторан\", \"Бар, паб\", \"Быстрое питание\", \"Доставка еды и обедов\", \"Кофейня\", \"Пиццерия\", \"Банкетный зал\", \"Суши-бар\", \"Кондитерская\", \"Пекарня\", \"Столовая\", \"Кальян-бар\"]\n",
    "search_pattern = '|'.join([re.escape(rubric) for rubric in eda_orgs])\n",
    "mask = df['rubrics'].str.contains(search_pattern)\n",
    "df_new = df[mask].copy()"
   ]
  },
  {
   "cell_type": "code",
   "execution_count": 421,
   "id": "738c510e",
   "metadata": {},
   "outputs": [
    {
     "data": {
      "text/plain": [
       "(122632, 8)"
      ]
     },
     "execution_count": 421,
     "metadata": {},
     "output_type": "execute_result"
    }
   ],
   "source": [
    "df_new.shape"
   ]
  },
  {
   "cell_type": "markdown",
   "id": "c8ae5ec0",
   "metadata": {},
   "source": [
    "Осталось 122 632 отзывово"
   ]
  },
  {
   "cell_type": "markdown",
   "id": "d383b7ea",
   "metadata": {},
   "source": [
    "И ради интереса посмотри на наши группировки организаций"
   ]
  },
  {
   "cell_type": "code",
   "execution_count": 422,
   "id": "c0167876",
   "metadata": {},
   "outputs": [
    {
     "name": "stdout",
     "output_type": "stream",
     "text": [
      "ДО нормализации:\n",
      "Количество уникальных геоточек 43353\n",
      "Количество уникальных геоточек + рубрика 51843\n",
      "Количество уникальных филиалов организаций 52691\n",
      "Количество уникальных организаций 29314\n",
      "Количество уникальных организаций с рубрикой 39811\n",
      "\n",
      "С главной рубрикой:\n",
      "Количество уникальных геоточек 43353\n",
      "Количество уникальных геоточек + рубрика 49891\n",
      "Количество уникальных филиалов организаций 52651\n",
      "Количество уникальных организаций 27156\n",
      "Количество уникальных организаций с рубрикой 32496\n"
     ]
    }
   ],
   "source": [
    "print(\"ДО нормализации:\")\n",
    "print(f'Количество уникальных геоточек {len(df_new.groupby('address'))}')\n",
    "print(f'Количество уникальных геоточек + рубрика {len(df_new.groupby(['address', 'rubrics']))}')\n",
    "print(f'Количество уникальных филиалов организаций {len(df_new.groupby(['address', 'rubrics', 'name_ru']))}')\n",
    "print(f'Количество уникальных организаций {len(df_new.groupby(['name_ru']))}')\n",
    "print(f'Количество уникальных организаций с рубрикой {len(df_new.groupby(['name_ru', 'rubrics']))}')\n",
    "\n",
    "print(\"\\nС главной рубрикой:\")\n",
    "print(f'Количество уникальных геоточек {len(df_new.groupby('address'))}')\n",
    "print(f'Количество уникальных геоточек + рубрика {len(df_new.groupby(['address', 'main_rubric']))}')\n",
    "print(f'Количество уникальных филиалов организаций {len(df_new.groupby(['address', 'main_rubric', 'name_ru_normalized']))}')\n",
    "print(f'Количество уникальных организаций {len(df_new.groupby(['name_ru_normalized']))}')\n",
    "print(f'Количество уникальных организаций с рубрикой {len(df_new.groupby(['name_ru_normalized', 'main_rubric']))}')\n"
   ]
  },
  {
   "cell_type": "markdown",
   "id": "ce63d5ad",
   "metadata": {},
   "source": [
    "Посмотрим, где одиннаковые названия, но разные рубрики"
   ]
  },
  {
   "cell_type": "code",
   "execution_count": 423,
   "id": "7973066a",
   "metadata": {},
   "outputs": [
    {
     "name": "stdout",
     "output_type": "stream",
     "text": [
      "буханка\n"
     ]
    },
    {
     "data": {
      "text/plain": [
       "array(['Кафе;Пекарня;Кофейня', 'Пекарня', 'Пекарня;Кафе',\n",
       "       'Кофейня;Пекарня;Кофе с собой', 'Кафе', 'Пекарня;Кафе;Кофейня',\n",
       "       'Кондитерская;Пекарня;Кафе;Ресторан', 'Кафе;Пекарня;Кофе с собой',\n",
       "       'Пекарня;Кафе;Кофе с собой', 'Кафе;Пекарня',\n",
       "       'Пекарня;Кондитерская;Кофейня', 'Пекарня;Быстрое питание;Кофейня',\n",
       "       'Пекарня;Кафе;Магазин продуктов;Кондитерская',\n",
       "       'Пекарня;Кофе с собой', 'Пекарня;Кофейня',\n",
       "       'Пекарня;Кафе;Магазин продуктов', 'Пекарня;Кондитерская',\n",
       "       'Пекарня;Кофейня;Кофе с собой', 'Кофейня',\n",
       "       'Кафе;Пекарня;Кондитерская', 'Кофейня;Пекарня',\n",
       "       'Пекарня;Кафе;Кондитерская', 'Пекарня;Магазин продуктов;Кофейня',\n",
       "       'Кофейня;Пекарня;Кафе;Кофе с собой', 'Пекарня;Магазин продуктов',\n",
       "       'Кафе;Пекарня;Ресторан', 'Пекарня;Магазин продуктов;Кофе с собой',\n",
       "       'Кофейня;Пекарня;Мороженое', 'Пекарня;Кафе;Кондитерская;Кофейня',\n",
       "       'Пекарня;Кафе;Ресторан;Кондитерская'], dtype=object)"
      ]
     },
     "execution_count": 423,
     "metadata": {},
     "output_type": "execute_result"
    }
   ],
   "source": [
    "multi_profile_orgs = df_new.groupby('name_ru_normalized')['rubrics'].nunique()\n",
    "multi_profile_orgs = multi_profile_orgs[multi_profile_orgs > 1]\n",
    "multi_profile_orgs = multi_profile_orgs.sort_values(ascending=False)\n",
    "top_name = multi_profile_orgs.head(1).index\n",
    "\n",
    "org_df = df_new[df_new['name_ru_normalized'] == top_name[0]]\n",
    "print(top_name[0])\n",
    "org_df['rubrics'].unique()"
   ]
  },
  {
   "cell_type": "code",
   "execution_count": 424,
   "id": "429de869",
   "metadata": {},
   "outputs": [
    {
     "name": "stdout",
     "output_type": "stream",
     "text": [
      "('моуса хоуса', 'Санкт-Петербург, улица Академика Павлова, 5')\n"
     ]
    },
    {
     "data": {
      "text/plain": [
       "array(['Ресторан;Развлекательный центр',\n",
       "       'Развлекательный центр;Ресторан;Детская площадка', 'Ресторан'],\n",
       "      dtype=object)"
      ]
     },
     "execution_count": 424,
     "metadata": {},
     "output_type": "execute_result"
    }
   ],
   "source": [
    "multi_profile_orgs = df_new.groupby(['name_ru_normalized', 'address'])['rubrics'].nunique()\n",
    "multi_profile_orgs = multi_profile_orgs[multi_profile_orgs > 1]\n",
    "multi_profile_orgs = multi_profile_orgs.sort_values(ascending=False)\n",
    "top_name = multi_profile_orgs.head(1).index\n",
    "\n",
    "org_df = df_new[df_new['name_ru_normalized'] == top_name[0][0]]\n",
    "print(top_name[0])\n",
    "org_df['rubrics'].unique()"
   ]
  },
  {
   "cell_type": "markdown",
   "id": "278311f7",
   "metadata": {},
   "source": [
    "Итого именно для едален не стоит брать главную рубрику, но для сетей по-другому никак не уберешь условие с тем, что две разных орги могут иметь абсолютно одиннаковые орги"
   ]
  },
  {
   "cell_type": "markdown",
   "id": "0026596a",
   "metadata": {},
   "source": [
    "### Рейтинг"
   ]
  },
  {
   "cell_type": "code",
   "execution_count": 425,
   "id": "8ee139e2",
   "metadata": {},
   "outputs": [
    {
     "data": {
      "text/plain": [
       "count    122632.000000\n",
       "mean          4.420559\n",
       "std           1.183983\n",
       "min           0.000000\n",
       "25%           5.000000\n",
       "50%           5.000000\n",
       "75%           5.000000\n",
       "max           5.000000\n",
       "Name: rating, dtype: float64"
      ]
     },
     "execution_count": 425,
     "metadata": {},
     "output_type": "execute_result"
    }
   ],
   "source": [
    "df_new['rating'].describe()"
   ]
  },
  {
   "cell_type": "markdown",
   "id": "c80e5af8",
   "metadata": {},
   "source": [
    "Видим, что большинство оценок положительного характера и при обучении стоит учесть дисбаланс классов"
   ]
  },
  {
   "cell_type": "code",
   "execution_count": 426,
   "id": "b506d27b",
   "metadata": {},
   "outputs": [
    {
     "data": {
      "image/png": "[encoded data removed]",
      "text/plain": [
       "<Figure size 1000x600 with 1 Axes>"
      ]
     },
     "metadata": {},
     "output_type": "display_data"
    }
   ],
   "source": [
    "plt.figure(figsize=(10, 6))\n",
    "sns.countplot(x='rating', data=df_new, palette='viridis', hue='rating', legend=False)\n",
    "plt.title('Распределение оценок пользователей')\n",
    "plt.xlabel('Оценка')\n",
    "plt.ylabel('Количество отзывов')\n",
    "plt.show()"
   ]
  },
  {
   "cell_type": "markdown",
   "id": "b8a11af1",
   "metadata": {},
   "source": [
    "### Идентификаторы"
   ]
  },
  {
   "cell_type": "markdown",
   "id": "83867114",
   "metadata": {},
   "source": [
    "Итого, решаем так, что:\n",
    "* Организация (organization_id): Конкретный физический филиал. Его уникальность определяется местом, названием и типом деятельности. - тип деятельности можно удалить, так как две едальные организации с одиннаковым названием в одном доме звучит странно. Раньше мы решали проблему многопрофильных организаций\n",
    "* Сеть (chain_id): Бренд или бизнес-направление. Уникальность определяется названием и типом деятельности, вне зависимости от местоположения.\n",
    "\n",
    "Где тип деятельности будем брать как главную рубрику"
   ]
  },
  {
   "cell_type": "code",
   "execution_count": 429,
   "id": "4ce4f342",
   "metadata": {},
   "outputs": [
    {
     "name": "stdout",
     "output_type": "stream",
     "text": [
      "\n",
      "Итог:\n",
      "Создано 52598 уникальных идентификаторов организаций (филиалов)\n",
      "Создано 32496 уникальных идентификаторов сетей (брендов/бизнес-направлений)\n"
     ]
    }
   ],
   "source": [
    "df_new['organization_id'] = df_new['address'] + '|' + df_new['name_ru_normalized']\n",
    "df_new['chain_id'] = df_new['main_rubric'] + '|' + df_new['name_ru_normalized']\n",
    "\n",
    "df_new['organization_id'] = pd.factorize(df_new['organization_id'])[0]\n",
    "df_new['chain_id'] = pd.factorize(df_new['chain_id'])[0]\n",
    "\n",
    "num_orgs = df_new['organization_id'].nunique()\n",
    "num_chains = df_new['chain_id'].nunique()\n",
    "\n",
    "print(f\"\\nИтог:\")\n",
    "print(f\"Создано {num_orgs} уникальных идентификаторов организаций (филиалов)\")\n",
    "print(f\"Создано {num_chains} уникальных идентификаторов сетей (брендов/бизнес-направлений)\")"
   ]
  },
  {
   "cell_type": "code",
   "execution_count": 431,
   "id": "18976e04",
   "metadata": {},
   "outputs": [
    {
     "data": {
      "text/html": [
       "<div>\n",
       "<style scoped>\n",
       "    .dataframe tbody tr th:only-of-type {\n",
       "        vertical-align: middle;\n",
       "    }\n",
       "\n",
       "    .dataframe tbody tr th {\n",
       "        vertical-align: top;\n",
       "    }\n",
       "\n",
       "    .dataframe thead th {\n",
       "        text-align: right;\n",
       "    }\n",
       "</style>\n",
       "<table border=\"1\" class=\"dataframe\">\n",
       "  <thead>\n",
       "    <tr style=\"text-align: right;\">\n",
       "      <th></th>\n",
       "      <th>address</th>\n",
       "      <th>name_ru</th>\n",
       "      <th>rating</th>\n",
       "      <th>rubrics</th>\n",
       "      <th>text</th>\n",
       "      <th>rubrics_list</th>\n",
       "      <th>name_ru_normalized</th>\n",
       "      <th>main_rubric</th>\n",
       "      <th>organization_id</th>\n",
       "      <th>chain_id</th>\n",
       "    </tr>\n",
       "  </thead>\n",
       "  <tbody>\n",
       "    <tr>\n",
       "      <th>6</th>\n",
       "      <td>Воронежская область, Богучарский район, М-4 До...</td>\n",
       "      <td>У тещи</td>\n",
       "      <td>4.0</td>\n",
       "      <td>Кафе</td>\n",
       "      <td>Глубинка страны во всех своих проявлениях. Асс...</td>\n",
       "      <td>[Кафе]</td>\n",
       "      <td>у теща</td>\n",
       "      <td>Кафе</td>\n",
       "      <td>0</td>\n",
       "      <td>0</td>\n",
       "    </tr>\n",
       "    <tr>\n",
       "      <th>8</th>\n",
       "      <td>Москва, 4-й Кожевнический переулок, 4</td>\n",
       "      <td>Jinju</td>\n",
       "      <td>5.0</td>\n",
       "      <td>Кафе;Кофейня</td>\n",
       "      <td>5 из 5🖤 Пил кофе и в Риме, и в  Париже, но вку...</td>\n",
       "      <td>[Кафе, Кофейня]</td>\n",
       "      <td>йиня</td>\n",
       "      <td>Кафе</td>\n",
       "      <td>1</td>\n",
       "      <td>1</td>\n",
       "    </tr>\n",
       "    <tr>\n",
       "      <th>9</th>\n",
       "      <td>Москва, 4-й Кожевнический переулок, 4</td>\n",
       "      <td>Jinju</td>\n",
       "      <td>4.0</td>\n",
       "      <td>Кафе;Кофейня</td>\n",
       "      <td>Не очень удобное расположение, от метро идти м...</td>\n",
       "      <td>[Кафе, Кофейня]</td>\n",
       "      <td>йиня</td>\n",
       "      <td>Кафе</td>\n",
       "      <td>1</td>\n",
       "      <td>1</td>\n",
       "    </tr>\n",
       "    <tr>\n",
       "      <th>12</th>\n",
       "      <td>Кемерово, проспект Ленина, 59А</td>\n",
       "      <td>Прованс</td>\n",
       "      <td>5.0</td>\n",
       "      <td>Кондитерская</td>\n",
       "      <td>Вкусное место в центре города.  Разнообразное ...</td>\n",
       "      <td>[Кондитерская]</td>\n",
       "      <td>прованс</td>\n",
       "      <td>Кондитерская</td>\n",
       "      <td>2</td>\n",
       "      <td>2</td>\n",
       "    </tr>\n",
       "    <tr>\n",
       "      <th>13</th>\n",
       "      <td>Краснодарский край, городской округ Сочи, посё...</td>\n",
       "      <td>Пандок</td>\n",
       "      <td>2.0</td>\n",
       "      <td>Ресторан</td>\n",
       "      <td>Самый большой плюс это месторасположение, набе...</td>\n",
       "      <td>[Ресторан]</td>\n",
       "      <td>пандок</td>\n",
       "      <td>Ресторан</td>\n",
       "      <td>3</td>\n",
       "      <td>3</td>\n",
       "    </tr>\n",
       "  </tbody>\n",
       "</table>\n",
       "</div>"
      ],
      "text/plain": [
       "                                              address  name_ru  rating  \\\n",
       "6   Воронежская область, Богучарский район, М-4 До...   У тещи     4.0   \n",
       "8               Москва, 4-й Кожевнический переулок, 4    Jinju     5.0   \n",
       "9               Москва, 4-й Кожевнический переулок, 4    Jinju     4.0   \n",
       "12                     Кемерово, проспект Ленина, 59А  Прованс     5.0   \n",
       "13  Краснодарский край, городской округ Сочи, посё...   Пандок     2.0   \n",
       "\n",
       "         rubrics                                               text  \\\n",
       "6           Кафе  Глубинка страны во всех своих проявлениях. Асс...   \n",
       "8   Кафе;Кофейня  5 из 5🖤 Пил кофе и в Риме, и в  Париже, но вку...   \n",
       "9   Кафе;Кофейня  Не очень удобное расположение, от метро идти м...   \n",
       "12  Кондитерская  Вкусное место в центре города.  Разнообразное ...   \n",
       "13      Ресторан  Самый большой плюс это месторасположение, набе...   \n",
       "\n",
       "       rubrics_list name_ru_normalized   main_rubric  organization_id  \\\n",
       "6            [Кафе]             у теща          Кафе                0   \n",
       "8   [Кафе, Кофейня]               йиня          Кафе                1   \n",
       "9   [Кафе, Кофейня]               йиня          Кафе                1   \n",
       "12   [Кондитерская]            прованс  Кондитерская                2   \n",
       "13       [Ресторан]             пандок      Ресторан                3   \n",
       "\n",
       "    chain_id  \n",
       "6          0  \n",
       "8          1  \n",
       "9          1  \n",
       "12         2  \n",
       "13         3  "
      ]
     },
     "execution_count": 431,
     "metadata": {},
     "output_type": "execute_result"
    }
   ],
   "source": [
    "df_new.head()"
   ]
  },
  {
   "cell_type": "markdown",
   "id": "f852a66f",
   "metadata": {},
   "source": [
    "Посмотрим на самые крупные сети по количеству филиалов"
   ]
  },
  {
   "cell_type": "code",
   "execution_count": 434,
   "id": "b669f819",
   "metadata": {},
   "outputs": [
    {
     "data": {
      "text/html": [
       "<div>\n",
       "<style scoped>\n",
       "    .dataframe tbody tr th:only-of-type {\n",
       "        vertical-align: middle;\n",
       "    }\n",
       "\n",
       "    .dataframe tbody tr th {\n",
       "        vertical-align: top;\n",
       "    }\n",
       "\n",
       "    .dataframe thead th {\n",
       "        text-align: right;\n",
       "    }\n",
       "</style>\n",
       "<table border=\"1\" class=\"dataframe\">\n",
       "  <thead>\n",
       "    <tr style=\"text-align: right;\">\n",
       "      <th></th>\n",
       "      <th>chain_id</th>\n",
       "      <th>name_ru</th>\n",
       "      <th>name_ru_normalized</th>\n",
       "      <th>main_rubric</th>\n",
       "      <th>chain_size</th>\n",
       "    </tr>\n",
       "  </thead>\n",
       "  <tbody>\n",
       "    <tr>\n",
       "      <th>636</th>\n",
       "      <td>100</td>\n",
       "      <td>Вкусно — и точка</td>\n",
       "      <td>вкусно и точка</td>\n",
       "      <td>Быстрое питание</td>\n",
       "      <td>541</td>\n",
       "    </tr>\n",
       "    <tr>\n",
       "      <th>799</th>\n",
       "      <td>116</td>\n",
       "      <td>KFC</td>\n",
       "      <td>кфц</td>\n",
       "      <td>Быстрое питание</td>\n",
       "      <td>443</td>\n",
       "    </tr>\n",
       "    <tr>\n",
       "      <th>320</th>\n",
       "      <td>49</td>\n",
       "      <td>Додо Пицца</td>\n",
       "      <td>додый пицца</td>\n",
       "      <td>Пиццерия</td>\n",
       "      <td>384</td>\n",
       "    </tr>\n",
       "    <tr>\n",
       "      <th>1334</th>\n",
       "      <td>167</td>\n",
       "      <td>Столовая</td>\n",
       "      <td>столовая</td>\n",
       "      <td>Столовая</td>\n",
       "      <td>356</td>\n",
       "    </tr>\n",
       "    <tr>\n",
       "      <th>661</th>\n",
       "      <td>103</td>\n",
       "      <td>Бургер Кинг</td>\n",
       "      <td>бургер кинг</td>\n",
       "      <td>Быстрое питание</td>\n",
       "      <td>346</td>\n",
       "    </tr>\n",
       "    <tr>\n",
       "      <th>529</th>\n",
       "      <td>84</td>\n",
       "      <td>Кафе</td>\n",
       "      <td>кафе</td>\n",
       "      <td>Кафе</td>\n",
       "      <td>205</td>\n",
       "    </tr>\n",
       "    <tr>\n",
       "      <th>8919</th>\n",
       "      <td>646</td>\n",
       "      <td>Вкусно — и точка. Авто</td>\n",
       "      <td>вкусно и точка авто</td>\n",
       "      <td>Быстрое питание</td>\n",
       "      <td>165</td>\n",
       "    </tr>\n",
       "    <tr>\n",
       "      <th>846</th>\n",
       "      <td>121</td>\n",
       "      <td>Шаурма</td>\n",
       "      <td>шаурма</td>\n",
       "      <td>Быстрое питание</td>\n",
       "      <td>153</td>\n",
       "    </tr>\n",
       "    <tr>\n",
       "      <th>11556</th>\n",
       "      <td>884</td>\n",
       "      <td>Мята Lounge</td>\n",
       "      <td>мятый лоунг</td>\n",
       "      <td>Кальян-бар</td>\n",
       "      <td>128</td>\n",
       "    </tr>\n",
       "    <tr>\n",
       "      <th>4081</th>\n",
       "      <td>317</td>\n",
       "      <td>Шоколадница</td>\n",
       "      <td>шоколадница</td>\n",
       "      <td>Кофейня</td>\n",
       "      <td>123</td>\n",
       "    </tr>\n",
       "  </tbody>\n",
       "</table>\n",
       "</div>"
      ],
      "text/plain": [
       "       chain_id                 name_ru   name_ru_normalized      main_rubric  \\\n",
       "636         100        Вкусно — и точка       вкусно и точка  Быстрое питание   \n",
       "799         116                     KFC                  кфц  Быстрое питание   \n",
       "320          49              Додо Пицца          додый пицца         Пиццерия   \n",
       "1334        167                Столовая             столовая         Столовая   \n",
       "661         103             Бургер Кинг          бургер кинг  Быстрое питание   \n",
       "529          84                    Кафе                 кафе             Кафе   \n",
       "8919        646  Вкусно — и точка. Авто  вкусно и точка авто  Быстрое питание   \n",
       "846         121                  Шаурма               шаурма  Быстрое питание   \n",
       "11556       884             Мята Lounge          мятый лоунг       Кальян-бар   \n",
       "4081        317             Шоколадница          шоколадница          Кофейня   \n",
       "\n",
       "       chain_size  \n",
       "636           541  \n",
       "799           443  \n",
       "320           384  \n",
       "1334          356  \n",
       "661           346  \n",
       "529           205  \n",
       "8919          165  \n",
       "846           153  \n",
       "11556         128  \n",
       "4081          123  "
      ]
     },
     "execution_count": 434,
     "metadata": {},
     "output_type": "execute_result"
    }
   ],
   "source": [
    "df_new['chain_size'] = df_new.groupby('chain_id')['organization_id'].transform('nunique')\n",
    "top_chains_df = df_new[['chain_id', 'name_ru', 'name_ru_normalized', 'main_rubric', 'chain_size']].drop_duplicates(subset=['chain_id'])\n",
    "\n",
    "top_chains_df.sort_values(by='chain_size', ascending=False).head(10)"
   ]
  },
  {
   "cell_type": "markdown",
   "id": "eeaa7d05",
   "metadata": {},
   "source": [
    "Теперь для анализа полседующего еще добавим столбец количества отзывов по сети и организации, пока не будем удалять те, где всего 1 штука, вдруг пригодятся, просто пометим их"
   ]
  },
  {
   "cell_type": "code",
   "execution_count": 435,
   "id": "779f925e",
   "metadata": {},
   "outputs": [
    {
     "data": {
      "text/html": [
       "<div>\n",
       "<style scoped>\n",
       "    .dataframe tbody tr th:only-of-type {\n",
       "        vertical-align: middle;\n",
       "    }\n",
       "\n",
       "    .dataframe tbody tr th {\n",
       "        vertical-align: top;\n",
       "    }\n",
       "\n",
       "    .dataframe thead th {\n",
       "        text-align: right;\n",
       "    }\n",
       "</style>\n",
       "<table border=\"1\" class=\"dataframe\">\n",
       "  <thead>\n",
       "    <tr style=\"text-align: right;\">\n",
       "      <th></th>\n",
       "      <th>address</th>\n",
       "      <th>name_ru</th>\n",
       "      <th>rating</th>\n",
       "      <th>rubrics</th>\n",
       "      <th>text</th>\n",
       "      <th>rubrics_list</th>\n",
       "      <th>name_ru_normalized</th>\n",
       "      <th>main_rubric</th>\n",
       "      <th>organization_id</th>\n",
       "      <th>chain_id</th>\n",
       "      <th>chain_size</th>\n",
       "      <th>reviews_per_organization</th>\n",
       "      <th>reviews_per_chain</th>\n",
       "    </tr>\n",
       "  </thead>\n",
       "  <tbody>\n",
       "    <tr>\n",
       "      <th>6</th>\n",
       "      <td>Воронежская область, Богучарский район, М-4 До...</td>\n",
       "      <td>У тещи</td>\n",
       "      <td>4.0</td>\n",
       "      <td>Кафе</td>\n",
       "      <td>Глубинка страны во всех своих проявлениях. Асс...</td>\n",
       "      <td>[Кафе]</td>\n",
       "      <td>у теща</td>\n",
       "      <td>Кафе</td>\n",
       "      <td>0</td>\n",
       "      <td>0</td>\n",
       "      <td>1</td>\n",
       "      <td>1</td>\n",
       "      <td>1</td>\n",
       "    </tr>\n",
       "    <tr>\n",
       "      <th>8</th>\n",
       "      <td>Москва, 4-й Кожевнический переулок, 4</td>\n",
       "      <td>Jinju</td>\n",
       "      <td>5.0</td>\n",
       "      <td>Кафе;Кофейня</td>\n",
       "      <td>5 из 5🖤 Пил кофе и в Риме, и в  Париже, но вку...</td>\n",
       "      <td>[Кафе, Кофейня]</td>\n",
       "      <td>йиня</td>\n",
       "      <td>Кафе</td>\n",
       "      <td>1</td>\n",
       "      <td>1</td>\n",
       "      <td>1</td>\n",
       "      <td>2</td>\n",
       "      <td>2</td>\n",
       "    </tr>\n",
       "    <tr>\n",
       "      <th>9</th>\n",
       "      <td>Москва, 4-й Кожевнический переулок, 4</td>\n",
       "      <td>Jinju</td>\n",
       "      <td>4.0</td>\n",
       "      <td>Кафе;Кофейня</td>\n",
       "      <td>Не очень удобное расположение, от метро идти м...</td>\n",
       "      <td>[Кафе, Кофейня]</td>\n",
       "      <td>йиня</td>\n",
       "      <td>Кафе</td>\n",
       "      <td>1</td>\n",
       "      <td>1</td>\n",
       "      <td>1</td>\n",
       "      <td>2</td>\n",
       "      <td>2</td>\n",
       "    </tr>\n",
       "    <tr>\n",
       "      <th>12</th>\n",
       "      <td>Кемерово, проспект Ленина, 59А</td>\n",
       "      <td>Прованс</td>\n",
       "      <td>5.0</td>\n",
       "      <td>Кондитерская</td>\n",
       "      <td>Вкусное место в центре города.  Разнообразное ...</td>\n",
       "      <td>[Кондитерская]</td>\n",
       "      <td>прованс</td>\n",
       "      <td>Кондитерская</td>\n",
       "      <td>2</td>\n",
       "      <td>2</td>\n",
       "      <td>1</td>\n",
       "      <td>1</td>\n",
       "      <td>1</td>\n",
       "    </tr>\n",
       "    <tr>\n",
       "      <th>13</th>\n",
       "      <td>Краснодарский край, городской округ Сочи, посё...</td>\n",
       "      <td>Пандок</td>\n",
       "      <td>2.0</td>\n",
       "      <td>Ресторан</td>\n",
       "      <td>Самый большой плюс это месторасположение, набе...</td>\n",
       "      <td>[Ресторан]</td>\n",
       "      <td>пандок</td>\n",
       "      <td>Ресторан</td>\n",
       "      <td>3</td>\n",
       "      <td>3</td>\n",
       "      <td>1</td>\n",
       "      <td>2</td>\n",
       "      <td>2</td>\n",
       "    </tr>\n",
       "  </tbody>\n",
       "</table>\n",
       "</div>"
      ],
      "text/plain": [
       "                                              address  name_ru  rating  \\\n",
       "6   Воронежская область, Богучарский район, М-4 До...   У тещи     4.0   \n",
       "8               Москва, 4-й Кожевнический переулок, 4    Jinju     5.0   \n",
       "9               Москва, 4-й Кожевнический переулок, 4    Jinju     4.0   \n",
       "12                     Кемерово, проспект Ленина, 59А  Прованс     5.0   \n",
       "13  Краснодарский край, городской округ Сочи, посё...   Пандок     2.0   \n",
       "\n",
       "         rubrics                                               text  \\\n",
       "6           Кафе  Глубинка страны во всех своих проявлениях. Асс...   \n",
       "8   Кафе;Кофейня  5 из 5🖤 Пил кофе и в Риме, и в  Париже, но вку...   \n",
       "9   Кафе;Кофейня  Не очень удобное расположение, от метро идти м...   \n",
       "12  Кондитерская  Вкусное место в центре города.  Разнообразное ...   \n",
       "13      Ресторан  Самый большой плюс это месторасположение, набе...   \n",
       "\n",
       "       rubrics_list name_ru_normalized   main_rubric  organization_id  \\\n",
       "6            [Кафе]             у теща          Кафе                0   \n",
       "8   [Кафе, Кофейня]               йиня          Кафе                1   \n",
       "9   [Кафе, Кофейня]               йиня          Кафе                1   \n",
       "12   [Кондитерская]            прованс  Кондитерская                2   \n",
       "13       [Ресторан]             пандок      Ресторан                3   \n",
       "\n",
       "    chain_id  chain_size  reviews_per_organization  reviews_per_chain  \n",
       "6          0           1                         1                  1  \n",
       "8          1           1                         2                  2  \n",
       "9          1           1                         2                  2  \n",
       "12         2           1                         1                  1  \n",
       "13         3           1                         2                  2  "
      ]
     },
     "execution_count": 435,
     "metadata": {},
     "output_type": "execute_result"
    }
   ],
   "source": [
    "df_new['reviews_per_organization'] = df_new.groupby('organization_id')['rating'].transform('count')\n",
    "df_new['reviews_per_chain'] = df_new.groupby('chain_id')['rating'].transform('count')\n",
    "df_new.head()"
   ]
  },
  {
   "cell_type": "code",
   "execution_count": 436,
   "id": "82e03e35",
   "metadata": {},
   "outputs": [
    {
     "name": "stdout",
     "output_type": "stream",
     "text": [
      "Всего уникальных филиалов: 52598\n",
      "Из них с 1 отзывом: 29885\n",
      "Доля филиалов с 1 отзывом: 56.82%\n"
     ]
    }
   ],
   "source": [
    "single_review_orgs_count = df_new[df_new['reviews_per_organization'] == 1]['organization_id'].nunique()\n",
    "total_orgs_count = df_new['organization_id'].nunique()\n",
    "percentage_orgs = (single_review_orgs_count / total_orgs_count) * 100\n",
    "\n",
    "print(f\"Всего уникальных филиалов: {total_orgs_count}\")\n",
    "print(f\"Из них с 1 отзывом: {single_review_orgs_count}\")\n",
    "print(f\"Доля филиалов с 1 отзывом: {percentage_orgs:.2f}%\")"
   ]
  },
  {
   "cell_type": "code",
   "execution_count": 443,
   "id": "14f7200a",
   "metadata": {},
   "outputs": [
    {
     "name": "stdout",
     "output_type": "stream",
     "text": [
      "\n",
      "Всего уникальных сетей: 32496\n",
      "Из них с 1 отзывом: 15555\n",
      "Доля сетей с 1 отзывом: 47.87%\n"
     ]
    }
   ],
   "source": [
    "single_review_chains_count = df_new[df_new['reviews_per_chain'] == 1]['chain_id'].nunique()\n",
    "total_chains_count = df_new['chain_id'].nunique()\n",
    "percentage_chains = (single_review_chains_count / total_chains_count) * 100\n",
    "\n",
    "print(f\"\\nВсего уникальных сетей: {total_chains_count}\")\n",
    "print(f\"Из них с 1 отзывом: {single_review_chains_count}\")\n",
    "print(f\"Доля сетей с 1 отзывом: {percentage_chains:.2f}%\")"
   ]
  },
  {
   "cell_type": "markdown",
   "id": "89b83bc0",
   "metadata": {},
   "source": [
    "Так как мало отзывов на организацию очень неинформативно - мнение может быть сильно смещено и оценка необъективна, то мы решили оставить только те отзывы и организации, где reviews_per_organization > 4"
   ]
  },
  {
   "cell_type": "code",
   "execution_count": 444,
   "id": "056e1025",
   "metadata": {},
   "outputs": [
    {
     "data": {
      "text/plain": [
       "72451"
      ]
     },
     "execution_count": 444,
     "metadata": {},
     "output_type": "execute_result"
    }
   ],
   "source": [
    "len(df_new[df_new['reviews_per_organization'] > 2])"
   ]
  },
  {
   "cell_type": "code",
   "execution_count": 445,
   "id": "68d14810",
   "metadata": {},
   "outputs": [
    {
     "data": {
      "text/plain": [
       "48866"
      ]
     },
     "execution_count": 445,
     "metadata": {},
     "output_type": "execute_result"
    }
   ],
   "source": [
    "len(df_new[df_new['reviews_per_organization'] > 4])"
   ]
  },
  {
   "cell_type": "markdown",
   "id": "e65710b2",
   "metadata": {},
   "source": [
    "Решаем оставлять орги, где хотя бы 3 отзыва есть"
   ]
  },
  {
   "cell_type": "code",
   "execution_count": 446,
   "id": "8db5ba0a",
   "metadata": {},
   "outputs": [],
   "source": [
    "df_more_2 = df_new[df_new['reviews_per_organization'] > 2].copy()"
   ]
  },
  {
   "cell_type": "code",
   "execution_count": 447,
   "id": "e0af0c9c",
   "metadata": {},
   "outputs": [
    {
     "name": "stdout",
     "output_type": "stream",
     "text": [
      "Всего уникальных филиалов: 12565\n",
      "Из них с 1 отзывом: 0\n",
      "Доля филиалов с 1 отзывом: 0.00%\n"
     ]
    }
   ],
   "source": [
    "single_review_orgs_count = df_more_2[df_more_2['reviews_per_organization'] == 1]['organization_id'].nunique()\n",
    "total_orgs_count = df_more_2['organization_id'].nunique()\n",
    "percentage_orgs = (single_review_orgs_count / total_orgs_count) * 100\n",
    "\n",
    "print(f\"Всего уникальных филиалов: {total_orgs_count}\")\n",
    "print(f\"Из них с 1 отзывом: {single_review_orgs_count}\")\n",
    "print(f\"Доля филиалов с 1 отзывом: {percentage_orgs:.2f}%\")"
   ]
  },
  {
   "cell_type": "markdown",
   "id": "beb5aa07",
   "metadata": {},
   "source": [
    "Итого остается 12,5к организаций "
   ]
  },
  {
   "cell_type": "code",
   "execution_count": 448,
   "id": "292c134a",
   "metadata": {},
   "outputs": [],
   "source": [
    "df_more_2.to_csv('dataset.csv')"
   ]
  }
 ],
 "metadata": {
  "kernelspec": {
   "display_name": "Python 3",
   "language": "python",
   "name": "python3"
  },
  "language_info": {
   "codemirror_mode": {
    "name": "ipython",
    "version": 3
   },
   "file_extension": ".py",
   "mimetype": "text/x-python",
   "name": "python",
   "nbconvert_exporter": "python",
   "pygments_lexer": "ipython3",
   "version": "3.13.1"
  }
 },
 "nbformat": 4,
 "nbformat_minor": 5
}
